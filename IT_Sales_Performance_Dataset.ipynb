{
  "nbformat": 4,
  "nbformat_minor": 0,
  "metadata": {
    "kernelspec": {
      "display_name": "Python 3",
      "language": "python",
      "name": "python3"
    },
    "language_info": {
      "codemirror_mode": {
        "name": "ipython",
        "version": 3
      },
      "file_extension": ".py",
      "mimetype": "text/x-python",
      "name": "python",
      "nbconvert_exporter": "python",
      "pygments_lexer": "ipython3",
      "version": "3.7.4"
    },
    "colab": {
      "name": "Swivelt -  IT Sales Performance Dataset.ipynb",
      "provenance": [],
      "toc_visible": true
    }
  },
  "cells": [
    {
      "cell_type": "markdown",
      "metadata": {
        "id": "H3LIVrjTuvOS"
      },
      "source": [
        "## **Fatimah binti Mohd Nizam**\n",
        "**Data science Assessment**"
      ]
    },
    {
      "cell_type": "code",
      "metadata": {
        "id": "6Orf8NQOtiy4"
      },
      "source": [
        "import pandas as pd\n",
        "import seaborn as sns\n",
        "import matplotlib.pyplot as plt\n",
        "from sklearn.model_selection import train_test_split\n",
        "from sklearn.linear_model import LinearRegression,Ridge,Lasso\n",
        "import numpy as np\n",
        "from sklearn.metrics import r2_score, mean_squared_error\n"
      ],
      "execution_count": null,
      "outputs": []
    },
    {
      "cell_type": "markdown",
      "metadata": {
        "id": "ysXey4r8tiy_"
      },
      "source": [
        "## Objective\n",
        "\n",
        "1. To analyze the IT sales Performance throughout the year.\n",
        "\n",
        "2. To predict the CustomerOrder feature by using supervised machine learning algorithms.\n",
        "\n",
        "3. To analyze which Companies has the highest purchase of product from the IT department.\n",
        "\n",
        "4. To analyze which products are among the highest purchased product from the IT\n",
        " department.\n",
        "\n",
        "5. To observe the rate of increment for both NetLineDollarPrice and NetOrderDollar Price features.\n"
      ]
    },
    {
      "cell_type": "markdown",
      "metadata": {
        "id": "xXRVafpbtizC"
      },
      "source": [
        "### 1. Data Understanding"
      ]
    },
    {
      "cell_type": "code",
      "metadata": {
        "colab": {
          "base_uri": "https://localhost:8080/"
        },
        "id": "qWf6h5V3tizF",
        "outputId": "ce468784-2812-4dbf-c318-c8af640ab408"
      },
      "source": [
        "#Read the csv file\n",
        "df = pd.read_csv('Sales Data.csv')"
      ],
      "execution_count": null,
      "outputs": [
        {
          "output_type": "stream",
          "text": [
            "/usr/local/lib/python3.6/dist-packages/IPython/core/interactiveshell.py:2718: DtypeWarning:\n",
            "\n",
            "Columns (38,46) have mixed types.Specify dtype option on import or set low_memory=False.\n",
            "\n"
          ],
          "name": "stderr"
        }
      ]
    },
    {
      "cell_type": "code",
      "metadata": {
        "colab": {
          "base_uri": "https://localhost:8080/"
        },
        "id": "R_GC13oMtizI",
        "outputId": "59c4d0fa-cae4-4ff1-9351-f71eef34f9c9"
      },
      "source": [
        "#Observe the dataset\n",
        "df"
      ],
      "execution_count": null,
      "outputs": [
        {
          "output_type": "execute_result",
          "data": {
            "text/html": [
              "<div>\n",
              "<style scoped>\n",
              "    .dataframe tbody tr th:only-of-type {\n",
              "        vertical-align: middle;\n",
              "    }\n",
              "\n",
              "    .dataframe tbody tr th {\n",
              "        vertical-align: top;\n",
              "    }\n",
              "\n",
              "    .dataframe thead th {\n",
              "        text-align: right;\n",
              "    }\n",
              "</style>\n",
              "<table border=\"1\" class=\"dataframe\">\n",
              "  <thead>\n",
              "    <tr style=\"text-align: right;\">\n",
              "      <th></th>\n",
              "      <th>PurchaseOrderDate</th>\n",
              "      <th>PurchaseOrderNo</th>\n",
              "      <th>PurchasingAgent</th>\n",
              "      <th>ProductLineCode</th>\n",
              "      <th>ProductLineDescription</th>\n",
              "      <th>ProductLines</th>\n",
              "      <th>ProductNumber</th>\n",
              "      <th>NetLineDollarPrice</th>\n",
              "      <th>NetOrderDollarPrice</th>\n",
              "      <th>OrderedQuantity</th>\n",
              "      <th>TeleWebAgentID</th>\n",
              "      <th>SalesRep</th>\n",
              "      <th>WebOrderNo</th>\n",
              "      <th>CatalogID</th>\n",
              "      <th>CatalogName</th>\n",
              "      <th>InvoiceDate</th>\n",
              "      <th>InvoiceNo</th>\n",
              "      <th>InvoiceStatus</th>\n",
              "      <th>InvoiceToAddr</th>\n",
              "      <th>Status</th>\n",
              "      <th>CustomerName</th>\n",
              "      <th>TeleWebAgentName</th>\n",
              "      <th>BusinessUnit</th>\n",
              "      <th>SAPSalesOrderNoMfgSO</th>\n",
              "      <th>ProductDescription</th>\n",
              "      <th>EAD</th>\n",
              "      <th>SoldToAttentionEmail</th>\n",
              "      <th>SoldToAttentionPhone</th>\n",
              "      <th>SoldToAddr</th>\n",
              "      <th>NetInvoiceLineDollarPrice</th>\n",
              "      <th>xypOrderNo</th>\n",
              "      <th>ShipToAddr1</th>\n",
              "      <th>ShipToAddr2</th>\n",
              "      <th>ShipToAddr3</th>\n",
              "      <th>ShipToAddr4</th>\n",
              "      <th>ShipToAddr5</th>\n",
              "      <th>PaymentMethod</th>\n",
              "      <th>PaymentMethodDescription</th>\n",
              "      <th>PaymentReceiveDate</th>\n",
              "      <th>PaymentTerms</th>\n",
              "      <th>PaymentTermsDescription</th>\n",
              "      <th>CustomerOrder</th>\n",
              "      <th>xypCustomerNumber</th>\n",
              "      <th>VendorName</th>\n",
              "      <th>VendorPOMfgSO</th>\n",
              "      <th>NetOptionDollarPrice</th>\n",
              "      <th>ShipDate</th>\n",
              "    </tr>\n",
              "  </thead>\n",
              "  <tbody>\n",
              "    <tr>\n",
              "      <th>0</th>\n",
              "      <td>15/5/2017</td>\n",
              "      <td>PO 94464</td>\n",
              "      <td>CSC</td>\n",
              "      <td>9R</td>\n",
              "      <td>PC Configuration Services</td>\n",
              "      <td>7F 8W 9F 9R AN BO MP</td>\n",
              "      <td>ZG229AV</td>\n",
              "      <td>0.0</td>\n",
              "      <td>0.00</td>\n",
              "      <td>1</td>\n",
              "      <td>NaN</td>\n",
              "      <td>GRACE.HUI.PING.SOO@companyx.com</td>\n",
              "      <td>SCPO757686</td>\n",
              "      <td>NaN</td>\n",
              "      <td>NaN</td>\n",
              "      <td>14/3/2018</td>\n",
              "      <td>68FI108034</td>\n",
              "      <td>FI</td>\n",
              "      <td>Hon Mun NgMaxell Tohshin (M) Sdn Bhd Lot 1, Ba...</td>\n",
              "      <td>Processing</td>\n",
              "      <td>Hon Mun Ng</td>\n",
              "      <td>Shawne Kee</td>\n",
              "      <td>PPS</td>\n",
              "      <td>70661890</td>\n",
              "      <td>LOC W10P6 A/P</td>\n",
              "      <td>NaN</td>\n",
              "      <td>NaN</td>\n",
              "      <td>906 284 1518</td>\n",
              "      <td>Hon Mun NgMaxell Tohshin (M) Sdn Bhd Lot 1, Ba...</td>\n",
              "      <td>NaN</td>\n",
              "      <td>686M61890706</td>\n",
              "      <td>Hon Mun Ng</td>\n",
              "      <td>Maxell Tohshin (M) Sdn Bhd</td>\n",
              "      <td>Lot 1, Batu Berendam</td>\n",
              "      <td>Free Trade Zone III,</td>\n",
              "      <td>75350 BATU BERENDAM</td>\n",
              "      <td>Wire</td>\n",
              "      <td>Wire</td>\n",
              "      <td>NaN</td>\n",
              "      <td>DCIA</td>\n",
              "      <td>Cash in Advance</td>\n",
              "      <td>N</td>\n",
              "      <td>680099502.0</td>\n",
              "      <td>Inventec CQ</td>\n",
              "      <td>NaN</td>\n",
              "      <td>179.06</td>\n",
              "      <td>NaN</td>\n",
              "    </tr>\n",
              "    <tr>\n",
              "      <th>1</th>\n",
              "      <td>15/5/2017</td>\n",
              "      <td>PO 94464</td>\n",
              "      <td>CSC</td>\n",
              "      <td>9R</td>\n",
              "      <td>PC Configuration Services</td>\n",
              "      <td>7F 8W 9F 9R AN BO MP</td>\n",
              "      <td>ZG229AV</td>\n",
              "      <td>0.0</td>\n",
              "      <td>0.00</td>\n",
              "      <td>1</td>\n",
              "      <td>NaN</td>\n",
              "      <td>GRACE.HUI.PING.SOO@companyx.com</td>\n",
              "      <td>SCPO757686</td>\n",
              "      <td>NaN</td>\n",
              "      <td>NaN</td>\n",
              "      <td>14/3/2018</td>\n",
              "      <td>68FI108034</td>\n",
              "      <td>FI</td>\n",
              "      <td>Hon Mun NgMaxell Tohshin (M) Sdn Bhd Lot 1, Ba...</td>\n",
              "      <td>Processing</td>\n",
              "      <td>Hon Mun Ng</td>\n",
              "      <td>Shawne Kee</td>\n",
              "      <td>PPS</td>\n",
              "      <td>70661890</td>\n",
              "      <td>LOC W10P6 A/P</td>\n",
              "      <td>NaN</td>\n",
              "      <td>NaN</td>\n",
              "      <td>906 284 1518</td>\n",
              "      <td>Hon Mun NgMaxell Tohshin (M) Sdn Bhd Lot 1, Ba...</td>\n",
              "      <td>NaN</td>\n",
              "      <td>686M61890706</td>\n",
              "      <td>Hon Mun Ng</td>\n",
              "      <td>Maxell Tohshin (M) Sdn Bhd</td>\n",
              "      <td>Lot 1, Batu Berendam</td>\n",
              "      <td>Free Trade Zone III,</td>\n",
              "      <td>75350 BATU BERENDAM</td>\n",
              "      <td>Wire</td>\n",
              "      <td>Wire</td>\n",
              "      <td>NaN</td>\n",
              "      <td>DCIA</td>\n",
              "      <td>Cash in Advance</td>\n",
              "      <td>N</td>\n",
              "      <td>680099502.0</td>\n",
              "      <td>Inventec CQ</td>\n",
              "      <td>NaN</td>\n",
              "      <td>-35.52</td>\n",
              "      <td>NaN</td>\n",
              "    </tr>\n",
              "    <tr>\n",
              "      <th>2</th>\n",
              "      <td>5/1/2018</td>\n",
              "      <td>JV2017/000058</td>\n",
              "      <td>CSC</td>\n",
              "      <td>8J</td>\n",
              "      <td>Detachables</td>\n",
              "      <td>8J 8N 8W MG</td>\n",
              "      <td>Z9Y75AV</td>\n",
              "      <td>0.0</td>\n",
              "      <td>0.00</td>\n",
              "      <td>6</td>\n",
              "      <td>yeon-yee.ooi@companyx.com</td>\n",
              "      <td>YEON-YEE.OOI@companyx.com</td>\n",
              "      <td>SCPO825227</td>\n",
              "      <td>CAT-719677</td>\n",
              "      <td>NaN</td>\n",
              "      <td>14/3/2018</td>\n",
              "      <td>68FI108034</td>\n",
              "      <td>FI</td>\n",
              "      <td>Hon Mun NgMaxell Tohshin (M) Sdn Bhd Lot 1, Ba...</td>\n",
              "      <td>Processing</td>\n",
              "      <td>Hon Mun Ng</td>\n",
              "      <td>Shawne Kee</td>\n",
              "      <td>PPS</td>\n",
              "      <td>70661890</td>\n",
              "      <td>LOC W10P6 A/P</td>\n",
              "      <td>NaN</td>\n",
              "      <td>NaN</td>\n",
              "      <td>906 284 1518</td>\n",
              "      <td>Hon Mun NgMaxell Tohshin (M) Sdn Bhd Lot 1, Ba...</td>\n",
              "      <td>NaN</td>\n",
              "      <td>686M61890706</td>\n",
              "      <td>Hon Mun Ng</td>\n",
              "      <td>Maxell Tohshin (M) Sdn Bhd</td>\n",
              "      <td>Lot 1, Batu Berendam</td>\n",
              "      <td>Free Trade Zone III,</td>\n",
              "      <td>75350 BATU BERENDAM</td>\n",
              "      <td>Wire</td>\n",
              "      <td>Wire</td>\n",
              "      <td>NaN</td>\n",
              "      <td>DCIA</td>\n",
              "      <td>Cash in Advance</td>\n",
              "      <td>N</td>\n",
              "      <td>680099502.0</td>\n",
              "      <td>Inventec CQ</td>\n",
              "      <td>NaN</td>\n",
              "      <td>0.00</td>\n",
              "      <td>NaN</td>\n",
              "    </tr>\n",
              "    <tr>\n",
              "      <th>3</th>\n",
              "      <td>5/1/2018</td>\n",
              "      <td>JV2017/000058</td>\n",
              "      <td>CSC</td>\n",
              "      <td>8J</td>\n",
              "      <td>Detachables</td>\n",
              "      <td>8J 8N 8W MG</td>\n",
              "      <td>Z9Y75AV</td>\n",
              "      <td>0.0</td>\n",
              "      <td>0.00</td>\n",
              "      <td>6</td>\n",
              "      <td>yeon-yee.ooi@companyx.com</td>\n",
              "      <td>YEON-YEE.OOI@companyx.com</td>\n",
              "      <td>SCPO825227</td>\n",
              "      <td>CAT-719677</td>\n",
              "      <td>NaN</td>\n",
              "      <td>14/3/2018</td>\n",
              "      <td>68FI108034</td>\n",
              "      <td>FI</td>\n",
              "      <td>Hon Mun NgMaxell Tohshin (M) Sdn Bhd Lot 1, Ba...</td>\n",
              "      <td>Processing</td>\n",
              "      <td>Hon Mun Ng</td>\n",
              "      <td>Shawne Kee</td>\n",
              "      <td>PPS</td>\n",
              "      <td>70661890</td>\n",
              "      <td>Integrated HD 720p DM Webcam</td>\n",
              "      <td>NaN</td>\n",
              "      <td>NaN</td>\n",
              "      <td>906 284 1518</td>\n",
              "      <td>Hon Mun NgMaxell Tohshin (M) Sdn Bhd Lot 1, Ba...</td>\n",
              "      <td>NaN</td>\n",
              "      <td>686M61890706</td>\n",
              "      <td>Hon Mun Ng</td>\n",
              "      <td>Maxell Tohshin (M) Sdn Bhd</td>\n",
              "      <td>Lot 1, Batu Berendam</td>\n",
              "      <td>Free Trade Zone III,</td>\n",
              "      <td>75350 BATU BERENDAM</td>\n",
              "      <td>Wire</td>\n",
              "      <td>Wire</td>\n",
              "      <td>NaN</td>\n",
              "      <td>DCIA</td>\n",
              "      <td>Cash in Advance</td>\n",
              "      <td>N</td>\n",
              "      <td>680099502.0</td>\n",
              "      <td>Inventec CQ</td>\n",
              "      <td>NaN</td>\n",
              "      <td>5.98</td>\n",
              "      <td>NaN</td>\n",
              "    </tr>\n",
              "    <tr>\n",
              "      <th>4</th>\n",
              "      <td>5/1/2018</td>\n",
              "      <td>JV2017/000058</td>\n",
              "      <td>CSC</td>\n",
              "      <td>8J</td>\n",
              "      <td>Detachables</td>\n",
              "      <td>8J 8N MG</td>\n",
              "      <td>Z9Y75AV</td>\n",
              "      <td>0.0</td>\n",
              "      <td>6585.37</td>\n",
              "      <td>6</td>\n",
              "      <td>NaN</td>\n",
              "      <td>YEON-YEE.OOI@companyx.com</td>\n",
              "      <td>SCPO825227</td>\n",
              "      <td>NaN</td>\n",
              "      <td>NaN</td>\n",
              "      <td>14/3/2018</td>\n",
              "      <td>68FI108034</td>\n",
              "      <td>FI</td>\n",
              "      <td>Hon Mun NgMaxell Tohshin (M) Sdn Bhd Lot 1, Ba...</td>\n",
              "      <td>Processing</td>\n",
              "      <td>Hon Mun Ng</td>\n",
              "      <td>Shawne Kee</td>\n",
              "      <td>PPS</td>\n",
              "      <td>70661890</td>\n",
              "      <td>Integrated HD 720p DM Webcam</td>\n",
              "      <td>NaN</td>\n",
              "      <td>NaN</td>\n",
              "      <td>906 284 1518</td>\n",
              "      <td>Hon Mun NgMaxell Tohshin (M) Sdn Bhd Lot 1, Ba...</td>\n",
              "      <td>NaN</td>\n",
              "      <td>686M61890706</td>\n",
              "      <td>Hon Mun Ng</td>\n",
              "      <td>Maxell Tohshin (M) Sdn Bhd</td>\n",
              "      <td>Lot 1, Batu Berendam</td>\n",
              "      <td>Free Trade Zone III,</td>\n",
              "      <td>75350 BATU BERENDAM</td>\n",
              "      <td>Wire</td>\n",
              "      <td>Wire</td>\n",
              "      <td>NaN</td>\n",
              "      <td>DCIA</td>\n",
              "      <td>Cash in Advance</td>\n",
              "      <td>N</td>\n",
              "      <td>680099502.0</td>\n",
              "      <td>Inventec CQ</td>\n",
              "      <td>NaN</td>\n",
              "      <td>-1.19</td>\n",
              "      <td>NaN</td>\n",
              "    </tr>\n",
              "    <tr>\n",
              "      <th>...</th>\n",
              "      <td>...</td>\n",
              "      <td>...</td>\n",
              "      <td>...</td>\n",
              "      <td>...</td>\n",
              "      <td>...</td>\n",
              "      <td>...</td>\n",
              "      <td>...</td>\n",
              "      <td>...</td>\n",
              "      <td>...</td>\n",
              "      <td>...</td>\n",
              "      <td>...</td>\n",
              "      <td>...</td>\n",
              "      <td>...</td>\n",
              "      <td>...</td>\n",
              "      <td>...</td>\n",
              "      <td>...</td>\n",
              "      <td>...</td>\n",
              "      <td>...</td>\n",
              "      <td>...</td>\n",
              "      <td>...</td>\n",
              "      <td>...</td>\n",
              "      <td>...</td>\n",
              "      <td>...</td>\n",
              "      <td>...</td>\n",
              "      <td>...</td>\n",
              "      <td>...</td>\n",
              "      <td>...</td>\n",
              "      <td>...</td>\n",
              "      <td>...</td>\n",
              "      <td>...</td>\n",
              "      <td>...</td>\n",
              "      <td>...</td>\n",
              "      <td>...</td>\n",
              "      <td>...</td>\n",
              "      <td>...</td>\n",
              "      <td>...</td>\n",
              "      <td>...</td>\n",
              "      <td>...</td>\n",
              "      <td>...</td>\n",
              "      <td>...</td>\n",
              "      <td>...</td>\n",
              "      <td>...</td>\n",
              "      <td>...</td>\n",
              "      <td>...</td>\n",
              "      <td>...</td>\n",
              "      <td>...</td>\n",
              "      <td>...</td>\n",
              "    </tr>\n",
              "    <tr>\n",
              "      <th>59373</th>\n",
              "      <td>22/8/2017</td>\n",
              "      <td>SG 1084</td>\n",
              "      <td>CSC</td>\n",
              "      <td>GA</td>\n",
              "      <td>Commercial Desktops L10 Value</td>\n",
              "      <td>7F 8W BO GA MP</td>\n",
              "      <td>1AB33AV</td>\n",
              "      <td>0.0</td>\n",
              "      <td>2957.14</td>\n",
              "      <td>2</td>\n",
              "      <td>NaN</td>\n",
              "      <td>GRACE.HUI.PING.SOO@companyx.com</td>\n",
              "      <td>SCPO786084</td>\n",
              "      <td>NaN</td>\n",
              "      <td>NaN</td>\n",
              "      <td>6/6/2017</td>\n",
              "      <td>75FI478721</td>\n",
              "      <td>FI</td>\n",
              "      <td>Ke-Heam PexypQ Engineering Pte Ltd18 Enterpris...</td>\n",
              "      <td>Shipped</td>\n",
              "      <td>Ke-Heam Peh</td>\n",
              "      <td>Chun Way Lee</td>\n",
              "      <td>PPS</td>\n",
              "      <td>317318751</td>\n",
              "      <td>McAfee Internet Security E Card</td>\n",
              "      <td>31/5/2017</td>\n",
              "      <td>NaN</td>\n",
              "      <td>98329099</td>\n",
              "      <td>Ke-Heam PexypQ Engineering Pte Ltd18 Enterpris...</td>\n",
              "      <td>NaN</td>\n",
              "      <td>758S18751373</td>\n",
              "      <td>Ke-Heam Peh</td>\n",
              "      <td>PQ Engineering Pte Ltd</td>\n",
              "      <td>18 Enterprise Road</td>\n",
              "      <td>NaN</td>\n",
              "      <td>629824 SINGAPORE</td>\n",
              "      <td>CreditCard</td>\n",
              "      <td>CreditCard</td>\n",
              "      <td>NaN</td>\n",
              "      <td>ZAME</td>\n",
              "      <td>Credit Card</td>\n",
              "      <td>Y</td>\n",
              "      <td>750099500.0</td>\n",
              "      <td>APJ FF Ship Point SG</td>\n",
              "      <td>7540078624</td>\n",
              "      <td>26.04</td>\n",
              "      <td>NaN</td>\n",
              "    </tr>\n",
              "    <tr>\n",
              "      <th>59374</th>\n",
              "      <td>22/8/2017</td>\n",
              "      <td>SG 1084</td>\n",
              "      <td>CSC</td>\n",
              "      <td>GA</td>\n",
              "      <td>Commercial Desktops L10 Value</td>\n",
              "      <td>7F 8W BO GA MP</td>\n",
              "      <td>1AB33AV</td>\n",
              "      <td>0.0</td>\n",
              "      <td>0.00</td>\n",
              "      <td>2</td>\n",
              "      <td>NaN</td>\n",
              "      <td>GRACE.HUI.PING.SOO@companyx.com</td>\n",
              "      <td>SCPO786084</td>\n",
              "      <td>NaN</td>\n",
              "      <td>NaN</td>\n",
              "      <td>6/6/2017</td>\n",
              "      <td>75FI478721</td>\n",
              "      <td>FI</td>\n",
              "      <td>Ke-Heam PexypQ Engineering Pte Ltd18 Enterpris...</td>\n",
              "      <td>Shipped</td>\n",
              "      <td>Ke-Heam Peh</td>\n",
              "      <td>Chun Way Lee</td>\n",
              "      <td>PPS</td>\n",
              "      <td>317318751</td>\n",
              "      <td>McAfee Internet Security E Card</td>\n",
              "      <td>31/5/2017</td>\n",
              "      <td>NaN</td>\n",
              "      <td>98329099</td>\n",
              "      <td>Ke-Heam PexypQ Engineering Pte Ltd18 Enterpris...</td>\n",
              "      <td>NaN</td>\n",
              "      <td>758S18751373</td>\n",
              "      <td>Ke-Heam Peh</td>\n",
              "      <td>PQ Engineering Pte Ltd</td>\n",
              "      <td>18 Enterprise Road</td>\n",
              "      <td>NaN</td>\n",
              "      <td>629824 SINGAPORE</td>\n",
              "      <td>CreditCard</td>\n",
              "      <td>CreditCard</td>\n",
              "      <td>NaN</td>\n",
              "      <td>ZAME</td>\n",
              "      <td>Credit Card</td>\n",
              "      <td>Y</td>\n",
              "      <td>750099500.0</td>\n",
              "      <td>APJ FF Ship Point SG</td>\n",
              "      <td>7540078624</td>\n",
              "      <td>-8.31</td>\n",
              "      <td>NaN</td>\n",
              "    </tr>\n",
              "    <tr>\n",
              "      <th>59375</th>\n",
              "      <td>22/8/2017</td>\n",
              "      <td>SG 1084</td>\n",
              "      <td>CSC</td>\n",
              "      <td>GA</td>\n",
              "      <td>Commercial Desktops L10 Value</td>\n",
              "      <td>7F 8W BO GA MP</td>\n",
              "      <td>1AB33AV</td>\n",
              "      <td>0.0</td>\n",
              "      <td>2957.14</td>\n",
              "      <td>2</td>\n",
              "      <td>NaN</td>\n",
              "      <td>GRACE.HUI.PING.SOO@companyx.com</td>\n",
              "      <td>SCPO786084</td>\n",
              "      <td>NaN</td>\n",
              "      <td>NaN</td>\n",
              "      <td>6/6/2017</td>\n",
              "      <td>75FI478721</td>\n",
              "      <td>FI</td>\n",
              "      <td>Ke-Heam PexypQ Engineering Pte Ltd18 Enterpris...</td>\n",
              "      <td>Shipped</td>\n",
              "      <td>Ke-Heam Peh</td>\n",
              "      <td>Chun Way Lee</td>\n",
              "      <td>PPS</td>\n",
              "      <td>317318751</td>\n",
              "      <td>xyp 15.6 Value Top Load A/P</td>\n",
              "      <td>31/5/2017</td>\n",
              "      <td>NaN</td>\n",
              "      <td>98329099</td>\n",
              "      <td>Ke-Heam PexypQ Engineering Pte Ltd18 Enterpris...</td>\n",
              "      <td>NaN</td>\n",
              "      <td>758S18751373</td>\n",
              "      <td>Ke-Heam Peh</td>\n",
              "      <td>PQ Engineering Pte Ltd</td>\n",
              "      <td>18 Enterprise Road</td>\n",
              "      <td>NaN</td>\n",
              "      <td>629824 SINGAPORE</td>\n",
              "      <td>CreditCard</td>\n",
              "      <td>CreditCard</td>\n",
              "      <td>NaN</td>\n",
              "      <td>ZAME</td>\n",
              "      <td>Credit Card</td>\n",
              "      <td>Y</td>\n",
              "      <td>750099500.0</td>\n",
              "      <td>APJ FF Ship Point SG</td>\n",
              "      <td>7540078624</td>\n",
              "      <td>19.36</td>\n",
              "      <td>NaN</td>\n",
              "    </tr>\n",
              "    <tr>\n",
              "      <th>59376</th>\n",
              "      <td>22/8/2017</td>\n",
              "      <td>SG 1084</td>\n",
              "      <td>CSC</td>\n",
              "      <td>GA</td>\n",
              "      <td>Commercial Desktops L10 Value</td>\n",
              "      <td>7F 8W BO GA MP</td>\n",
              "      <td>1AB33AV</td>\n",
              "      <td>0.0</td>\n",
              "      <td>2957.14</td>\n",
              "      <td>2</td>\n",
              "      <td>NaN</td>\n",
              "      <td>GRACE.HUI.PING.SOO@companyx.com</td>\n",
              "      <td>SCPO786084</td>\n",
              "      <td>NaN</td>\n",
              "      <td>NaN</td>\n",
              "      <td>6/6/2017</td>\n",
              "      <td>75FI478721</td>\n",
              "      <td>FI</td>\n",
              "      <td>Ke-Heam PexypQ Engineering Pte Ltd18 Enterpris...</td>\n",
              "      <td>Shipped</td>\n",
              "      <td>Ke-Heam Peh</td>\n",
              "      <td>Chun Way Lee</td>\n",
              "      <td>PPS</td>\n",
              "      <td>317318751</td>\n",
              "      <td>xyp 15.6 Value Top Load A/P</td>\n",
              "      <td>31/5/2017</td>\n",
              "      <td>NaN</td>\n",
              "      <td>98329099</td>\n",
              "      <td>Ke-Heam PexypQ Engineering Pte Ltd18 Enterpris...</td>\n",
              "      <td>NaN</td>\n",
              "      <td>758S18751373</td>\n",
              "      <td>Ke-Heam Peh</td>\n",
              "      <td>PQ Engineering Pte Ltd</td>\n",
              "      <td>18 Enterprise Road</td>\n",
              "      <td>NaN</td>\n",
              "      <td>629824 SINGAPORE</td>\n",
              "      <td>CreditCard</td>\n",
              "      <td>CreditCard</td>\n",
              "      <td>NaN</td>\n",
              "      <td>ZAME</td>\n",
              "      <td>Credit Card</td>\n",
              "      <td>Y</td>\n",
              "      <td>750099500.0</td>\n",
              "      <td>APJ FF Ship Point SG</td>\n",
              "      <td>7540078624</td>\n",
              "      <td>0.00</td>\n",
              "      <td>NaN</td>\n",
              "    </tr>\n",
              "    <tr>\n",
              "      <th>59377</th>\n",
              "      <td>22/8/2017</td>\n",
              "      <td>SG 1084</td>\n",
              "      <td>CSC</td>\n",
              "      <td>GA</td>\n",
              "      <td>Commercial Desktops L10 Value</td>\n",
              "      <td>7F 8W BO GA MP</td>\n",
              "      <td>1AB33AV</td>\n",
              "      <td>0.0</td>\n",
              "      <td>0.00</td>\n",
              "      <td>2</td>\n",
              "      <td>NaN</td>\n",
              "      <td>GRACE.HUI.PING.SOO@companyx.com</td>\n",
              "      <td>SCPO786084</td>\n",
              "      <td>NaN</td>\n",
              "      <td>NaN</td>\n",
              "      <td>6/6/2017</td>\n",
              "      <td>75FI478721</td>\n",
              "      <td>FI</td>\n",
              "      <td>Ke-Heam PexypQ Engineering Pte Ltd18 Enterpris...</td>\n",
              "      <td>Shipped</td>\n",
              "      <td>Ke-Heam Peh</td>\n",
              "      <td>Chun Way Lee</td>\n",
              "      <td>PPS</td>\n",
              "      <td>317318751</td>\n",
              "      <td>xyp 15.6 Value Top Load A/P</td>\n",
              "      <td>31/5/2017</td>\n",
              "      <td>NaN</td>\n",
              "      <td>98329099</td>\n",
              "      <td>Ke-Heam PexypQ Engineering Pte Ltd18 Enterpris...</td>\n",
              "      <td>NaN</td>\n",
              "      <td>758S18751373</td>\n",
              "      <td>Ke-Heam Peh</td>\n",
              "      <td>PQ Engineering Pte Ltd</td>\n",
              "      <td>18 Enterprise Road</td>\n",
              "      <td>NaN</td>\n",
              "      <td>629824 SINGAPORE</td>\n",
              "      <td>CreditCard</td>\n",
              "      <td>CreditCard</td>\n",
              "      <td>NaN</td>\n",
              "      <td>ZAME</td>\n",
              "      <td>Credit Card</td>\n",
              "      <td>Y</td>\n",
              "      <td>750099500.0</td>\n",
              "      <td>APJ FF Ship Point SG</td>\n",
              "      <td>7540078624</td>\n",
              "      <td>-6.18</td>\n",
              "      <td>NaN</td>\n",
              "    </tr>\n",
              "  </tbody>\n",
              "</table>\n",
              "<p>59378 rows × 47 columns</p>\n",
              "</div>"
            ],
            "text/plain": [
              "      PurchaseOrderDate PurchaseOrderNo  ... NetOptionDollarPrice ShipDate\n",
              "0             15/5/2017        PO 94464  ...               179.06      NaN\n",
              "1             15/5/2017        PO 94464  ...               -35.52      NaN\n",
              "2              5/1/2018   JV2017/000058  ...                 0.00      NaN\n",
              "3              5/1/2018   JV2017/000058  ...                 5.98      NaN\n",
              "4              5/1/2018   JV2017/000058  ...                -1.19      NaN\n",
              "...                 ...             ...  ...                  ...      ...\n",
              "59373         22/8/2017         SG 1084  ...                26.04      NaN\n",
              "59374         22/8/2017         SG 1084  ...                -8.31      NaN\n",
              "59375         22/8/2017         SG 1084  ...                19.36      NaN\n",
              "59376         22/8/2017         SG 1084  ...                 0.00      NaN\n",
              "59377         22/8/2017         SG 1084  ...                -6.18      NaN\n",
              "\n",
              "[59378 rows x 47 columns]"
            ]
          },
          "metadata": {
            "tags": []
          },
          "execution_count": 69
        }
      ]
    },
    {
      "cell_type": "code",
      "metadata": {
        "colab": {
          "base_uri": "https://localhost:8080/"
        },
        "id": "xcyTCaJJtizM",
        "outputId": "effd90b2-98a1-409e-cd22-913bd0e3b5cd"
      },
      "source": [
        "#to see on how many features and observations in the dataset\n",
        "df.shape"
      ],
      "execution_count": null,
      "outputs": [
        {
          "output_type": "execute_result",
          "data": {
            "text/plain": [
              "(59378, 47)"
            ]
          },
          "metadata": {
            "tags": []
          },
          "execution_count": 70
        }
      ]
    },
    {
      "cell_type": "code",
      "metadata": {
        "colab": {
          "base_uri": "https://localhost:8080/"
        },
        "id": "2fiiikWItizP",
        "outputId": "2add45c5-a8ca-4c51-e535-2a03c84e74e0"
      },
      "source": [
        "# count how many data available\n",
        "df.count()"
      ],
      "execution_count": null,
      "outputs": [
        {
          "output_type": "execute_result",
          "data": {
            "text/plain": [
              "PurchaseOrderDate            59378\n",
              "PurchaseOrderNo              59378\n",
              "PurchasingAgent              58560\n",
              "ProductLineCode              58560\n",
              "ProductLineDescription       58520\n",
              "ProductLines                 59378\n",
              "ProductNumber                59378\n",
              "NetLineDollarPrice           59378\n",
              "NetOrderDollarPrice          59378\n",
              "OrderedQuantity              59378\n",
              "TeleWebAgentID               52180\n",
              "SalesRep                     59378\n",
              "WebOrderNo                   59378\n",
              "CatalogID                    51908\n",
              "CatalogName                    390\n",
              "InvoiceDate                  48420\n",
              "InvoiceNo                    48420\n",
              "InvoiceStatus                59378\n",
              "InvoiceToAddr                59378\n",
              "Status                       59378\n",
              "CustomerName                 59378\n",
              "TeleWebAgentName             51796\n",
              "BusinessUnit                 58520\n",
              "SAPSalesOrderNoMfgSO         58988\n",
              "ProductDescription           59368\n",
              "EAD                          47064\n",
              "SoldToAttentionEmail           250\n",
              "SoldToAttentionPhone         58798\n",
              "SoldToAddr                   59136\n",
              "NetInvoiceLineDollarPrice        0\n",
              "xypOrderNo                   59378\n",
              "ShipToAddr1                  59348\n",
              "ShipToAddr2                  59378\n",
              "ShipToAddr3                  57908\n",
              "ShipToAddr4                  51060\n",
              "ShipToAddr5                  59378\n",
              "PaymentMethod                52180\n",
              "PaymentMethodDescription     52180\n",
              "PaymentReceiveDate             384\n",
              "PaymentTerms                 58864\n",
              "PaymentTermsDescription      58988\n",
              "CustomerOrder                59378\n",
              "xypCustomerNumber            58960\n",
              "VendorName                   53154\n",
              "VendorPOMfgSO                24860\n",
              "NetOptionDollarPrice         59368\n",
              "ShipDate                     19682\n",
              "dtype: int64"
            ]
          },
          "metadata": {
            "tags": []
          },
          "execution_count": 71
        }
      ]
    },
    {
      "cell_type": "code",
      "metadata": {
        "colab": {
          "base_uri": "https://localhost:8080/"
        },
        "id": "hVRulfkWtizS",
        "outputId": "bb228e5e-e8f2-44a5-9b8a-831a4f3e81e4"
      },
      "source": [
        "# To get more information regarding the dataset.\n",
        "df.info()"
      ],
      "execution_count": null,
      "outputs": [
        {
          "output_type": "stream",
          "text": [
            "<class 'pandas.core.frame.DataFrame'>\n",
            "RangeIndex: 59378 entries, 0 to 59377\n",
            "Data columns (total 47 columns):\n",
            " #   Column                     Non-Null Count  Dtype  \n",
            "---  ------                     --------------  -----  \n",
            " 0   PurchaseOrderDate          59378 non-null  object \n",
            " 1   PurchaseOrderNo            59378 non-null  object \n",
            " 2   PurchasingAgent            58560 non-null  object \n",
            " 3   ProductLineCode            58560 non-null  object \n",
            " 4   ProductLineDescription     58520 non-null  object \n",
            " 5   ProductLines               59378 non-null  object \n",
            " 6   ProductNumber              59378 non-null  object \n",
            " 7   NetLineDollarPrice         59378 non-null  float64\n",
            " 8   NetOrderDollarPrice        59378 non-null  float64\n",
            " 9   OrderedQuantity            59378 non-null  int64  \n",
            " 10  TeleWebAgentID             52180 non-null  object \n",
            " 11  SalesRep                   59378 non-null  object \n",
            " 12  WebOrderNo                 59378 non-null  object \n",
            " 13  CatalogID                  51908 non-null  object \n",
            " 14  CatalogName                390 non-null    object \n",
            " 15  InvoiceDate                48420 non-null  object \n",
            " 16  InvoiceNo                  48420 non-null  object \n",
            " 17  InvoiceStatus              59378 non-null  object \n",
            " 18  InvoiceToAddr              59378 non-null  object \n",
            " 19  Status                     59378 non-null  object \n",
            " 20  CustomerName               59378 non-null  object \n",
            " 21  TeleWebAgentName           51796 non-null  object \n",
            " 22  BusinessUnit               58520 non-null  object \n",
            " 23  SAPSalesOrderNoMfgSO       58988 non-null  object \n",
            " 24  ProductDescription         59368 non-null  object \n",
            " 25  EAD                        47064 non-null  object \n",
            " 26  SoldToAttentionEmail       250 non-null    object \n",
            " 27  SoldToAttentionPhone       58798 non-null  object \n",
            " 28  SoldToAddr                 59136 non-null  object \n",
            " 29  NetInvoiceLineDollarPrice  0 non-null      float64\n",
            " 30  xypOrderNo                 59378 non-null  object \n",
            " 31  ShipToAddr1                59348 non-null  object \n",
            " 32  ShipToAddr2                59378 non-null  object \n",
            " 33  ShipToAddr3                57908 non-null  object \n",
            " 34  ShipToAddr4                51060 non-null  object \n",
            " 35  ShipToAddr5                59378 non-null  object \n",
            " 36  PaymentMethod              52180 non-null  object \n",
            " 37  PaymentMethodDescription   52180 non-null  object \n",
            " 38  PaymentReceiveDate         384 non-null    object \n",
            " 39  PaymentTerms               58864 non-null  object \n",
            " 40  PaymentTermsDescription    58988 non-null  object \n",
            " 41  CustomerOrder              59378 non-null  object \n",
            " 42  xypCustomerNumber          58960 non-null  float64\n",
            " 43  VendorName                 53154 non-null  object \n",
            " 44  VendorPOMfgSO              24860 non-null  object \n",
            " 45  NetOptionDollarPrice       59368 non-null  float64\n",
            " 46  ShipDate                   19682 non-null  object \n",
            "dtypes: float64(5), int64(1), object(41)\n",
            "memory usage: 21.3+ MB\n"
          ],
          "name": "stdout"
        }
      ]
    },
    {
      "cell_type": "markdown",
      "metadata": {
        "id": "LCBymZ6RtizV"
      },
      "source": [
        "## 2. Data Cleansing"
      ]
    },
    {
      "cell_type": "code",
      "metadata": {
        "colab": {
          "base_uri": "https://localhost:8080/"
        },
        "id": "-mg1fAy2tizW",
        "outputId": "c039cff1-31e1-466c-8e34-f3d5a3d5d0fa"
      },
      "source": [
        "# to check how many missing values in the feature\n",
        "df.isnull().sum()"
      ],
      "execution_count": null,
      "outputs": [
        {
          "output_type": "execute_result",
          "data": {
            "text/plain": [
              "PurchaseOrderDate                0\n",
              "PurchaseOrderNo                  0\n",
              "PurchasingAgent                818\n",
              "ProductLineCode                818\n",
              "ProductLineDescription         858\n",
              "ProductLines                     0\n",
              "ProductNumber                    0\n",
              "NetLineDollarPrice               0\n",
              "NetOrderDollarPrice              0\n",
              "OrderedQuantity                  0\n",
              "TeleWebAgentID                7198\n",
              "SalesRep                         0\n",
              "WebOrderNo                       0\n",
              "CatalogID                     7470\n",
              "CatalogName                  58988\n",
              "InvoiceDate                  10958\n",
              "InvoiceNo                    10958\n",
              "InvoiceStatus                    0\n",
              "InvoiceToAddr                    0\n",
              "Status                           0\n",
              "CustomerName                     0\n",
              "TeleWebAgentName              7582\n",
              "BusinessUnit                   858\n",
              "SAPSalesOrderNoMfgSO           390\n",
              "ProductDescription              10\n",
              "EAD                          12314\n",
              "SoldToAttentionEmail         59128\n",
              "SoldToAttentionPhone           580\n",
              "SoldToAddr                     242\n",
              "NetInvoiceLineDollarPrice    59378\n",
              "xypOrderNo                       0\n",
              "ShipToAddr1                     30\n",
              "ShipToAddr2                      0\n",
              "ShipToAddr3                   1470\n",
              "ShipToAddr4                   8318\n",
              "ShipToAddr5                      0\n",
              "PaymentMethod                 7198\n",
              "PaymentMethodDescription      7198\n",
              "PaymentReceiveDate           58994\n",
              "PaymentTerms                   514\n",
              "PaymentTermsDescription        390\n",
              "CustomerOrder                    0\n",
              "xypCustomerNumber              418\n",
              "VendorName                    6224\n",
              "VendorPOMfgSO                34518\n",
              "NetOptionDollarPrice            10\n",
              "ShipDate                     39696\n",
              "dtype: int64"
            ]
          },
          "metadata": {
            "tags": []
          },
          "execution_count": 73
        }
      ]
    },
    {
      "cell_type": "code",
      "metadata": {
        "colab": {
          "base_uri": "https://localhost:8080/"
        },
        "id": "IKcfHrn9tiza",
        "outputId": "2d5bf79f-d4cb-464f-d3ce-bbc404411a91"
      },
      "source": [
        "## Percentage of NAN values\n",
        "df.isnull().mean()"
      ],
      "execution_count": null,
      "outputs": [
        {
          "output_type": "execute_result",
          "data": {
            "text/plain": [
              "PurchaseOrderDate            0.000000\n",
              "PurchaseOrderNo              0.000000\n",
              "PurchasingAgent              0.013776\n",
              "ProductLineCode              0.013776\n",
              "ProductLineDescription       0.014450\n",
              "ProductLines                 0.000000\n",
              "ProductNumber                0.000000\n",
              "NetLineDollarPrice           0.000000\n",
              "NetOrderDollarPrice          0.000000\n",
              "OrderedQuantity              0.000000\n",
              "TeleWebAgentID               0.121223\n",
              "SalesRep                     0.000000\n",
              "WebOrderNo                   0.000000\n",
              "CatalogID                    0.125804\n",
              "CatalogName                  0.993432\n",
              "InvoiceDate                  0.184546\n",
              "InvoiceNo                    0.184546\n",
              "InvoiceStatus                0.000000\n",
              "InvoiceToAddr                0.000000\n",
              "Status                       0.000000\n",
              "CustomerName                 0.000000\n",
              "TeleWebAgentName             0.127690\n",
              "BusinessUnit                 0.014450\n",
              "SAPSalesOrderNoMfgSO         0.006568\n",
              "ProductDescription           0.000168\n",
              "EAD                          0.207383\n",
              "SoldToAttentionEmail         0.995790\n",
              "SoldToAttentionPhone         0.009768\n",
              "SoldToAddr                   0.004076\n",
              "NetInvoiceLineDollarPrice    1.000000\n",
              "xypOrderNo                   0.000000\n",
              "ShipToAddr1                  0.000505\n",
              "ShipToAddr2                  0.000000\n",
              "ShipToAddr3                  0.024757\n",
              "ShipToAddr4                  0.140086\n",
              "ShipToAddr5                  0.000000\n",
              "PaymentMethod                0.121223\n",
              "PaymentMethodDescription     0.121223\n",
              "PaymentReceiveDate           0.993533\n",
              "PaymentTerms                 0.008656\n",
              "PaymentTermsDescription      0.006568\n",
              "CustomerOrder                0.000000\n",
              "xypCustomerNumber            0.007040\n",
              "VendorName                   0.104820\n",
              "VendorPOMfgSO                0.581326\n",
              "NetOptionDollarPrice         0.000168\n",
              "ShipDate                     0.668530\n",
              "dtype: float64"
            ]
          },
          "metadata": {
            "tags": []
          },
          "execution_count": 74
        }
      ]
    },
    {
      "cell_type": "markdown",
      "metadata": {
        "id": "j17W0QUvtizg"
      },
      "source": [
        "It is possible to delete the missing values columns in the dataset because:\n",
        "\n",
        "1. it is not affecting the result due to the large number of difference between the missing values and the available values.\n",
        "\n",
        "2. From the data above the percentage of the missing values are not high except for PaymentReceivedDate, SoldToAttentionEmail, CatalogName, VendorPOMfgSO, NetInvoiceLineDollarPrice and ShipDate .\n",
        "\n",
        "3. However, all of the columns mentioned in 2 are not neccesary for the objectives of this analysis."
      ]
    },
    {
      "cell_type": "code",
      "metadata": {
        "id": "wAMn5Lmotizh"
      },
      "source": [
        "#Dropping the columns that have missing values\n",
        "new_df = df.dropna(axis='columns')"
      ],
      "execution_count": null,
      "outputs": []
    },
    {
      "cell_type": "code",
      "metadata": {
        "colab": {
          "base_uri": "https://localhost:8080/"
        },
        "id": "EOB64Owutizj",
        "outputId": "61f855cd-5a02-4217-f77b-aaf8cde3c835"
      },
      "source": [
        "# Observe the new dataset\n",
        "new_df"
      ],
      "execution_count": null,
      "outputs": [
        {
          "output_type": "execute_result",
          "data": {
            "text/html": [
              "<div>\n",
              "<style scoped>\n",
              "    .dataframe tbody tr th:only-of-type {\n",
              "        vertical-align: middle;\n",
              "    }\n",
              "\n",
              "    .dataframe tbody tr th {\n",
              "        vertical-align: top;\n",
              "    }\n",
              "\n",
              "    .dataframe thead th {\n",
              "        text-align: right;\n",
              "    }\n",
              "</style>\n",
              "<table border=\"1\" class=\"dataframe\">\n",
              "  <thead>\n",
              "    <tr style=\"text-align: right;\">\n",
              "      <th></th>\n",
              "      <th>PurchaseOrderDate</th>\n",
              "      <th>PurchaseOrderNo</th>\n",
              "      <th>ProductLines</th>\n",
              "      <th>ProductNumber</th>\n",
              "      <th>NetLineDollarPrice</th>\n",
              "      <th>NetOrderDollarPrice</th>\n",
              "      <th>OrderedQuantity</th>\n",
              "      <th>SalesRep</th>\n",
              "      <th>WebOrderNo</th>\n",
              "      <th>InvoiceStatus</th>\n",
              "      <th>InvoiceToAddr</th>\n",
              "      <th>Status</th>\n",
              "      <th>CustomerName</th>\n",
              "      <th>xypOrderNo</th>\n",
              "      <th>ShipToAddr2</th>\n",
              "      <th>ShipToAddr5</th>\n",
              "      <th>CustomerOrder</th>\n",
              "    </tr>\n",
              "  </thead>\n",
              "  <tbody>\n",
              "    <tr>\n",
              "      <th>0</th>\n",
              "      <td>15/5/2017</td>\n",
              "      <td>PO 94464</td>\n",
              "      <td>7F 8W 9F 9R AN BO MP</td>\n",
              "      <td>ZG229AV</td>\n",
              "      <td>0.0</td>\n",
              "      <td>0.00</td>\n",
              "      <td>1</td>\n",
              "      <td>GRACE.HUI.PING.SOO@companyx.com</td>\n",
              "      <td>SCPO757686</td>\n",
              "      <td>FI</td>\n",
              "      <td>Hon Mun NgMaxell Tohshin (M) Sdn Bhd Lot 1, Ba...</td>\n",
              "      <td>Processing</td>\n",
              "      <td>Hon Mun Ng</td>\n",
              "      <td>686M61890706</td>\n",
              "      <td>Maxell Tohshin (M) Sdn Bhd</td>\n",
              "      <td>75350 BATU BERENDAM</td>\n",
              "      <td>N</td>\n",
              "    </tr>\n",
              "    <tr>\n",
              "      <th>1</th>\n",
              "      <td>15/5/2017</td>\n",
              "      <td>PO 94464</td>\n",
              "      <td>7F 8W 9F 9R AN BO MP</td>\n",
              "      <td>ZG229AV</td>\n",
              "      <td>0.0</td>\n",
              "      <td>0.00</td>\n",
              "      <td>1</td>\n",
              "      <td>GRACE.HUI.PING.SOO@companyx.com</td>\n",
              "      <td>SCPO757686</td>\n",
              "      <td>FI</td>\n",
              "      <td>Hon Mun NgMaxell Tohshin (M) Sdn Bhd Lot 1, Ba...</td>\n",
              "      <td>Processing</td>\n",
              "      <td>Hon Mun Ng</td>\n",
              "      <td>686M61890706</td>\n",
              "      <td>Maxell Tohshin (M) Sdn Bhd</td>\n",
              "      <td>75350 BATU BERENDAM</td>\n",
              "      <td>N</td>\n",
              "    </tr>\n",
              "    <tr>\n",
              "      <th>2</th>\n",
              "      <td>5/1/2018</td>\n",
              "      <td>JV2017/000058</td>\n",
              "      <td>8J 8N 8W MG</td>\n",
              "      <td>Z9Y75AV</td>\n",
              "      <td>0.0</td>\n",
              "      <td>0.00</td>\n",
              "      <td>6</td>\n",
              "      <td>YEON-YEE.OOI@companyx.com</td>\n",
              "      <td>SCPO825227</td>\n",
              "      <td>FI</td>\n",
              "      <td>Hon Mun NgMaxell Tohshin (M) Sdn Bhd Lot 1, Ba...</td>\n",
              "      <td>Processing</td>\n",
              "      <td>Hon Mun Ng</td>\n",
              "      <td>686M61890706</td>\n",
              "      <td>Maxell Tohshin (M) Sdn Bhd</td>\n",
              "      <td>75350 BATU BERENDAM</td>\n",
              "      <td>N</td>\n",
              "    </tr>\n",
              "    <tr>\n",
              "      <th>3</th>\n",
              "      <td>5/1/2018</td>\n",
              "      <td>JV2017/000058</td>\n",
              "      <td>8J 8N 8W MG</td>\n",
              "      <td>Z9Y75AV</td>\n",
              "      <td>0.0</td>\n",
              "      <td>0.00</td>\n",
              "      <td>6</td>\n",
              "      <td>YEON-YEE.OOI@companyx.com</td>\n",
              "      <td>SCPO825227</td>\n",
              "      <td>FI</td>\n",
              "      <td>Hon Mun NgMaxell Tohshin (M) Sdn Bhd Lot 1, Ba...</td>\n",
              "      <td>Processing</td>\n",
              "      <td>Hon Mun Ng</td>\n",
              "      <td>686M61890706</td>\n",
              "      <td>Maxell Tohshin (M) Sdn Bhd</td>\n",
              "      <td>75350 BATU BERENDAM</td>\n",
              "      <td>N</td>\n",
              "    </tr>\n",
              "    <tr>\n",
              "      <th>4</th>\n",
              "      <td>5/1/2018</td>\n",
              "      <td>JV2017/000058</td>\n",
              "      <td>8J 8N MG</td>\n",
              "      <td>Z9Y75AV</td>\n",
              "      <td>0.0</td>\n",
              "      <td>6585.37</td>\n",
              "      <td>6</td>\n",
              "      <td>YEON-YEE.OOI@companyx.com</td>\n",
              "      <td>SCPO825227</td>\n",
              "      <td>FI</td>\n",
              "      <td>Hon Mun NgMaxell Tohshin (M) Sdn Bhd Lot 1, Ba...</td>\n",
              "      <td>Processing</td>\n",
              "      <td>Hon Mun Ng</td>\n",
              "      <td>686M61890706</td>\n",
              "      <td>Maxell Tohshin (M) Sdn Bhd</td>\n",
              "      <td>75350 BATU BERENDAM</td>\n",
              "      <td>N</td>\n",
              "    </tr>\n",
              "    <tr>\n",
              "      <th>...</th>\n",
              "      <td>...</td>\n",
              "      <td>...</td>\n",
              "      <td>...</td>\n",
              "      <td>...</td>\n",
              "      <td>...</td>\n",
              "      <td>...</td>\n",
              "      <td>...</td>\n",
              "      <td>...</td>\n",
              "      <td>...</td>\n",
              "      <td>...</td>\n",
              "      <td>...</td>\n",
              "      <td>...</td>\n",
              "      <td>...</td>\n",
              "      <td>...</td>\n",
              "      <td>...</td>\n",
              "      <td>...</td>\n",
              "      <td>...</td>\n",
              "    </tr>\n",
              "    <tr>\n",
              "      <th>59373</th>\n",
              "      <td>22/8/2017</td>\n",
              "      <td>SG 1084</td>\n",
              "      <td>7F 8W BO GA MP</td>\n",
              "      <td>1AB33AV</td>\n",
              "      <td>0.0</td>\n",
              "      <td>2957.14</td>\n",
              "      <td>2</td>\n",
              "      <td>GRACE.HUI.PING.SOO@companyx.com</td>\n",
              "      <td>SCPO786084</td>\n",
              "      <td>FI</td>\n",
              "      <td>Ke-Heam PexypQ Engineering Pte Ltd18 Enterpris...</td>\n",
              "      <td>Shipped</td>\n",
              "      <td>Ke-Heam Peh</td>\n",
              "      <td>758S18751373</td>\n",
              "      <td>PQ Engineering Pte Ltd</td>\n",
              "      <td>629824 SINGAPORE</td>\n",
              "      <td>Y</td>\n",
              "    </tr>\n",
              "    <tr>\n",
              "      <th>59374</th>\n",
              "      <td>22/8/2017</td>\n",
              "      <td>SG 1084</td>\n",
              "      <td>7F 8W BO GA MP</td>\n",
              "      <td>1AB33AV</td>\n",
              "      <td>0.0</td>\n",
              "      <td>0.00</td>\n",
              "      <td>2</td>\n",
              "      <td>GRACE.HUI.PING.SOO@companyx.com</td>\n",
              "      <td>SCPO786084</td>\n",
              "      <td>FI</td>\n",
              "      <td>Ke-Heam PexypQ Engineering Pte Ltd18 Enterpris...</td>\n",
              "      <td>Shipped</td>\n",
              "      <td>Ke-Heam Peh</td>\n",
              "      <td>758S18751373</td>\n",
              "      <td>PQ Engineering Pte Ltd</td>\n",
              "      <td>629824 SINGAPORE</td>\n",
              "      <td>Y</td>\n",
              "    </tr>\n",
              "    <tr>\n",
              "      <th>59375</th>\n",
              "      <td>22/8/2017</td>\n",
              "      <td>SG 1084</td>\n",
              "      <td>7F 8W BO GA MP</td>\n",
              "      <td>1AB33AV</td>\n",
              "      <td>0.0</td>\n",
              "      <td>2957.14</td>\n",
              "      <td>2</td>\n",
              "      <td>GRACE.HUI.PING.SOO@companyx.com</td>\n",
              "      <td>SCPO786084</td>\n",
              "      <td>FI</td>\n",
              "      <td>Ke-Heam PexypQ Engineering Pte Ltd18 Enterpris...</td>\n",
              "      <td>Shipped</td>\n",
              "      <td>Ke-Heam Peh</td>\n",
              "      <td>758S18751373</td>\n",
              "      <td>PQ Engineering Pte Ltd</td>\n",
              "      <td>629824 SINGAPORE</td>\n",
              "      <td>Y</td>\n",
              "    </tr>\n",
              "    <tr>\n",
              "      <th>59376</th>\n",
              "      <td>22/8/2017</td>\n",
              "      <td>SG 1084</td>\n",
              "      <td>7F 8W BO GA MP</td>\n",
              "      <td>1AB33AV</td>\n",
              "      <td>0.0</td>\n",
              "      <td>2957.14</td>\n",
              "      <td>2</td>\n",
              "      <td>GRACE.HUI.PING.SOO@companyx.com</td>\n",
              "      <td>SCPO786084</td>\n",
              "      <td>FI</td>\n",
              "      <td>Ke-Heam PexypQ Engineering Pte Ltd18 Enterpris...</td>\n",
              "      <td>Shipped</td>\n",
              "      <td>Ke-Heam Peh</td>\n",
              "      <td>758S18751373</td>\n",
              "      <td>PQ Engineering Pte Ltd</td>\n",
              "      <td>629824 SINGAPORE</td>\n",
              "      <td>Y</td>\n",
              "    </tr>\n",
              "    <tr>\n",
              "      <th>59377</th>\n",
              "      <td>22/8/2017</td>\n",
              "      <td>SG 1084</td>\n",
              "      <td>7F 8W BO GA MP</td>\n",
              "      <td>1AB33AV</td>\n",
              "      <td>0.0</td>\n",
              "      <td>0.00</td>\n",
              "      <td>2</td>\n",
              "      <td>GRACE.HUI.PING.SOO@companyx.com</td>\n",
              "      <td>SCPO786084</td>\n",
              "      <td>FI</td>\n",
              "      <td>Ke-Heam PexypQ Engineering Pte Ltd18 Enterpris...</td>\n",
              "      <td>Shipped</td>\n",
              "      <td>Ke-Heam Peh</td>\n",
              "      <td>758S18751373</td>\n",
              "      <td>PQ Engineering Pte Ltd</td>\n",
              "      <td>629824 SINGAPORE</td>\n",
              "      <td>Y</td>\n",
              "    </tr>\n",
              "  </tbody>\n",
              "</table>\n",
              "<p>59378 rows × 17 columns</p>\n",
              "</div>"
            ],
            "text/plain": [
              "      PurchaseOrderDate PurchaseOrderNo  ...          ShipToAddr5 CustomerOrder\n",
              "0             15/5/2017        PO 94464  ...  75350 BATU BERENDAM             N\n",
              "1             15/5/2017        PO 94464  ...  75350 BATU BERENDAM             N\n",
              "2              5/1/2018   JV2017/000058  ...  75350 BATU BERENDAM             N\n",
              "3              5/1/2018   JV2017/000058  ...  75350 BATU BERENDAM             N\n",
              "4              5/1/2018   JV2017/000058  ...  75350 BATU BERENDAM             N\n",
              "...                 ...             ...  ...                  ...           ...\n",
              "59373         22/8/2017         SG 1084  ...     629824 SINGAPORE             Y\n",
              "59374         22/8/2017         SG 1084  ...     629824 SINGAPORE             Y\n",
              "59375         22/8/2017         SG 1084  ...     629824 SINGAPORE             Y\n",
              "59376         22/8/2017         SG 1084  ...     629824 SINGAPORE             Y\n",
              "59377         22/8/2017         SG 1084  ...     629824 SINGAPORE             Y\n",
              "\n",
              "[59378 rows x 17 columns]"
            ]
          },
          "metadata": {
            "tags": []
          },
          "execution_count": 76
        }
      ]
    },
    {
      "cell_type": "code",
      "metadata": {
        "colab": {
          "base_uri": "https://localhost:8080/"
        },
        "id": "mdqFS2SJtizm",
        "outputId": "f42f4e75-80c7-47c7-c7ef-a6b21bdc4cd4"
      },
      "source": [
        "# to check how many missing values in the feature\n",
        "new_df.isnull().sum()"
      ],
      "execution_count": null,
      "outputs": [
        {
          "output_type": "execute_result",
          "data": {
            "text/plain": [
              "PurchaseOrderDate      0\n",
              "PurchaseOrderNo        0\n",
              "ProductLines           0\n",
              "ProductNumber          0\n",
              "NetLineDollarPrice     0\n",
              "NetOrderDollarPrice    0\n",
              "OrderedQuantity        0\n",
              "SalesRep               0\n",
              "WebOrderNo             0\n",
              "InvoiceStatus          0\n",
              "InvoiceToAddr          0\n",
              "Status                 0\n",
              "CustomerName           0\n",
              "xypOrderNo             0\n",
              "ShipToAddr2            0\n",
              "ShipToAddr5            0\n",
              "CustomerOrder          0\n",
              "dtype: int64"
            ]
          },
          "metadata": {
            "tags": []
          },
          "execution_count": 77
        }
      ]
    },
    {
      "cell_type": "code",
      "metadata": {
        "colab": {
          "base_uri": "https://localhost:8080/"
        },
        "id": "un5T6TiDtizo",
        "outputId": "30965108-44b3-457c-a7be-be1159893e36"
      },
      "source": [
        "# To have a clearer observation of the dataset\n",
        "new_df.head(10)"
      ],
      "execution_count": null,
      "outputs": [
        {
          "output_type": "execute_result",
          "data": {
            "text/html": [
              "<div>\n",
              "<style scoped>\n",
              "    .dataframe tbody tr th:only-of-type {\n",
              "        vertical-align: middle;\n",
              "    }\n",
              "\n",
              "    .dataframe tbody tr th {\n",
              "        vertical-align: top;\n",
              "    }\n",
              "\n",
              "    .dataframe thead th {\n",
              "        text-align: right;\n",
              "    }\n",
              "</style>\n",
              "<table border=\"1\" class=\"dataframe\">\n",
              "  <thead>\n",
              "    <tr style=\"text-align: right;\">\n",
              "      <th></th>\n",
              "      <th>PurchaseOrderDate</th>\n",
              "      <th>PurchaseOrderNo</th>\n",
              "      <th>ProductLines</th>\n",
              "      <th>ProductNumber</th>\n",
              "      <th>NetLineDollarPrice</th>\n",
              "      <th>NetOrderDollarPrice</th>\n",
              "      <th>OrderedQuantity</th>\n",
              "      <th>SalesRep</th>\n",
              "      <th>WebOrderNo</th>\n",
              "      <th>InvoiceStatus</th>\n",
              "      <th>InvoiceToAddr</th>\n",
              "      <th>Status</th>\n",
              "      <th>CustomerName</th>\n",
              "      <th>xypOrderNo</th>\n",
              "      <th>ShipToAddr2</th>\n",
              "      <th>ShipToAddr5</th>\n",
              "      <th>CustomerOrder</th>\n",
              "    </tr>\n",
              "  </thead>\n",
              "  <tbody>\n",
              "    <tr>\n",
              "      <th>0</th>\n",
              "      <td>15/5/2017</td>\n",
              "      <td>PO 94464</td>\n",
              "      <td>7F 8W 9F 9R AN BO MP</td>\n",
              "      <td>ZG229AV</td>\n",
              "      <td>0.00</td>\n",
              "      <td>0.00</td>\n",
              "      <td>1</td>\n",
              "      <td>GRACE.HUI.PING.SOO@companyx.com</td>\n",
              "      <td>SCPO757686</td>\n",
              "      <td>FI</td>\n",
              "      <td>Hon Mun NgMaxell Tohshin (M) Sdn Bhd Lot 1, Ba...</td>\n",
              "      <td>Processing</td>\n",
              "      <td>Hon Mun Ng</td>\n",
              "      <td>686M61890706</td>\n",
              "      <td>Maxell Tohshin (M) Sdn Bhd</td>\n",
              "      <td>75350 BATU BERENDAM</td>\n",
              "      <td>N</td>\n",
              "    </tr>\n",
              "    <tr>\n",
              "      <th>1</th>\n",
              "      <td>15/5/2017</td>\n",
              "      <td>PO 94464</td>\n",
              "      <td>7F 8W 9F 9R AN BO MP</td>\n",
              "      <td>ZG229AV</td>\n",
              "      <td>0.00</td>\n",
              "      <td>0.00</td>\n",
              "      <td>1</td>\n",
              "      <td>GRACE.HUI.PING.SOO@companyx.com</td>\n",
              "      <td>SCPO757686</td>\n",
              "      <td>FI</td>\n",
              "      <td>Hon Mun NgMaxell Tohshin (M) Sdn Bhd Lot 1, Ba...</td>\n",
              "      <td>Processing</td>\n",
              "      <td>Hon Mun Ng</td>\n",
              "      <td>686M61890706</td>\n",
              "      <td>Maxell Tohshin (M) Sdn Bhd</td>\n",
              "      <td>75350 BATU BERENDAM</td>\n",
              "      <td>N</td>\n",
              "    </tr>\n",
              "    <tr>\n",
              "      <th>2</th>\n",
              "      <td>5/1/2018</td>\n",
              "      <td>JV2017/000058</td>\n",
              "      <td>8J 8N 8W MG</td>\n",
              "      <td>Z9Y75AV</td>\n",
              "      <td>0.00</td>\n",
              "      <td>0.00</td>\n",
              "      <td>6</td>\n",
              "      <td>YEON-YEE.OOI@companyx.com</td>\n",
              "      <td>SCPO825227</td>\n",
              "      <td>FI</td>\n",
              "      <td>Hon Mun NgMaxell Tohshin (M) Sdn Bhd Lot 1, Ba...</td>\n",
              "      <td>Processing</td>\n",
              "      <td>Hon Mun Ng</td>\n",
              "      <td>686M61890706</td>\n",
              "      <td>Maxell Tohshin (M) Sdn Bhd</td>\n",
              "      <td>75350 BATU BERENDAM</td>\n",
              "      <td>N</td>\n",
              "    </tr>\n",
              "    <tr>\n",
              "      <th>3</th>\n",
              "      <td>5/1/2018</td>\n",
              "      <td>JV2017/000058</td>\n",
              "      <td>8J 8N 8W MG</td>\n",
              "      <td>Z9Y75AV</td>\n",
              "      <td>0.00</td>\n",
              "      <td>0.00</td>\n",
              "      <td>6</td>\n",
              "      <td>YEON-YEE.OOI@companyx.com</td>\n",
              "      <td>SCPO825227</td>\n",
              "      <td>FI</td>\n",
              "      <td>Hon Mun NgMaxell Tohshin (M) Sdn Bhd Lot 1, Ba...</td>\n",
              "      <td>Processing</td>\n",
              "      <td>Hon Mun Ng</td>\n",
              "      <td>686M61890706</td>\n",
              "      <td>Maxell Tohshin (M) Sdn Bhd</td>\n",
              "      <td>75350 BATU BERENDAM</td>\n",
              "      <td>N</td>\n",
              "    </tr>\n",
              "    <tr>\n",
              "      <th>4</th>\n",
              "      <td>5/1/2018</td>\n",
              "      <td>JV2017/000058</td>\n",
              "      <td>8J 8N MG</td>\n",
              "      <td>Z9Y75AV</td>\n",
              "      <td>0.00</td>\n",
              "      <td>6585.37</td>\n",
              "      <td>6</td>\n",
              "      <td>YEON-YEE.OOI@companyx.com</td>\n",
              "      <td>SCPO825227</td>\n",
              "      <td>FI</td>\n",
              "      <td>Hon Mun NgMaxell Tohshin (M) Sdn Bhd Lot 1, Ba...</td>\n",
              "      <td>Processing</td>\n",
              "      <td>Hon Mun Ng</td>\n",
              "      <td>686M61890706</td>\n",
              "      <td>Maxell Tohshin (M) Sdn Bhd</td>\n",
              "      <td>75350 BATU BERENDAM</td>\n",
              "      <td>N</td>\n",
              "    </tr>\n",
              "    <tr>\n",
              "      <th>5</th>\n",
              "      <td>5/1/2018</td>\n",
              "      <td>JV2017/000058</td>\n",
              "      <td>8J 8N MG</td>\n",
              "      <td>Z9Y75AV</td>\n",
              "      <td>0.00</td>\n",
              "      <td>6585.37</td>\n",
              "      <td>6</td>\n",
              "      <td>YEON-YEE.OOI@companyx.com</td>\n",
              "      <td>SCPO825227</td>\n",
              "      <td>FI</td>\n",
              "      <td>Hon Mun NgMaxell Tohshin (M) Sdn Bhd Lot 1, Ba...</td>\n",
              "      <td>Processing</td>\n",
              "      <td>Hon Mun Ng</td>\n",
              "      <td>686M61890706</td>\n",
              "      <td>Maxell Tohshin (M) Sdn Bhd</td>\n",
              "      <td>75350 BATU BERENDAM</td>\n",
              "      <td>N</td>\n",
              "    </tr>\n",
              "    <tr>\n",
              "      <th>6</th>\n",
              "      <td>5/1/2018</td>\n",
              "      <td>JV2017/000058</td>\n",
              "      <td>8J 8N MG</td>\n",
              "      <td>Z9Y75AV</td>\n",
              "      <td>0.00</td>\n",
              "      <td>6585.37</td>\n",
              "      <td>6</td>\n",
              "      <td>YEON-YEE.OOI@companyx.com</td>\n",
              "      <td>SCPO825227</td>\n",
              "      <td>FI</td>\n",
              "      <td>Hon Mun NgMaxell Tohshin (M) Sdn Bhd Lot 1, Ba...</td>\n",
              "      <td>Processing</td>\n",
              "      <td>Hon Mun Ng</td>\n",
              "      <td>686M61890706</td>\n",
              "      <td>Maxell Tohshin (M) Sdn Bhd</td>\n",
              "      <td>75350 BATU BERENDAM</td>\n",
              "      <td>N</td>\n",
              "    </tr>\n",
              "    <tr>\n",
              "      <th>7</th>\n",
              "      <td>5/1/2018</td>\n",
              "      <td>JV2017/000058</td>\n",
              "      <td>8J 8N MG</td>\n",
              "      <td>Z9Y75AV</td>\n",
              "      <td>0.00</td>\n",
              "      <td>6585.37</td>\n",
              "      <td>6</td>\n",
              "      <td>YEON-YEE.OOI@companyx.com</td>\n",
              "      <td>SCPO825227</td>\n",
              "      <td>FI</td>\n",
              "      <td>Hon Mun NgMaxell Tohshin (M) Sdn Bhd Lot 1, Ba...</td>\n",
              "      <td>Processing</td>\n",
              "      <td>Hon Mun Ng</td>\n",
              "      <td>686M61890706</td>\n",
              "      <td>Maxell Tohshin (M) Sdn Bhd</td>\n",
              "      <td>75350 BATU BERENDAM</td>\n",
              "      <td>N</td>\n",
              "    </tr>\n",
              "    <tr>\n",
              "      <th>8</th>\n",
              "      <td>10/4/2017</td>\n",
              "      <td>SCPO748376</td>\n",
              "      <td>8J 8W FF</td>\n",
              "      <td>Z9R42AA#UUF</td>\n",
              "      <td>135.35</td>\n",
              "      <td>1359.33</td>\n",
              "      <td>1</td>\n",
              "      <td>GRACE.HUI.PING.SOO@companyx.com</td>\n",
              "      <td>SCPO748376</td>\n",
              "      <td>FI</td>\n",
              "      <td>Hon Mun NgMaxell Tohshin (M) Sdn Bhd Lot 1, Ba...</td>\n",
              "      <td>Processing</td>\n",
              "      <td>Hon Mun Ng</td>\n",
              "      <td>686M61890706</td>\n",
              "      <td>Maxell Tohshin (M) Sdn Bhd</td>\n",
              "      <td>75350 BATU BERENDAM</td>\n",
              "      <td>N</td>\n",
              "    </tr>\n",
              "    <tr>\n",
              "      <th>9</th>\n",
              "      <td>10/4/2017</td>\n",
              "      <td>SCPO748376</td>\n",
              "      <td>8J 8W FF</td>\n",
              "      <td>Z9R42AA#UUF</td>\n",
              "      <td>135.35</td>\n",
              "      <td>1359.33</td>\n",
              "      <td>1</td>\n",
              "      <td>GRACE.HUI.PING.SOO@companyx.com</td>\n",
              "      <td>SCPO748376</td>\n",
              "      <td>FI</td>\n",
              "      <td>Hon Mun NgMaxell Tohshin (M) Sdn Bhd Lot 1, Ba...</td>\n",
              "      <td>Processing</td>\n",
              "      <td>Hon Mun Ng</td>\n",
              "      <td>686M61890706</td>\n",
              "      <td>Maxell Tohshin (M) Sdn Bhd</td>\n",
              "      <td>75350 BATU BERENDAM</td>\n",
              "      <td>N</td>\n",
              "    </tr>\n",
              "  </tbody>\n",
              "</table>\n",
              "</div>"
            ],
            "text/plain": [
              "  PurchaseOrderDate PurchaseOrderNo  ...          ShipToAddr5 CustomerOrder\n",
              "0         15/5/2017        PO 94464  ...  75350 BATU BERENDAM             N\n",
              "1         15/5/2017        PO 94464  ...  75350 BATU BERENDAM             N\n",
              "2          5/1/2018   JV2017/000058  ...  75350 BATU BERENDAM             N\n",
              "3          5/1/2018   JV2017/000058  ...  75350 BATU BERENDAM             N\n",
              "4          5/1/2018   JV2017/000058  ...  75350 BATU BERENDAM             N\n",
              "5          5/1/2018   JV2017/000058  ...  75350 BATU BERENDAM             N\n",
              "6          5/1/2018   JV2017/000058  ...  75350 BATU BERENDAM             N\n",
              "7          5/1/2018   JV2017/000058  ...  75350 BATU BERENDAM             N\n",
              "8         10/4/2017      SCPO748376  ...  75350 BATU BERENDAM             N\n",
              "9         10/4/2017      SCPO748376  ...  75350 BATU BERENDAM             N\n",
              "\n",
              "[10 rows x 17 columns]"
            ]
          },
          "metadata": {
            "tags": []
          },
          "execution_count": 78
        }
      ]
    },
    {
      "cell_type": "code",
      "metadata": {
        "colab": {
          "base_uri": "https://localhost:8080/"
        },
        "id": "lBm_m-aUtizr",
        "outputId": "739ea7d8-f8fc-49f4-bcd1-00ce1b0ea8d6"
      },
      "source": [
        "# To view the rows and columns of the dataset\n",
        "new_df.shape"
      ],
      "execution_count": null,
      "outputs": [
        {
          "output_type": "execute_result",
          "data": {
            "text/plain": [
              "(59378, 17)"
            ]
          },
          "metadata": {
            "tags": []
          },
          "execution_count": 79
        }
      ]
    },
    {
      "cell_type": "markdown",
      "metadata": {
        "id": "zn4k370Ktizt"
      },
      "source": [
        "From 44 features, only 17 features are selected after the data cleasing."
      ]
    },
    {
      "cell_type": "markdown",
      "metadata": {
        "id": "VNQFdkZ9tizt"
      },
      "source": [
        "## 3. Data Aggregation and Data Deduplication\n",
        "\n",
        "- Data aggregation is the process of gathering the data and represent it in a summarized way.\n",
        "\n",
        "- Data deduplication is a technique for eliminating duplicate copies of repeating data."
      ]
    },
    {
      "cell_type": "markdown",
      "metadata": {
        "id": "3BmNyF-Htizv"
      },
      "source": [
        "To evaluate whether that the ProductLines, ProductNumber and PurchaseOrderNo features are having the same information"
      ]
    },
    {
      "cell_type": "code",
      "metadata": {
        "colab": {
          "base_uri": "https://localhost:8080/"
        },
        "id": "DlvqaR0htizw",
        "outputId": "73cb4811-df21-4861-fec6-969f71e86d82"
      },
      "source": [
        "# To see on how much unique values allocated in ProductLines feature\n",
        "productline = new_df['ProductLines'].unique()\n",
        "productline"
      ],
      "execution_count": null,
      "outputs": [
        {
          "output_type": "execute_result",
          "data": {
            "text/plain": [
              "array(['7F 8W 9F 9R AN BO MP', '8J 8N 8W MG', '8J 8N MG', '8J 8W FF',\n",
              "       '8W MP TA', '8W 9F', '8W AN FF MG MP', '5X 8W AN FF MG MP',\n",
              "       '5U 7F 8W BO', '5U 7F 8W', '8W 9G DG', '5U 7F 8W MG', '{}',\n",
              "       '9G GA', '8W AN MG MP TA', '1M 2G 8W', '1M 2Q 8W',\n",
              "       '1M 2G 8W 9G MP', '1M 5U BO', '1M', '1M 8W', '1M 8W MP',\n",
              "       '1M 8W 9G KV', '1M 2N 8W 9G AU', '1M 2N 8W KV', '2G 8W',\n",
              "       '16 5U 7F 8W BO', '5U 7F 8W BO MG', '5X 8W 9H', '8W 9G KV',\n",
              "       '8W DG MG', '2G 8W DG', '8W BO DG MG', '5U 7F 8W 9F BO',\n",
              "       '5U 7F 9F BO', '7F 8W 9R', '16 7F 9G BO MG', '7F 8W AN MG MP',\n",
              "       '7F AN MG MP', '7F 8W', '7F 8W BO GA MP', '7F 8W 9G', '7F 8W BO',\n",
              "       '7F 8W 9G BO', '7F 8W 9G BO MG', '7F 8W BO MG', '7F', '7F 8W MG',\n",
              "       '7F 8W TB', '6U 8W MG MP', '5U 8W MP', '8W AN MG MP', 'AN',\n",
              "       '16 7F 8W 9R', '16 7F 9R', '8W 9G KV MN MP', '2N 8W',\n",
              "       '2N 4H 9G DU FF KV', '1M 2N 4H 9G DU FF KV', '2N AU',\n",
              "       '2N 8W 9G AU KV MP', '2N 8W AU', '2N 5M 8W AU', '5X 8W',\n",
              "       '8W GA MG', '5X 8W 9F 9G 9H MG TB', '7F 8W 9G MP', 'AN MP',\n",
              "       '8J 8W MG MP', '8W DU MP TA', '8W BO MG MP TA', '8W 9G AN MP',\n",
              "       '8W AN MG', '8W 9G AN MG MP', '8W AN MG MP TB',\n",
              "       '8W 9G AN BO MG MP', '8W AN MP', 'AN MG MP', '8W 9F BO',\n",
              "       '6U 8W BO MG MP', '6U 8W 9G MG MP', '6U MG MP', '6U 8W MP',\n",
              "       '8W MP', '6U 8W 9G KV MP', '5X 8W TB', '5X 8W MP TB', '6U 8W',\n",
              "       '1M 8W 9G MP', '1M 8W 9G', '1M 8W 9G MN', '1M 2G 8W 9G',\n",
              "       '8W 9G KV MP', '8W KV', '8W AN BO MG MP', '6U 8W AN BO MG MP',\n",
              "       '8N 8W', '8W 9G MN MP', '8W 9G', '5X 8W 9G BO', '5X 8W BO',\n",
              "       '8W BO', 'BO', '8W BO DG', '8W 9G BO', '8W 9F BO MP',\n",
              "       '8W 9G BO DG', '6U 8W MG', '6U 8W MG MP TB', '6U 8W 9G BO MG',\n",
              "       '1N 4H 8W', '1N 8W', '1N 8W 9G', '5X 8W 9G', '8W 9F AN BO MG MP',\n",
              "       '2G 8W 9G MP', '8W UD', '8W AU', '8W 9G MP', '5U 9G BO',\n",
              "       '8J 8W 9G MG MP', '9G AN MG MP', '9G MG', '8W 9G MG', '9G',\n",
              "       '5U 9G', '5U 6U 8W 9G MG MP', '5U 8W 9G BO MG',\n",
              "       '6U 8W 9G BO MG MP', '5X 8W 9F 9G', '6U 9G', '4H 8W 9G KV MN MP',\n",
              "       '5U 8W 9G BO', '8W TA', '5X 8W BO MP', '5X 8W MP', '5X 8W 9F MP',\n",
              "       '8W BO MG', '5U 8W BO', '5U 8W BO MG', '7F 8W MP',\n",
              "       '2G 8W 9G KV MP', '8W MN', '8W 9G KV MN', 'MG', '2Q 8W GP R6',\n",
              "       '8W R6', '7T R6', '7T 8W R6', '8W MG', '8W MG MP TA', '8W MN MP',\n",
              "       '8W MN MP TA', '1N 7T 8W', '2G 8W MP', '2B 8W', '2B 5X 8W TB',\n",
              "       '8W BO GP', '2G 8W 9G', '1D 8W', '8W 9F MP', '8W GP', 'MP',\n",
              "       '7F 8W 9F MP', '2C 8W MP', '5X 8W 9F BO', '8W PQ', '9G KV',\n",
              "       '2B 3Y 8W 9G KV MP', '7T 8W', '2Q 8W GP', '2Q 8W', '8W DU',\n",
              "       '8W MA', '8W GJ', '8W UK', '8W GN', '5U 8W', '8W DG',\n",
              "       '5X 8W 9H TB', '8W GJ GP', '8W GK', '8A 8W', '5M 8W', '8W TB',\n",
              "       '8W AN', '1N 8W GN', '8W GN GP', '1N', '5X TB', 'TB', 'KV'],\n",
              "      dtype=object)"
            ]
          },
          "metadata": {
            "tags": []
          },
          "execution_count": 80
        }
      ]
    },
    {
      "cell_type": "code",
      "metadata": {
        "colab": {
          "base_uri": "https://localhost:8080/"
        },
        "id": "c26g11PBtizy",
        "outputId": "c807761a-0cf0-463b-ed0e-e2ed7d2300c8"
      },
      "source": [
        "productline.shape"
      ],
      "execution_count": null,
      "outputs": [
        {
          "output_type": "execute_result",
          "data": {
            "text/plain": [
              "(192,)"
            ]
          },
          "metadata": {
            "tags": []
          },
          "execution_count": 81
        }
      ]
    },
    {
      "cell_type": "code",
      "metadata": {
        "colab": {
          "base_uri": "https://localhost:8080/"
        },
        "id": "7AZfLThVtizz",
        "outputId": "539108fb-e980-4f1f-e0d1-004c7b152b7a"
      },
      "source": [
        "# To see on how much unique values allocated in ProductNumber feature\n",
        "ProductNumber = new_df['ProductNumber'].unique()\n",
        "ProductNumber"
      ],
      "execution_count": null,
      "outputs": [
        {
          "output_type": "execute_result",
          "data": {
            "text/plain": [
              "array(['ZG229AV', 'Z9Y75AV', 'Z9R42AA#UUF', ..., '1AB35AV', '1AB34AV',\n",
              "       '1AB33AV'], dtype=object)"
            ]
          },
          "metadata": {
            "tags": []
          },
          "execution_count": 82
        }
      ]
    },
    {
      "cell_type": "code",
      "metadata": {
        "colab": {
          "base_uri": "https://localhost:8080/"
        },
        "id": "5SlPLJb9KcR_",
        "outputId": "aa86ec1f-6446-4f82-c069-50d6fb21db9f"
      },
      "source": [
        "ProductNumber.shape"
      ],
      "execution_count": null,
      "outputs": [
        {
          "output_type": "execute_result",
          "data": {
            "text/plain": [
              "(1900,)"
            ]
          },
          "metadata": {
            "tags": []
          },
          "execution_count": 83
        }
      ]
    },
    {
      "cell_type": "code",
      "metadata": {
        "colab": {
          "base_uri": "https://localhost:8080/"
        },
        "id": "cm44imomtizz",
        "outputId": "da9c9b4d-8e9c-43ad-c632-65b2dff810dd"
      },
      "source": [
        "# To see on how much unique values allocated in PurchaseOrderNo feature\n",
        "PurchaseOrderNo = new_df['PurchaseOrderNo'].unique()\n",
        "PurchaseOrderNo\n"
      ],
      "execution_count": null,
      "outputs": [
        {
          "output_type": "execute_result",
          "data": {
            "text/plain": [
              "array(['PO 94464', 'JV2017/000058', 'SCPO748376', 'SCPO820594',\n",
              "       'SCPO876647', '2017-11-114126', 'SCPO786091', 'SCPO755717',\n",
              "       'SCPO760227', 'SCPO755719', 'FRONTPOS/SIMPANGEMPAT',\n",
              "       'MY20180416-Muar', 'TGFADMGPCxyp2190318', 'MY20180416-BtGajah',\n",
              "       'BACKEND/SIMPANGEMPAT', 'PO5009844', 'PO500983', '1803-020',\n",
              "       'SCPO808462', 'PA58496ATM', 'SCPO876621', 'LF35108ATM',\n",
              "       'SCPO847081', 'SCPO874275', 'SCPO874264', '4500834183',\n",
              "       'SCPO834216', 'SCPO855537', 'SCPO757551', 'SCPO851835',\n",
              "       'SCPO854230', 'SCPO854263', 'SCPO854259', 'SCPO854226',\n",
              "       'SCPO854258', 'SCPO768509', 'SCPO756975', 'SCPO761712',\n",
              "       'SCPO764661', 'PO1707-0050', 'SCPO766012', 'SCPO827436',\n",
              "       'SCPO820959', 'SCPO835682', 'SCPO818061', 'SCPO837307',\n",
              "       'SAPO18063049', 'SCPO870225', 'SCPO757024', 'PO98393',\n",
              "       'SCPO857586', 'SCPO870974', 'SCPO867246', 'SCPO808929', 'POC18814',\n",
              "       'SCPO870973', 'SCPO809615', 'SCPO871288', 'FMM/FA/1718/014',\n",
              "       'C18842', 'SRO/FMM/1718/01', 'MY20171206-FrontPOS',\n",
              "       'MY20171206-FRONTPOS', 'SCPO764554', 'SCPO768186', 'SCPO769217',\n",
              "       'PO42115', '17001832 XN', 'TCMB/171212', 'SCPO836704', 'SG 1084',\n",
              "       'RRI/01/10/17/MANDY', 'HQS/03171', 'POEI21711101', 'POEI21802125',\n",
              "       'POEI21712093', 'OPSPO-37784', 'PORRI/05/12/17', 'PO26496',\n",
              "       'PO11917', 'PO11181', 'PO11685', 'PO11744', 'SCPO826427',\n",
              "       '5203/2018', '3803/2018', 'PO12594', 'PO12610', 'PA59272ATM',\n",
              "       'SCPO806807', 'SCPO849395', 'SCPO842713', 'PO00210035',\n",
              "       'SCPO859920', 'LF33703ATM', 'PA57576ATM', 'LF33569ATM',\n",
              "       'PA58446ATM', 'PA58334ATM', 'PO28653', 'PA60752ATM', 'SCPO866068',\n",
              "       '004/0618MLKIT', 'POML-201804-007', 'POML-201804-042',\n",
              "       'MY20180416', 'MY20180308', 'SCPO873185', 'SCPO844347',\n",
              "       'SCPO851065', 'SCPO859043', 'SCPO811227', 'PO0007560', 'PO180502',\n",
              "       'PO180401', 'LF33629ATM', 'PA58511ATM', 'PO24028', '2017-11114126',\n",
              "       'Sonoco-20171011-Elitebook 745', 'Sonoco-20170721-xyp EB 745 G4',\n",
              "       'Sonoco-20170706-xyp EB 745 G4', 'SONOCO-20170721-xyp EB 745 G4',\n",
              "       'SONOCO-20170706-xyp EB 745 G4', 'SCPO752563', 'SCPO758830',\n",
              "       'SCPO766957', 'SCPO759221', 'SCPO767095', 'SCPO767202',\n",
              "       'SCPO767128', 'SCPO773558', 'SCPO759902', 'SCPO760826',\n",
              "       'SCPO774848', 'SCPO762561', 'SCPO761751', 'SCPO771451',\n",
              "       'SCPO758860', 'SCPO776671', 'SCPO773509', 'SCPO758799',\n",
              "       'SCPO761107', 'SCPO764936', 'SCPO806346', 'SCPO854778',\n",
              "       'PO20180406-004', 'SCPO873078', 'SCPO869840', 'SCPO768857',\n",
              "       'SCPO752186', '5438598332116666MYS1', 'SCPO861165', 'SCPO861176',\n",
              "       'SAPO18073141', 'SCPO853301', 'SCPO851245', '46186', '48561',\n",
              "       'PO2018346', 'SCPO806312', 'SCPO820086', 'SCPO810144',\n",
              "       'SCPO871137', 'PO2018-05-1188851', 'SCPO765146', 'SCPO825221',\n",
              "       'SCPO815746', 'PO3423ITEC', 'PO3441', 'PSB3412', 'PO1100052732',\n",
              "       'ISM2018023', 'ISM2018/008', 'PO1100055395', 'MY20180302',\n",
              "       'SCPO828148', 'SCPO819281', 'SCPO871931', 'YxypO2018/007',\n",
              "       'SCPO830695', 'SCPO811203', 'SCPO824199', '1016/2018',\n",
              "       'SCPO811217', 'SCPO811207', '46185', 'SCPO811226',\n",
              "       '2017-11-113314', 'SCPO840852', 'YxypO2018/053', '3703/2018',\n",
              "       'D/MY/PTS/SHISEIDO/02052018-1', '4700012435', 'PO-1503', 'PO-1504',\n",
              "       'MY20180427', 'SCPO766940', 'SCPO773219', 'POCSI1895',\n",
              "       'RRI/05/11/17/mandy', 'SCPO810799', 'PO2305', 'PO0007143',\n",
              "       'P17120015', 'POR0000403', 'SCPO871762', 'P18060000', '5.51E+11',\n",
              "       'P18060014', 'P18060005', 'SCPO871280', '8100059493',\n",
              "       'PO0124-SDIST', 'SCPO875688', 'P18040032', 'SCPO854779',\n",
              "       'P18040030', 'PO0910/AXS', 'CSI-2014-1', 'CSI-2015-2', 'P18040017',\n",
              "       'CSI-2015-1', '7100031938', '541524564896050MYS1', 'CSI-2032-1',\n",
              "       '7100031325', '2018-03-117702', 'P18040019', '2018-03-117753',\n",
              "       'P18040018', 'SCPO864394', 'PO00000986', 'POEI21806006',\n",
              "       'SCPO845978', 'PO3240', 'PO2970', 'PO2968', 'PO2463', 'PO00000239',\n",
              "       'POKM/2696/17/961', 'KL5/8289622', 'kl5/8289581', 'KL5/8287823',\n",
              "       'KL5', 'KL5/8287491', 'KL5/8287463', 'POML/201802/011', 'PO327880',\n",
              "       '2017-10-113134/1', 'MY016418', 'PO11750', 'PO26471', 'SCPO812769',\n",
              "       'SCPO805497', 'SCPO824632', 'SCPO858257', 'SCPO841130',\n",
              "       'SCPO758308', 'SCPO775367', 'PO1711/01', 'SCPO762119',\n",
              "       'SCPO815241', 'BGPO17100131', 'BGPO17100130', 'SCPO799058',\n",
              "       'SCPO762620', 'SCPO825879', 'SCPO779035', 'SCPO774525',\n",
              "       'SCPO768252', 'SCPO760249', 'SCPO763907', 'SCPO767793',\n",
              "       'SCPO768284', 'SCPO766881', 'SCPO767711', 'SCPO759140',\n",
              "       'SCPO767787', 'SCPO767078', 'SCPO767912', 'SCPO766964',\n",
              "       'SCPO765678', 'SCPO759719', 'SCPO765684', 'SCPO767941',\n",
              "       'SCPO767210', 'SCPO770809', 'SCPO769223', 'SCPO767727',\n",
              "       'SCPO771715', 'SCPO776661', 'SCPO767881', 'SCPO756750',\n",
              "       'SCPO768727', 'SCPO768263', 'SCPO767276', 'SCPO757641',\n",
              "       'SCPO767724', 'SCPO768085', 'SCPO768347', 'SCPO767211',\n",
              "       'SCPO767771', 'SCPO752604', 'SCPO752601', 'SCPO871759', 'PO28919',\n",
              "       'SCPO877866', 'PO29389', 'PO1100057473', 'SCPO849390',\n",
              "       'PO1100058422', 'MY20180619', 'PO00001485', 'SCPO859216',\n",
              "       'PO28976', 'TGFADMGPCxyp2180318', 'SCPO794092', 'SCPO755744',\n",
              "       'SCPO752565', 'SCPO770567', 'SCPO870979', 'SCPO825931', 'PO18820',\n",
              "       'PO11439', 'PO4501900021135', 'PO4501900021382', 'SCPO864348',\n",
              "       'SCPO864345', 'PO0011973', 'PO003000-1', 'TGFADMGPCxyp2210318',\n",
              "       'LF33715ATM', 'SCPO869375', 'SCPO874277', 'OPSPO-39963',\n",
              "       '3002/2018', 'OPSPO-40176', 'SCPO858261', 'SCPO820954',\n",
              "       'SCPO830727', '1006/2018', 'SCPO856490', 'SCPO856473',\n",
              "       'SCPO874259', 'SCPO876680', 'TGFADMGPCxyp2200318',\n",
              "       'SAL/D/MY/UNS/EFMB/210417-1', 'SCPO863878', 'SCPO820054',\n",
              "       'SCPO834748', '5383729253123253MYS4', '20180601-29637869',\n",
              "       '5383729253101907MYS3', '15611/2017', 'YxypO2018/072',\n",
              "       'SCPO816490', '10206/2018', '1611/2017', 'SCPO866745',\n",
              "       'SCPO878559', 'SCPO877833', 'SCPO858236', 'PO12466', 'PO00001046',\n",
              "       'POEI180002', 'PO0012922', 'PO0012427', 'PO00001131', 'PO00000126',\n",
              "       'PO00001159', 'PO00000107', 'PO00000981', 'PO0012797',\n",
              "       'SCPO857853', 'SCPO843649', 'SCPO843625', '61309', 'SCPO857860',\n",
              "       'SCPO760435', 'PO4501900021068', 'SCPO794644', 'SCPO870988',\n",
              "       'SCPO873628', 'SCPO870105', 'SCPO833285', 'SCPO844000',\n",
              "       'SCPO821068', 'SCPO843811', 'PO27905', 'SCPO749280', 'SCPO749132',\n",
              "       'SCPO747233', 'SCPO748245', 'SCPO748271', 'SCPO768734',\n",
              "       'SCPO768737', 'SCPO756015', 'SCPO753014', 'SCPO770791',\n",
              "       'SCPO777334', 'SCPO769222', '4500848753', 'SCPO749418',\n",
              "       'SCPO758520', 'SCPO760655', 'SCPO758895', 'SCPO841399', 'PO11914',\n",
              "       'SCPO819924', 'SCPO828421', 'PO11745', 'PO26402', 'SCPO870252',\n",
              "       'SCPO860355', 'SCPO815249', 'SCPO834758', 'SKTSB180029',\n",
              "       'SCPO871278', 'SCPO877254', 'SCPO847452', 'SCPO861195',\n",
              "       'YxypO2018/054', 'SCPO874708', 'SCPO861180', 'SCPO876668',\n",
              "       'SCPO824653', 'SCPO873775', 'MPO1806012', 'SCPO852027', 'JB12644',\n",
              "       'SCPO825171', 'SCPO854803', 'SCPO805307', 'SCPO816714',\n",
              "       'YxypO2017/138', 'SCPO853298', 'SCPO843617', 'SCPO841173',\n",
              "       'PA59298ATM', 'SCPO763857', 'SCPO751030', 'SCPO749373',\n",
              "       'SCPO749311', 'SCPO778163', 'SCPO750224', 'ISM2017/082',\n",
              "       'SCPO769236', 'SCPO769257', 'SCPO761240', 'PO171201', 'PO00209993',\n",
              "       'PO00209989', 'Ongmy20180119', 'ONGMY20180119',\n",
              "       'D/MY/PS/MNA/24012018/1', 'SCPO864343', 'SCPO778206', 'SCPO777333',\n",
              "       'PO001231', 'PO00210025', 'D/MY/PS/MNA/20032018/1', 'MY20180318',\n",
              "       'PO001187', 'PO27745', 'SCPO873778', 'SCPO824714', 'SCPO825890',\n",
              "       'SKTB170076', 'SCPO856640', 'SCPO827421', 'SCPO764782',\n",
              "       'SCPO821218', 'SCPO794647', 'SCPO767110', 'SCPO777382',\n",
              "       'SCPO763926', 'SCPO773315', 'SCPO761232', 'SCPO765263',\n",
              "       'SCPO756579', 'SCPO875698', 'SCPO828168', 'SCPO849305',\n",
              "       'SCPO851843', 'SCPO765133', 'SCPO756076', 'SCPO828354',\n",
              "       'SCPO806446', 'KL5/42035274', 'POKL5/42034759', 'PO/2303160',\n",
              "       'SCPO811387', 'SCPO767799', 'SONOCO-20170425-xyp EB 745 G3',\n",
              "       'SCPO748909', 'PO2303326', 'SCPO801184', 'SCPO830029',\n",
              "       '500/PO-01565', 'SCPO821093', 'SCPO866415', 'SCPO772305',\n",
              "       'SCPO760633', 'SCPO774268', 'SCPO786303', 'SCPO758754',\n",
              "       'PO50001118', 'PO7862', 'SCPO871899', 'SCPO871134', 'SCPO861171',\n",
              "       'MY20180321', 'SCPO849414', '1712/4863/2', '1805/5078',\n",
              "       'SCPO806823', 'PO001103', 'SCPO774220', 'SCPO865926', 'SCPO796381',\n",
              "       '127545', 'SCPO786275', 'SCPO753012', 'SCPO756597', 'SCPO794651',\n",
              "       'SCPO860352', 'SCPO778208', 'SCPO772249', 'POEM180017',\n",
              "       'SCPO796512', 'SG1075', 'Hong Thai Travel-20170607',\n",
              "       'HONG THAI TRAVEL-20170607', 'SCPO869490', '17002032XN',\n",
              "       'PON006862', 'POC000173', 'POC000756', 'SCPO755662', 'SCPO766592',\n",
              "       'SCPO764960', 'SCPO758921', 'SCPO835976', 'SCPO812039',\n",
              "       'SCPO754676', 'SCPO774779', 'SCPO771406', 'SCPO755727',\n",
              "       'SCPO755755', 'SCPO760407', 'SCPO829179', 'PO180201', 'P180203',\n",
              "       'SCPO851636', 'PO00803', '1802/4963', '1804/5031', '1802/4975',\n",
              "       '1803/4983', 'SCPO867863', 'PO51542', '4500825080', '4500851671',\n",
              "       'SCPO755127', 'PO-7704', 'SCPO754257', 'PA58268ATM', 'SCPO766323',\n",
              "       'PA58227ATM', 'PO00001057', 'PA61158ATM', 'PA61515ATM',\n",
              "       'PO00000127', 'PA61849ATM', 'PO60302ATM', 'PA58445ATM',\n",
              "       'PO00210027', 'SCPO845957', 'SCPO773284', 'SCPO764002', 'PO51668',\n",
              "       'SCPO827438', 'SCPO854909', 'SCPO818045', 'SCPO807650',\n",
              "       'SCPO807423', 'SCPO808514', 'SCPO821045', 'SCPO847272',\n",
              "       'SCPO860504', 'SAPO17112148', 'EI170005', 'SCPO805313',\n",
              "       'SCPO853663', 'SCPO856928', 'SCPO850029', 'SCPO871489',\n",
              "       'SCPO823955', 'SCPO807748', 'SCPO835101', 'SCPO871062',\n",
              "       'SCPO870535', 'MY20180320', '8205-2018', 'SCPO833211',\n",
              "       'SCPO794090', 'SCPO795274', 'SCPO764858', 'SCPO803021',\n",
              "       'SCPO770724', 'SCPO772584', 'SCPO773241', 'SCPO773257',\n",
              "       'SCPO768659', 'SCPO768846', 'SCPO773254', 'SCPO773255',\n",
              "       'SCPO776311', 'SCPO767926', 'SCPO772241', 'SCPO775536',\n",
              "       'SCPO770778', 'SCPO771637', 'SCPO768645', 'SCPO777300',\n",
              "       'SCPO768881', 'SCPO768539', 'SCPO773297', 'SCPO768568',\n",
              "       'SCPO768522', 'SCPO768268', 'SCPO768574', 'SCPO773236',\n",
              "       'SCPO769293', 'SCPO776303', 'SCPO776314', 'SCPO762495',\n",
              "       'SCPO772165', 'SCPO770753', 'SCPO773229', 'SCPO770577',\n",
              "       'SCPO764803', 'SCPO775410', 'SCPO777952', 'SCPO778172',\n",
              "       'SCPO772451', 'SCPO773232', 'SCPO758840', 'SCPO770343',\n",
              "       'SCPO766550', 'SCPO768526', 'SCPO776298', 'SCPO753224',\n",
              "       'SCPO772665', 'SCPO753481', 'SCPO776307', 'SCPO773247',\n",
              "       'SCPO773281', 'SCPO769249', 'SCPO768259', 'SCPO757475',\n",
              "       'SCPO764013', 'SCPO802672', 'SCPO768650', 'SCPO773529',\n",
              "       'SCPO768511', 'SCPO829124', 'SCPO778158', 'SCPO759277', 'PO53689',\n",
              "       'KL5/8289500', 'PO1100057852', 'PO2302836', 'MY20170420-Petro',\n",
              "       'PO9018800069', 'SCPO861036', '71 33276', 'SCPO858738',\n",
              "       'SCPO848001', 'SCPO808466', 'SCPO805642', 'BGPO18010005',\n",
              "       'SCPO863650', 'SCPO863637', 'SCPO863653', 'SCPO863647',\n",
              "       'SCPO863651', 'SCPO863649', 'SCPO750640', 'SCPO863642',\n",
              "       'SCPO863646', 'SCPO863648', 'SCPO863636', 'SCPO863644',\n",
              "       'SCPO863645', 'SCPO872748', 'SCPO750856', 'PO50001254',\n",
              "       'PO1100053864', 'SCPO807760', 'SCPO859218', 'SCPO759096',\n",
              "       'SCPO861635', 'SCPO821397', 'SCPO808652', 'SCPO829937',\n",
              "       'SCPO873811', 'SCPO818003', 'SCPO843137', 'SCPO852395',\n",
              "       'SCPO834305', '2018/03/117014', 'SCPO759083', 'PO0000399',\n",
              "       'SCPO826708', 'PO020/1117MLKIT', 'SCPO805468', 'SCPO805490',\n",
              "       'SCPO805477', 'PO50001281', 'SCPO805513', 'SCPO816344',\n",
              "       'SCPO808588', 'PO000006/17', 'SCPO805487', 'SCPO808590',\n",
              "       'SCPO805478', 'SCPO805515', 'SCPO805517', 'PO4501900021391',\n",
              "       'PO76785', 'SCPO805469', 'SCPO805501', 'SCPO805514', 'SCPO805475',\n",
              "       'SCPO826309', 'SCPO805516', 'SCPO805509', 'SCPO805488',\n",
              "       'PO007 /1217MLKIT', 'SCPO805505', 'SCPO826711', 'SCPO807651',\n",
              "       'PO/000012/17', 'PO76968', 'SCPO827370', 'PO4501900021789',\n",
              "       'SCPO827459', 'SCPO805492', 'SCPO806445', 'SCPO805502',\n",
              "       'SCPO805498', 'PO1709-0042', 'SCPO793720', 'SCPO793753',\n",
              "       'SCPO873978', 'SCPO848247', 'SCPO864715', 'SCPO848201',\n",
              "       'SCPO861202', 'SCPO819070', 'SCPO820298', 'SCPO875759', 'PO180603',\n",
              "       '4500818964', '4500839251', 'PO000024-17', 'SCPO817911',\n",
              "       'PO180601', '4500835342', '4500829176', 'POML-201806-',\n",
              "       'SCPO869846', 'SCPO809600', '4500843435', 'GS1/1718/020',\n",
              "       'SCPO828820', 'SCPO869842', 'GS1/1718/022', 'PO77442',\n",
              "       '4500850071', 'PO-7732', '4500824367', '4500815070', 'PO-7758',\n",
              "       '4500848427', 'SCPO875687', 'SCPO871923', 'GS1/1718/030',\n",
              "       'PO-000024-17', 'PO/000015/17', 'SCPO842774', 'YxypO',\n",
              "       'SCPO849806', 'PO77246', 'SCPO832710', 'SCPO849402', 'SCPO841351',\n",
              "       'FMM/1718/069', 'SCPO800047', '2DC-4507796493', 'SCPO856424',\n",
              "       'SCPO870359', 'Sonoco-20170425-xyp EB 745', 'SCPO758884',\n",
              "       'SCPO754678', 'SCPO754421', 'SCPO781510', 'SCPO754423',\n",
              "       'PO1707-0020', 'SCPO754850', 'SCPO774078', 'SCPO754290',\n",
              "       'SCPO776319', 'SCPO754840', 'SCPO869488', 'SCPO846630',\n",
              "       'MY20180207', 'MY20180606', 'SCPO870957', 'MY20180413',\n",
              "       'MY20180508', 'PO29071', 'PA59894ATM', 'PO7915', 'PO-7877',\n",
              "       'SCPO751073', 'SCPO752851', 'SCPO758125', 'PO1705-0065',\n",
              "       'SCPO754847', 'SCPO760058', 'SCPO844014', 'SCPO849394',\n",
              "       'SCPO829273', 'SCPO875758', 'SCPO864403', 'SCPO867390',\n",
              "       'SCPO878562', 'SCPO867296', 'SCPO877823', 'SCPO874977',\n",
              "       'SCPO876685', 'SCPO860817'], dtype=object)"
            ]
          },
          "metadata": {
            "tags": []
          },
          "execution_count": 84
        }
      ]
    },
    {
      "cell_type": "code",
      "metadata": {
        "colab": {
          "base_uri": "https://localhost:8080/"
        },
        "id": "-oDUMpikKnNv",
        "outputId": "3bfd8b66-2e93-453c-d24e-5b2bc5dc0b59"
      },
      "source": [
        "PurchaseOrderNo.shape"
      ],
      "execution_count": null,
      "outputs": [
        {
          "output_type": "execute_result",
          "data": {
            "text/plain": [
              "(845,)"
            ]
          },
          "metadata": {
            "tags": []
          },
          "execution_count": 85
        }
      ]
    },
    {
      "cell_type": "markdown",
      "metadata": {
        "id": "qq9SqQMrtiz0"
      },
      "source": [
        "From the result above,we could not conclude that ProductLine, ProductNumber and PurchaseOrderNo are carrying the same information."
      ]
    },
    {
      "cell_type": "markdown",
      "metadata": {
        "id": "br_z3sU5tiz3"
      },
      "source": [
        "We will like to verify that PurchaseOrderNo has the same information as CustomerOrder and CustomerName."
      ]
    },
    {
      "cell_type": "code",
      "metadata": {
        "colab": {
          "base_uri": "https://localhost:8080/"
        },
        "id": "Pq4I9jqytiz3",
        "outputId": "85791740-859e-4110-d7aa-89fb011adcdb"
      },
      "source": [
        "customerOrder = new_df['CustomerOrder'].unique()\n",
        "customerOrder"
      ],
      "execution_count": null,
      "outputs": [
        {
          "output_type": "execute_result",
          "data": {
            "text/plain": [
              "array(['N', 'Y'], dtype=object)"
            ]
          },
          "metadata": {
            "tags": []
          },
          "execution_count": 86
        }
      ]
    },
    {
      "cell_type": "code",
      "metadata": {
        "colab": {
          "base_uri": "https://localhost:8080/"
        },
        "id": "DBTGAiQltiz5",
        "outputId": "a087d3d9-c247-4c9d-e262-145a9e98fd79"
      },
      "source": [
        "CustomerName = new_df['CustomerName'].unique()\n",
        "CustomerName.shape"
      ],
      "execution_count": null,
      "outputs": [
        {
          "output_type": "execute_result",
          "data": {
            "text/plain": [
              "(409,)"
            ]
          },
          "metadata": {
            "tags": []
          },
          "execution_count": 87
        }
      ]
    },
    {
      "cell_type": "markdown",
      "metadata": {
        "id": "pBJNjwTrtiz6"
      },
      "source": [
        "They are not carrying the same information based on the unique result that we obtained."
      ]
    },
    {
      "cell_type": "markdown",
      "metadata": {
        "id": "iipsSbnztiz7"
      },
      "source": [
        "We can start by eliminating the features that represent the unnecessary features in the dataset according to the objectives.\n"
      ]
    },
    {
      "cell_type": "code",
      "metadata": {
        "colab": {
          "base_uri": "https://localhost:8080/"
        },
        "id": "QlC-F_rMtiz7",
        "outputId": "e80e2a17-1c5f-4e48-f1d4-787dc091b90f"
      },
      "source": [
        "# remove the features that are not related to the objectives\n",
        "sales = new_df.drop(['InvoiceStatus', 'InvoiceToAddr', 'ShipToAddr5','SalesRep', 'Status', 'xypOrderNo'], axis = 1) \n",
        "sales"
      ],
      "execution_count": null,
      "outputs": [
        {
          "output_type": "execute_result",
          "data": {
            "text/html": [
              "<div>\n",
              "<style scoped>\n",
              "    .dataframe tbody tr th:only-of-type {\n",
              "        vertical-align: middle;\n",
              "    }\n",
              "\n",
              "    .dataframe tbody tr th {\n",
              "        vertical-align: top;\n",
              "    }\n",
              "\n",
              "    .dataframe thead th {\n",
              "        text-align: right;\n",
              "    }\n",
              "</style>\n",
              "<table border=\"1\" class=\"dataframe\">\n",
              "  <thead>\n",
              "    <tr style=\"text-align: right;\">\n",
              "      <th></th>\n",
              "      <th>PurchaseOrderDate</th>\n",
              "      <th>PurchaseOrderNo</th>\n",
              "      <th>ProductLines</th>\n",
              "      <th>ProductNumber</th>\n",
              "      <th>NetLineDollarPrice</th>\n",
              "      <th>NetOrderDollarPrice</th>\n",
              "      <th>OrderedQuantity</th>\n",
              "      <th>WebOrderNo</th>\n",
              "      <th>CustomerName</th>\n",
              "      <th>ShipToAddr2</th>\n",
              "      <th>CustomerOrder</th>\n",
              "    </tr>\n",
              "  </thead>\n",
              "  <tbody>\n",
              "    <tr>\n",
              "      <th>0</th>\n",
              "      <td>15/5/2017</td>\n",
              "      <td>PO 94464</td>\n",
              "      <td>7F 8W 9F 9R AN BO MP</td>\n",
              "      <td>ZG229AV</td>\n",
              "      <td>0.0</td>\n",
              "      <td>0.00</td>\n",
              "      <td>1</td>\n",
              "      <td>SCPO757686</td>\n",
              "      <td>Hon Mun Ng</td>\n",
              "      <td>Maxell Tohshin (M) Sdn Bhd</td>\n",
              "      <td>N</td>\n",
              "    </tr>\n",
              "    <tr>\n",
              "      <th>1</th>\n",
              "      <td>15/5/2017</td>\n",
              "      <td>PO 94464</td>\n",
              "      <td>7F 8W 9F 9R AN BO MP</td>\n",
              "      <td>ZG229AV</td>\n",
              "      <td>0.0</td>\n",
              "      <td>0.00</td>\n",
              "      <td>1</td>\n",
              "      <td>SCPO757686</td>\n",
              "      <td>Hon Mun Ng</td>\n",
              "      <td>Maxell Tohshin (M) Sdn Bhd</td>\n",
              "      <td>N</td>\n",
              "    </tr>\n",
              "    <tr>\n",
              "      <th>2</th>\n",
              "      <td>5/1/2018</td>\n",
              "      <td>JV2017/000058</td>\n",
              "      <td>8J 8N 8W MG</td>\n",
              "      <td>Z9Y75AV</td>\n",
              "      <td>0.0</td>\n",
              "      <td>0.00</td>\n",
              "      <td>6</td>\n",
              "      <td>SCPO825227</td>\n",
              "      <td>Hon Mun Ng</td>\n",
              "      <td>Maxell Tohshin (M) Sdn Bhd</td>\n",
              "      <td>N</td>\n",
              "    </tr>\n",
              "    <tr>\n",
              "      <th>3</th>\n",
              "      <td>5/1/2018</td>\n",
              "      <td>JV2017/000058</td>\n",
              "      <td>8J 8N 8W MG</td>\n",
              "      <td>Z9Y75AV</td>\n",
              "      <td>0.0</td>\n",
              "      <td>0.00</td>\n",
              "      <td>6</td>\n",
              "      <td>SCPO825227</td>\n",
              "      <td>Hon Mun Ng</td>\n",
              "      <td>Maxell Tohshin (M) Sdn Bhd</td>\n",
              "      <td>N</td>\n",
              "    </tr>\n",
              "    <tr>\n",
              "      <th>4</th>\n",
              "      <td>5/1/2018</td>\n",
              "      <td>JV2017/000058</td>\n",
              "      <td>8J 8N MG</td>\n",
              "      <td>Z9Y75AV</td>\n",
              "      <td>0.0</td>\n",
              "      <td>6585.37</td>\n",
              "      <td>6</td>\n",
              "      <td>SCPO825227</td>\n",
              "      <td>Hon Mun Ng</td>\n",
              "      <td>Maxell Tohshin (M) Sdn Bhd</td>\n",
              "      <td>N</td>\n",
              "    </tr>\n",
              "    <tr>\n",
              "      <th>...</th>\n",
              "      <td>...</td>\n",
              "      <td>...</td>\n",
              "      <td>...</td>\n",
              "      <td>...</td>\n",
              "      <td>...</td>\n",
              "      <td>...</td>\n",
              "      <td>...</td>\n",
              "      <td>...</td>\n",
              "      <td>...</td>\n",
              "      <td>...</td>\n",
              "      <td>...</td>\n",
              "    </tr>\n",
              "    <tr>\n",
              "      <th>59373</th>\n",
              "      <td>22/8/2017</td>\n",
              "      <td>SG 1084</td>\n",
              "      <td>7F 8W BO GA MP</td>\n",
              "      <td>1AB33AV</td>\n",
              "      <td>0.0</td>\n",
              "      <td>2957.14</td>\n",
              "      <td>2</td>\n",
              "      <td>SCPO786084</td>\n",
              "      <td>Ke-Heam Peh</td>\n",
              "      <td>PQ Engineering Pte Ltd</td>\n",
              "      <td>Y</td>\n",
              "    </tr>\n",
              "    <tr>\n",
              "      <th>59374</th>\n",
              "      <td>22/8/2017</td>\n",
              "      <td>SG 1084</td>\n",
              "      <td>7F 8W BO GA MP</td>\n",
              "      <td>1AB33AV</td>\n",
              "      <td>0.0</td>\n",
              "      <td>0.00</td>\n",
              "      <td>2</td>\n",
              "      <td>SCPO786084</td>\n",
              "      <td>Ke-Heam Peh</td>\n",
              "      <td>PQ Engineering Pte Ltd</td>\n",
              "      <td>Y</td>\n",
              "    </tr>\n",
              "    <tr>\n",
              "      <th>59375</th>\n",
              "      <td>22/8/2017</td>\n",
              "      <td>SG 1084</td>\n",
              "      <td>7F 8W BO GA MP</td>\n",
              "      <td>1AB33AV</td>\n",
              "      <td>0.0</td>\n",
              "      <td>2957.14</td>\n",
              "      <td>2</td>\n",
              "      <td>SCPO786084</td>\n",
              "      <td>Ke-Heam Peh</td>\n",
              "      <td>PQ Engineering Pte Ltd</td>\n",
              "      <td>Y</td>\n",
              "    </tr>\n",
              "    <tr>\n",
              "      <th>59376</th>\n",
              "      <td>22/8/2017</td>\n",
              "      <td>SG 1084</td>\n",
              "      <td>7F 8W BO GA MP</td>\n",
              "      <td>1AB33AV</td>\n",
              "      <td>0.0</td>\n",
              "      <td>2957.14</td>\n",
              "      <td>2</td>\n",
              "      <td>SCPO786084</td>\n",
              "      <td>Ke-Heam Peh</td>\n",
              "      <td>PQ Engineering Pte Ltd</td>\n",
              "      <td>Y</td>\n",
              "    </tr>\n",
              "    <tr>\n",
              "      <th>59377</th>\n",
              "      <td>22/8/2017</td>\n",
              "      <td>SG 1084</td>\n",
              "      <td>7F 8W BO GA MP</td>\n",
              "      <td>1AB33AV</td>\n",
              "      <td>0.0</td>\n",
              "      <td>0.00</td>\n",
              "      <td>2</td>\n",
              "      <td>SCPO786084</td>\n",
              "      <td>Ke-Heam Peh</td>\n",
              "      <td>PQ Engineering Pte Ltd</td>\n",
              "      <td>Y</td>\n",
              "    </tr>\n",
              "  </tbody>\n",
              "</table>\n",
              "<p>59378 rows × 11 columns</p>\n",
              "</div>"
            ],
            "text/plain": [
              "      PurchaseOrderDate  ... CustomerOrder\n",
              "0             15/5/2017  ...             N\n",
              "1             15/5/2017  ...             N\n",
              "2              5/1/2018  ...             N\n",
              "3              5/1/2018  ...             N\n",
              "4              5/1/2018  ...             N\n",
              "...                 ...  ...           ...\n",
              "59373         22/8/2017  ...             Y\n",
              "59374         22/8/2017  ...             Y\n",
              "59375         22/8/2017  ...             Y\n",
              "59376         22/8/2017  ...             Y\n",
              "59377         22/8/2017  ...             Y\n",
              "\n",
              "[59378 rows x 11 columns]"
            ]
          },
          "metadata": {
            "tags": []
          },
          "execution_count": 88
        }
      ]
    },
    {
      "cell_type": "code",
      "metadata": {
        "colab": {
          "base_uri": "https://localhost:8080/"
        },
        "id": "ENwb7434tiz9",
        "outputId": "1d56faef-3a5b-44c2-f16b-f0a2c28f7be5"
      },
      "source": [
        "sales.shape"
      ],
      "execution_count": null,
      "outputs": [
        {
          "output_type": "execute_result",
          "data": {
            "text/plain": [
              "(59378, 11)"
            ]
          },
          "metadata": {
            "tags": []
          },
          "execution_count": 89
        }
      ]
    },
    {
      "cell_type": "markdown",
      "metadata": {
        "id": "2ToHNfrrtiz_"
      },
      "source": [
        "## 4. Data Transformation"
      ]
    },
    {
      "cell_type": "markdown",
      "metadata": {
        "id": "iin_hho1ti0A"
      },
      "source": [
        "Data Transformation is the process of converting data from one format to another."
      ]
    },
    {
      "cell_type": "code",
      "metadata": {
        "colab": {
          "base_uri": "https://localhost:8080/"
        },
        "id": "Tek-WkqRti0C",
        "outputId": "2d195a93-5b73-48c0-8aeb-de641a094de4"
      },
      "source": [
        "#Converting the PurchaseOrderDate to DataTime format\n",
        "\n",
        "sales[\"PurchaseOrderDate\"] = pd.to_datetime(sales[\"PurchaseOrderDate\"])\n",
        "sales"
      ],
      "execution_count": null,
      "outputs": [
        {
          "output_type": "execute_result",
          "data": {
            "text/html": [
              "<div>\n",
              "<style scoped>\n",
              "    .dataframe tbody tr th:only-of-type {\n",
              "        vertical-align: middle;\n",
              "    }\n",
              "\n",
              "    .dataframe tbody tr th {\n",
              "        vertical-align: top;\n",
              "    }\n",
              "\n",
              "    .dataframe thead th {\n",
              "        text-align: right;\n",
              "    }\n",
              "</style>\n",
              "<table border=\"1\" class=\"dataframe\">\n",
              "  <thead>\n",
              "    <tr style=\"text-align: right;\">\n",
              "      <th></th>\n",
              "      <th>PurchaseOrderDate</th>\n",
              "      <th>PurchaseOrderNo</th>\n",
              "      <th>ProductLines</th>\n",
              "      <th>ProductNumber</th>\n",
              "      <th>NetLineDollarPrice</th>\n",
              "      <th>NetOrderDollarPrice</th>\n",
              "      <th>OrderedQuantity</th>\n",
              "      <th>WebOrderNo</th>\n",
              "      <th>CustomerName</th>\n",
              "      <th>ShipToAddr2</th>\n",
              "      <th>CustomerOrder</th>\n",
              "    </tr>\n",
              "  </thead>\n",
              "  <tbody>\n",
              "    <tr>\n",
              "      <th>0</th>\n",
              "      <td>2017-05-15</td>\n",
              "      <td>PO 94464</td>\n",
              "      <td>7F 8W 9F 9R AN BO MP</td>\n",
              "      <td>ZG229AV</td>\n",
              "      <td>0.0</td>\n",
              "      <td>0.00</td>\n",
              "      <td>1</td>\n",
              "      <td>SCPO757686</td>\n",
              "      <td>Hon Mun Ng</td>\n",
              "      <td>Maxell Tohshin (M) Sdn Bhd</td>\n",
              "      <td>N</td>\n",
              "    </tr>\n",
              "    <tr>\n",
              "      <th>1</th>\n",
              "      <td>2017-05-15</td>\n",
              "      <td>PO 94464</td>\n",
              "      <td>7F 8W 9F 9R AN BO MP</td>\n",
              "      <td>ZG229AV</td>\n",
              "      <td>0.0</td>\n",
              "      <td>0.00</td>\n",
              "      <td>1</td>\n",
              "      <td>SCPO757686</td>\n",
              "      <td>Hon Mun Ng</td>\n",
              "      <td>Maxell Tohshin (M) Sdn Bhd</td>\n",
              "      <td>N</td>\n",
              "    </tr>\n",
              "    <tr>\n",
              "      <th>2</th>\n",
              "      <td>2018-05-01</td>\n",
              "      <td>JV2017/000058</td>\n",
              "      <td>8J 8N 8W MG</td>\n",
              "      <td>Z9Y75AV</td>\n",
              "      <td>0.0</td>\n",
              "      <td>0.00</td>\n",
              "      <td>6</td>\n",
              "      <td>SCPO825227</td>\n",
              "      <td>Hon Mun Ng</td>\n",
              "      <td>Maxell Tohshin (M) Sdn Bhd</td>\n",
              "      <td>N</td>\n",
              "    </tr>\n",
              "    <tr>\n",
              "      <th>3</th>\n",
              "      <td>2018-05-01</td>\n",
              "      <td>JV2017/000058</td>\n",
              "      <td>8J 8N 8W MG</td>\n",
              "      <td>Z9Y75AV</td>\n",
              "      <td>0.0</td>\n",
              "      <td>0.00</td>\n",
              "      <td>6</td>\n",
              "      <td>SCPO825227</td>\n",
              "      <td>Hon Mun Ng</td>\n",
              "      <td>Maxell Tohshin (M) Sdn Bhd</td>\n",
              "      <td>N</td>\n",
              "    </tr>\n",
              "    <tr>\n",
              "      <th>4</th>\n",
              "      <td>2018-05-01</td>\n",
              "      <td>JV2017/000058</td>\n",
              "      <td>8J 8N MG</td>\n",
              "      <td>Z9Y75AV</td>\n",
              "      <td>0.0</td>\n",
              "      <td>6585.37</td>\n",
              "      <td>6</td>\n",
              "      <td>SCPO825227</td>\n",
              "      <td>Hon Mun Ng</td>\n",
              "      <td>Maxell Tohshin (M) Sdn Bhd</td>\n",
              "      <td>N</td>\n",
              "    </tr>\n",
              "    <tr>\n",
              "      <th>...</th>\n",
              "      <td>...</td>\n",
              "      <td>...</td>\n",
              "      <td>...</td>\n",
              "      <td>...</td>\n",
              "      <td>...</td>\n",
              "      <td>...</td>\n",
              "      <td>...</td>\n",
              "      <td>...</td>\n",
              "      <td>...</td>\n",
              "      <td>...</td>\n",
              "      <td>...</td>\n",
              "    </tr>\n",
              "    <tr>\n",
              "      <th>59373</th>\n",
              "      <td>2017-08-22</td>\n",
              "      <td>SG 1084</td>\n",
              "      <td>7F 8W BO GA MP</td>\n",
              "      <td>1AB33AV</td>\n",
              "      <td>0.0</td>\n",
              "      <td>2957.14</td>\n",
              "      <td>2</td>\n",
              "      <td>SCPO786084</td>\n",
              "      <td>Ke-Heam Peh</td>\n",
              "      <td>PQ Engineering Pte Ltd</td>\n",
              "      <td>Y</td>\n",
              "    </tr>\n",
              "    <tr>\n",
              "      <th>59374</th>\n",
              "      <td>2017-08-22</td>\n",
              "      <td>SG 1084</td>\n",
              "      <td>7F 8W BO GA MP</td>\n",
              "      <td>1AB33AV</td>\n",
              "      <td>0.0</td>\n",
              "      <td>0.00</td>\n",
              "      <td>2</td>\n",
              "      <td>SCPO786084</td>\n",
              "      <td>Ke-Heam Peh</td>\n",
              "      <td>PQ Engineering Pte Ltd</td>\n",
              "      <td>Y</td>\n",
              "    </tr>\n",
              "    <tr>\n",
              "      <th>59375</th>\n",
              "      <td>2017-08-22</td>\n",
              "      <td>SG 1084</td>\n",
              "      <td>7F 8W BO GA MP</td>\n",
              "      <td>1AB33AV</td>\n",
              "      <td>0.0</td>\n",
              "      <td>2957.14</td>\n",
              "      <td>2</td>\n",
              "      <td>SCPO786084</td>\n",
              "      <td>Ke-Heam Peh</td>\n",
              "      <td>PQ Engineering Pte Ltd</td>\n",
              "      <td>Y</td>\n",
              "    </tr>\n",
              "    <tr>\n",
              "      <th>59376</th>\n",
              "      <td>2017-08-22</td>\n",
              "      <td>SG 1084</td>\n",
              "      <td>7F 8W BO GA MP</td>\n",
              "      <td>1AB33AV</td>\n",
              "      <td>0.0</td>\n",
              "      <td>2957.14</td>\n",
              "      <td>2</td>\n",
              "      <td>SCPO786084</td>\n",
              "      <td>Ke-Heam Peh</td>\n",
              "      <td>PQ Engineering Pte Ltd</td>\n",
              "      <td>Y</td>\n",
              "    </tr>\n",
              "    <tr>\n",
              "      <th>59377</th>\n",
              "      <td>2017-08-22</td>\n",
              "      <td>SG 1084</td>\n",
              "      <td>7F 8W BO GA MP</td>\n",
              "      <td>1AB33AV</td>\n",
              "      <td>0.0</td>\n",
              "      <td>0.00</td>\n",
              "      <td>2</td>\n",
              "      <td>SCPO786084</td>\n",
              "      <td>Ke-Heam Peh</td>\n",
              "      <td>PQ Engineering Pte Ltd</td>\n",
              "      <td>Y</td>\n",
              "    </tr>\n",
              "  </tbody>\n",
              "</table>\n",
              "<p>59378 rows × 11 columns</p>\n",
              "</div>"
            ],
            "text/plain": [
              "      PurchaseOrderDate  ... CustomerOrder\n",
              "0            2017-05-15  ...             N\n",
              "1            2017-05-15  ...             N\n",
              "2            2018-05-01  ...             N\n",
              "3            2018-05-01  ...             N\n",
              "4            2018-05-01  ...             N\n",
              "...                 ...  ...           ...\n",
              "59373        2017-08-22  ...             Y\n",
              "59374        2017-08-22  ...             Y\n",
              "59375        2017-08-22  ...             Y\n",
              "59376        2017-08-22  ...             Y\n",
              "59377        2017-08-22  ...             Y\n",
              "\n",
              "[59378 rows x 11 columns]"
            ]
          },
          "metadata": {
            "tags": []
          },
          "execution_count": 90
        }
      ]
    },
    {
      "cell_type": "code",
      "metadata": {
        "colab": {
          "base_uri": "https://localhost:8080/"
        },
        "id": "2iFPhp0dti0D",
        "outputId": "4046c77e-15e4-4732-86df-cb30b042ad6f"
      },
      "source": [
        "sales.info()"
      ],
      "execution_count": null,
      "outputs": [
        {
          "output_type": "stream",
          "text": [
            "<class 'pandas.core.frame.DataFrame'>\n",
            "RangeIndex: 59378 entries, 0 to 59377\n",
            "Data columns (total 11 columns):\n",
            " #   Column               Non-Null Count  Dtype         \n",
            "---  ------               --------------  -----         \n",
            " 0   PurchaseOrderDate    59378 non-null  datetime64[ns]\n",
            " 1   PurchaseOrderNo      59378 non-null  object        \n",
            " 2   ProductLines         59378 non-null  object        \n",
            " 3   ProductNumber        59378 non-null  object        \n",
            " 4   NetLineDollarPrice   59378 non-null  float64       \n",
            " 5   NetOrderDollarPrice  59378 non-null  float64       \n",
            " 6   OrderedQuantity      59378 non-null  int64         \n",
            " 7   WebOrderNo           59378 non-null  object        \n",
            " 8   CustomerName         59378 non-null  object        \n",
            " 9   ShipToAddr2          59378 non-null  object        \n",
            " 10  CustomerOrder        59378 non-null  object        \n",
            "dtypes: datetime64[ns](1), float64(2), int64(1), object(7)\n",
            "memory usage: 5.0+ MB\n"
          ],
          "name": "stdout"
        }
      ]
    },
    {
      "cell_type": "markdown",
      "metadata": {
        "id": "mi7_sUTtti0E"
      },
      "source": [
        "## 5. Exploratory Data Analysis (EDA)"
      ]
    },
    {
      "cell_type": "markdown",
      "metadata": {
        "id": "XJUsjksQti0F"
      },
      "source": [
        "EDA involves with the process of getting insights from the dataset and perform descriptive statistics."
      ]
    },
    {
      "cell_type": "code",
      "metadata": {
        "colab": {
          "base_uri": "https://localhost:8080/",
          "height": 300
        },
        "id": "hpMnGR4Dti0G",
        "outputId": "1ddc4920-b872-4945-a78c-320922de93d7"
      },
      "source": [
        "sales.describe()"
      ],
      "execution_count": null,
      "outputs": [
        {
          "output_type": "execute_result",
          "data": {
            "text/html": [
              "<div>\n",
              "<style scoped>\n",
              "    .dataframe tbody tr th:only-of-type {\n",
              "        vertical-align: middle;\n",
              "    }\n",
              "\n",
              "    .dataframe tbody tr th {\n",
              "        vertical-align: top;\n",
              "    }\n",
              "\n",
              "    .dataframe thead th {\n",
              "        text-align: right;\n",
              "    }\n",
              "</style>\n",
              "<table border=\"1\" class=\"dataframe\">\n",
              "  <thead>\n",
              "    <tr style=\"text-align: right;\">\n",
              "      <th></th>\n",
              "      <th>NetLineDollarPrice</th>\n",
              "      <th>NetOrderDollarPrice</th>\n",
              "      <th>OrderedQuantity</th>\n",
              "    </tr>\n",
              "  </thead>\n",
              "  <tbody>\n",
              "    <tr>\n",
              "      <th>count</th>\n",
              "      <td>59378.000000</td>\n",
              "      <td>59378.000000</td>\n",
              "      <td>59378.000000</td>\n",
              "    </tr>\n",
              "    <tr>\n",
              "      <th>mean</th>\n",
              "      <td>167.960680</td>\n",
              "      <td>2601.289978</td>\n",
              "      <td>4.425107</td>\n",
              "    </tr>\n",
              "    <tr>\n",
              "      <th>std</th>\n",
              "      <td>1778.386717</td>\n",
              "      <td>10090.008458</td>\n",
              "      <td>10.974984</td>\n",
              "    </tr>\n",
              "    <tr>\n",
              "      <th>min</th>\n",
              "      <td>-78138.000000</td>\n",
              "      <td>-78926.950000</td>\n",
              "      <td>1.000000</td>\n",
              "    </tr>\n",
              "    <tr>\n",
              "      <th>25%</th>\n",
              "      <td>0.000000</td>\n",
              "      <td>213.270000</td>\n",
              "      <td>1.000000</td>\n",
              "    </tr>\n",
              "    <tr>\n",
              "      <th>50%</th>\n",
              "      <td>0.000000</td>\n",
              "      <td>1022.590000</td>\n",
              "      <td>1.000000</td>\n",
              "    </tr>\n",
              "    <tr>\n",
              "      <th>75%</th>\n",
              "      <td>0.000000</td>\n",
              "      <td>2512.480000</td>\n",
              "      <td>3.000000</td>\n",
              "    </tr>\n",
              "    <tr>\n",
              "      <th>max</th>\n",
              "      <td>78138.000000</td>\n",
              "      <td>78926.950000</td>\n",
              "      <td>600.000000</td>\n",
              "    </tr>\n",
              "  </tbody>\n",
              "</table>\n",
              "</div>"
            ],
            "text/plain": [
              "       NetLineDollarPrice  NetOrderDollarPrice  OrderedQuantity\n",
              "count        59378.000000         59378.000000     59378.000000\n",
              "mean           167.960680          2601.289978         4.425107\n",
              "std           1778.386717         10090.008458        10.974984\n",
              "min         -78138.000000        -78926.950000         1.000000\n",
              "25%              0.000000           213.270000         1.000000\n",
              "50%              0.000000          1022.590000         1.000000\n",
              "75%              0.000000          2512.480000         3.000000\n",
              "max          78138.000000         78926.950000       600.000000"
            ]
          },
          "metadata": {
            "tags": []
          },
          "execution_count": 92
        }
      ]
    },
    {
      "cell_type": "markdown",
      "metadata": {
        "id": "7CEpexLWLNed"
      },
      "source": [
        "We can observe from the above table that:\n",
        "\n",
        "\n",
        "\n",
        "*   The maximum dollar price from the order net profit is around 78,927 dollars and the maximum dollar price from the product net profit is around 78, 138 dollars. To conclude, order net profit has a higher amount than the net profit obtained from the Line.\n",
        "\n",
        "*   The highest amount of ordered quantity would be 600 items.\n",
        "\n"
      ]
    },
    {
      "cell_type": "markdown",
      "metadata": {
        "id": "FzS84paDti0I"
      },
      "source": [
        "#### i. Continuous Variable Distribution"
      ]
    },
    {
      "cell_type": "code",
      "metadata": {
        "colab": {
          "base_uri": "https://localhost:8080/",
          "height": 386
        },
        "id": "FazmCYmPti0J",
        "outputId": "66f8f3a2-e819-405a-ef1c-3e5fc4c767b2"
      },
      "source": [
        " sns.displot(sales, x=\"NetLineDollarPrice\", bins=10)"
      ],
      "execution_count": null,
      "outputs": [
        {
          "output_type": "execute_result",
          "data": {
            "text/plain": [
              "<seaborn.axisgrid.FacetGrid at 0x7f006b9936a0>"
            ]
          },
          "metadata": {
            "tags": []
          },
          "execution_count": 93
        },
        {
          "output_type": "display_data",
          "data": {
            "image/png": "[encoded data removed]",
            "text/plain": [
              "<Figure size 360x360 with 1 Axes>"
            ]
          },
          "metadata": {
            "tags": [],
            "needs_background": "light"
          }
        }
      ]
    },
    {
      "cell_type": "code",
      "metadata": {
        "colab": {
          "base_uri": "https://localhost:8080/",
          "height": 386
        },
        "id": "Cen4chVIti0K",
        "outputId": "2f2322ff-29ad-4151-8114-217b6346291a"
      },
      "source": [
        " sns.displot(sales, x=\"NetOrderDollarPrice\", bins=10)"
      ],
      "execution_count": null,
      "outputs": [
        {
          "output_type": "execute_result",
          "data": {
            "text/plain": [
              "<seaborn.axisgrid.FacetGrid at 0x7f006b988198>"
            ]
          },
          "metadata": {
            "tags": []
          },
          "execution_count": 94
        },
        {
          "output_type": "display_data",
          "data": {
            "image/png": "[encoded data removed]",
            "text/plain": [
              "<Figure size 360x360 with 1 Axes>"
            ]
          },
          "metadata": {
            "tags": [],
            "needs_background": "light"
          }
        }
      ]
    },
    {
      "cell_type": "code",
      "metadata": {
        "colab": {
          "base_uri": "https://localhost:8080/",
          "height": 386
        },
        "id": "vKnkcg53ti0M",
        "outputId": "b39e3a9c-af54-48c9-e71c-e80e44e53763"
      },
      "source": [
        "sns.displot(sales, x=\"OrderedQuantity\", bins=20)"
      ],
      "execution_count": null,
      "outputs": [
        {
          "output_type": "execute_result",
          "data": {
            "text/plain": [
              "<seaborn.axisgrid.FacetGrid at 0x7f006b9885c0>"
            ]
          },
          "metadata": {
            "tags": []
          },
          "execution_count": 95
        },
        {
          "output_type": "display_data",
          "data": {
            "image/png": "[encoded data removed]",
            "text/plain": [
              "<Figure size 360x360 with 1 Axes>"
            ]
          },
          "metadata": {
            "tags": [],
            "needs_background": "light"
          }
        }
      ]
    },
    {
      "cell_type": "markdown",
      "metadata": {
        "id": "7kie47SJti0M"
      },
      "source": [
        "#### ii. Datewise Analysis "
      ]
    },
    {
      "cell_type": "markdown",
      "metadata": {
        "id": "c_HNBDDsMVZW"
      },
      "source": [
        "Datewise analysis is used to analyze the trends of NetLineDollarPrice, NetOrderDollarPrice and OrderedQuantity according to time."
      ]
    },
    {
      "cell_type": "code",
      "metadata": {
        "colab": {
          "base_uri": "https://localhost:8080/",
          "height": 455
        },
        "id": "0OS7h6f8ti0O",
        "outputId": "70038787-6fb9-4d1a-cf65-249b1f77dcb3"
      },
      "source": [
        "# Summation of the continuous variables inside the latest dataset\n",
        "# A new variable called datawise stores the data regarding the continous variables based on the purchase date\n",
        "datewise=sales.groupby([\"PurchaseOrderDate\"]).agg({\"NetLineDollarPrice\":'sum', \"NetOrderDollarPrice\":'sum', \"OrderedQuantity\":'sum'})\n",
        "datewise"
      ],
      "execution_count": null,
      "outputs": [
        {
          "output_type": "execute_result",
          "data": {
            "text/html": [
              "<div>\n",
              "<style scoped>\n",
              "    .dataframe tbody tr th:only-of-type {\n",
              "        vertical-align: middle;\n",
              "    }\n",
              "\n",
              "    .dataframe tbody tr th {\n",
              "        vertical-align: top;\n",
              "    }\n",
              "\n",
              "    .dataframe thead th {\n",
              "        text-align: right;\n",
              "    }\n",
              "</style>\n",
              "<table border=\"1\" class=\"dataframe\">\n",
              "  <thead>\n",
              "    <tr style=\"text-align: right;\">\n",
              "      <th></th>\n",
              "      <th>NetLineDollarPrice</th>\n",
              "      <th>NetOrderDollarPrice</th>\n",
              "      <th>OrderedQuantity</th>\n",
              "    </tr>\n",
              "    <tr>\n",
              "      <th>PurchaseOrderDate</th>\n",
              "      <th></th>\n",
              "      <th></th>\n",
              "      <th></th>\n",
              "    </tr>\n",
              "  </thead>\n",
              "  <tbody>\n",
              "    <tr>\n",
              "      <th>2017-01-11</th>\n",
              "      <td>17269.02</td>\n",
              "      <td>246944.44</td>\n",
              "      <td>300</td>\n",
              "    </tr>\n",
              "    <tr>\n",
              "      <th>2017-02-05</th>\n",
              "      <td>399351.66</td>\n",
              "      <td>599379.22</td>\n",
              "      <td>1228</td>\n",
              "    </tr>\n",
              "    <tr>\n",
              "      <th>2017-02-06</th>\n",
              "      <td>20275.82</td>\n",
              "      <td>46776.18</td>\n",
              "      <td>68</td>\n",
              "    </tr>\n",
              "    <tr>\n",
              "      <th>2017-02-11</th>\n",
              "      <td>59290.18</td>\n",
              "      <td>941287.16</td>\n",
              "      <td>1418</td>\n",
              "    </tr>\n",
              "    <tr>\n",
              "      <th>2017-03-05</th>\n",
              "      <td>4526.70</td>\n",
              "      <td>16491.62</td>\n",
              "      <td>26</td>\n",
              "    </tr>\n",
              "    <tr>\n",
              "      <th>...</th>\n",
              "      <td>...</td>\n",
              "      <td>...</td>\n",
              "      <td>...</td>\n",
              "    </tr>\n",
              "    <tr>\n",
              "      <th>2018-12-01</th>\n",
              "      <td>86156.30</td>\n",
              "      <td>1427557.68</td>\n",
              "      <td>5414</td>\n",
              "    </tr>\n",
              "    <tr>\n",
              "      <th>2018-12-02</th>\n",
              "      <td>8819.16</td>\n",
              "      <td>313080.18</td>\n",
              "      <td>304</td>\n",
              "    </tr>\n",
              "    <tr>\n",
              "      <th>2018-12-03</th>\n",
              "      <td>-5180.30</td>\n",
              "      <td>-122037.14</td>\n",
              "      <td>124</td>\n",
              "    </tr>\n",
              "    <tr>\n",
              "      <th>2018-12-04</th>\n",
              "      <td>16148.92</td>\n",
              "      <td>428181.72</td>\n",
              "      <td>334</td>\n",
              "    </tr>\n",
              "    <tr>\n",
              "      <th>2018-12-06</th>\n",
              "      <td>27661.16</td>\n",
              "      <td>293714.86</td>\n",
              "      <td>436</td>\n",
              "    </tr>\n",
              "  </tbody>\n",
              "</table>\n",
              "<p>232 rows × 3 columns</p>\n",
              "</div>"
            ],
            "text/plain": [
              "                   NetLineDollarPrice  NetOrderDollarPrice  OrderedQuantity\n",
              "PurchaseOrderDate                                                          \n",
              "2017-01-11                   17269.02            246944.44              300\n",
              "2017-02-05                  399351.66            599379.22             1228\n",
              "2017-02-06                   20275.82             46776.18               68\n",
              "2017-02-11                   59290.18            941287.16             1418\n",
              "2017-03-05                    4526.70             16491.62               26\n",
              "...                               ...                  ...              ...\n",
              "2018-12-01                   86156.30           1427557.68             5414\n",
              "2018-12-02                    8819.16            313080.18              304\n",
              "2018-12-03                   -5180.30           -122037.14              124\n",
              "2018-12-04                   16148.92            428181.72              334\n",
              "2018-12-06                   27661.16            293714.86              436\n",
              "\n",
              "[232 rows x 3 columns]"
            ]
          },
          "metadata": {
            "tags": []
          },
          "execution_count": 96
        }
      ]
    },
    {
      "cell_type": "markdown",
      "metadata": {
        "id": "yblRQKn5M7FA"
      },
      "source": [
        "**Trend of NetLineDollarPrice**"
      ]
    },
    {
      "cell_type": "code",
      "metadata": {
        "colab": {
          "base_uri": "https://localhost:8080/",
          "height": 542
        },
        "id": "rlOz5GR9ti0P",
        "outputId": "901c1fff-bdbb-4eb3-ec24-14a5a771b8e4"
      },
      "source": [
        "import plotly.graph_objs as go\n",
        "fig = go.Figure()\n",
        "fig.add_trace(go.Scatter(x=datewise.index, y=datewise[\"NetLineDollarPrice\"], \n",
        "                         mode='lines+markers', name='NetLineDollarPrice'))\n",
        "fig.update_layout(title=\"The trend of NetLineDollarPrice\",\n",
        "                 xaxis_title=\"Date\", yaxis_title=\"NetLineDollarPrice\")\n",
        "fig.show()"
      ],
      "execution_count": null,
      "outputs": [
        {
          "output_type": "display_data",
          "data": {
            "text/html": [
              "<html>\n",
              "<head><meta charset=\"utf-8\" /></head>\n",
              "<body>\n",
              "    <div>\n",
              "            <script src=\"https://cdnjs.cloudflare.com/ajax/libs/mathjax/2.7.5/MathJax.js?config=TeX-AMS-MML_SVG\"></script><script type=\"text/javascript\">if (window.MathJax) {MathJax.Hub.Config({SVG: {font: \"STIX-Web\"}});}</script>\n",
              "                <script type=\"text/javascript\">window.PlotlyConfig = {MathJaxConfig: 'local'};</script>\n",
              "        <script src=\"https://cdn.plot.ly/plotly-latest.min.js\"></script>    \n",
              "            <div id=\"bc81999d-6851-4e6e-a103-c09ba2be7359\" class=\"plotly-graph-div\" style=\"height:525px; width:100%;\"></div>\n",
              "            <script type=\"text/javascript\">\n",
              "                \n",
              "                    window.PLOTLYENV=window.PLOTLYENV || {};\n",
              "                    \n",
              "                if (document.getElementById(\"bc81999d-6851-4e6e-a103-c09ba2be7359\")) {\n",
              "                    Plotly.newPlot(\n",
              "                        'bc81999d-6851-4e6e-a103-c09ba2be7359',\n",
              "                        [{\"mode\": \"lines+markers\", \"name\": \"NetLineDollarPrice\", \"type\": \"scatter\", \"x\": [\"2017-01-11T00:00:00\", \"2017-02-05T00:00:00\", \"2017-02-06T00:00:00\", \"2017-02-11T00:00:00\", \"2017-03-05T00:00:00\", \"2017-03-07T00:00:00\", \"2017-03-10T00:00:00\", \"2017-04-05T00:00:00\", \"2017-04-07T00:00:00\", \"2017-04-12T00:00:00\", \"2017-04-13T00:00:00\", \"2017-04-17T00:00:00\", \"2017-04-18T00:00:00\", \"2017-04-19T00:00:00\", \"2017-04-24T00:00:00\", \"2017-04-25T00:00:00\", \"2017-04-26T00:00:00\", \"2017-04-27T00:00:00\", \"2017-04-28T00:00:00\", \"2017-05-05T00:00:00\", \"2017-05-06T00:00:00\", \"2017-05-12T00:00:00\", \"2017-05-15T00:00:00\", \"2017-05-16T00:00:00\", \"2017-05-17T00:00:00\", \"2017-05-18T00:00:00\", \"2017-05-19T00:00:00\", \"2017-05-22T00:00:00\", \"2017-05-23T00:00:00\", \"2017-05-24T00:00:00\", \"2017-05-25T00:00:00\", \"2017-05-26T00:00:00\", \"2017-05-29T00:00:00\", \"2017-05-30T00:00:00\", \"2017-05-31T00:00:00\", \"2017-06-04T00:00:00\", \"2017-06-07T00:00:00\", \"2017-06-11T00:00:00\", \"2017-06-12T00:00:00\", \"2017-06-13T00:00:00\", \"2017-06-14T00:00:00\", \"2017-06-15T00:00:00\", \"2017-06-16T00:00:00\", \"2017-06-19T00:00:00\", \"2017-06-20T00:00:00\", \"2017-06-21T00:00:00\", \"2017-06-22T00:00:00\", \"2017-06-23T00:00:00\", \"2017-06-27T00:00:00\", \"2017-06-28T00:00:00\", \"2017-06-30T00:00:00\", \"2017-07-06T00:00:00\", \"2017-07-07T00:00:00\", \"2017-07-08T00:00:00\", \"2017-07-11T00:00:00\", \"2017-07-12T00:00:00\", \"2017-07-14T00:00:00\", \"2017-07-18T00:00:00\", \"2017-07-19T00:00:00\", \"2017-07-21T00:00:00\", \"2017-07-24T00:00:00\", \"2017-07-25T00:00:00\", \"2017-07-26T00:00:00\", \"2017-07-27T00:00:00\", \"2017-08-05T00:00:00\", \"2017-08-06T00:00:00\", \"2017-08-11T00:00:00\", \"2017-08-12T00:00:00\", \"2017-08-22T00:00:00\", \"2017-08-23T00:00:00\", \"2017-09-05T00:00:00\", \"2017-09-06T00:00:00\", \"2017-09-11T00:00:00\", \"2017-09-15T00:00:00\", \"2017-09-19T00:00:00\", \"2017-09-20T00:00:00\", \"2017-09-22T00:00:00\", \"2017-09-25T00:00:00\", \"2017-09-29T00:00:00\", \"2017-10-04T00:00:00\", \"2017-10-07T00:00:00\", \"2017-10-10T00:00:00\", \"2017-10-11T00:00:00\", \"2017-10-13T00:00:00\", \"2017-10-17T00:00:00\", \"2017-10-23T00:00:00\", \"2017-10-24T00:00:00\", \"2017-11-05T00:00:00\", \"2017-11-07T00:00:00\", \"2017-11-12T00:00:00\", \"2017-11-13T00:00:00\", \"2017-11-14T00:00:00\", \"2017-11-15T00:00:00\", \"2017-11-16T00:00:00\", \"2017-11-17T00:00:00\", \"2017-11-20T00:00:00\", \"2017-11-21T00:00:00\", \"2017-11-22T00:00:00\", \"2017-11-23T00:00:00\", \"2017-11-24T00:00:00\", \"2017-11-27T00:00:00\", \"2017-11-30T00:00:00\", \"2017-12-04T00:00:00\", \"2017-12-05T00:00:00\", \"2017-12-06T00:00:00\", \"2017-12-07T00:00:00\", \"2017-12-12T00:00:00\", \"2017-12-13T00:00:00\", \"2017-12-14T00:00:00\", \"2017-12-15T00:00:00\", \"2017-12-18T00:00:00\", \"2017-12-19T00:00:00\", \"2017-12-20T00:00:00\", \"2017-12-21T00:00:00\", \"2017-12-22T00:00:00\", \"2017-12-27T00:00:00\", \"2017-12-28T00:00:00\", \"2018-01-03T00:00:00\", \"2018-01-15T00:00:00\", \"2018-01-16T00:00:00\", \"2018-01-17T00:00:00\", \"2018-01-18T00:00:00\", \"2018-01-19T00:00:00\", \"2018-01-22T00:00:00\", \"2018-01-25T00:00:00\", \"2018-01-26T00:00:00\", \"2018-01-29T00:00:00\", \"2018-01-30T00:00:00\", \"2018-02-01T00:00:00\", \"2018-02-02T00:00:00\", \"2018-02-03T00:00:00\", \"2018-02-04T00:00:00\", \"2018-02-05T00:00:00\", \"2018-02-07T00:00:00\", \"2018-02-14T00:00:00\", \"2018-02-23T00:00:00\", \"2018-02-26T00:00:00\", \"2018-02-27T00:00:00\", \"2018-02-28T00:00:00\", \"2018-03-01T00:00:00\", \"2018-03-04T00:00:00\", \"2018-03-05T00:00:00\", \"2018-03-07T00:00:00\", \"2018-03-13T00:00:00\", \"2018-03-14T00:00:00\", \"2018-03-15T00:00:00\", \"2018-03-16T00:00:00\", \"2018-03-19T00:00:00\", \"2018-03-20T00:00:00\", \"2018-03-21T00:00:00\", \"2018-03-22T00:00:00\", \"2018-03-23T00:00:00\", \"2018-03-26T00:00:00\", \"2018-03-27T00:00:00\", \"2018-03-28T00:00:00\", \"2018-03-29T00:00:00\", \"2018-03-30T00:00:00\", \"2018-04-01T00:00:00\", \"2018-04-04T00:00:00\", \"2018-04-05T00:00:00\", \"2018-04-06T00:00:00\", \"2018-04-07T00:00:00\", \"2018-04-13T00:00:00\", \"2018-04-16T00:00:00\", \"2018-04-17T00:00:00\", \"2018-04-18T00:00:00\", \"2018-04-19T00:00:00\", \"2018-04-20T00:00:00\", \"2018-04-23T00:00:00\", \"2018-04-24T00:00:00\", \"2018-04-25T00:00:00\", \"2018-04-26T00:00:00\", \"2018-04-27T00:00:00\", \"2018-04-30T00:00:00\", \"2018-05-01T00:00:00\", \"2018-05-02T00:00:00\", \"2018-05-03T00:00:00\", \"2018-05-04T00:00:00\", \"2018-05-06T00:00:00\", \"2018-05-07T00:00:00\", \"2018-05-14T00:00:00\", \"2018-05-15T00:00:00\", \"2018-05-16T00:00:00\", \"2018-05-17T00:00:00\", \"2018-05-18T00:00:00\", \"2018-05-21T00:00:00\", \"2018-05-22T00:00:00\", \"2018-05-23T00:00:00\", \"2018-05-24T00:00:00\", \"2018-05-25T00:00:00\", \"2018-05-28T00:00:00\", \"2018-05-30T00:00:00\", \"2018-05-31T00:00:00\", \"2018-06-02T00:00:00\", \"2018-06-03T00:00:00\", \"2018-06-04T00:00:00\", \"2018-06-06T00:00:00\", \"2018-06-13T00:00:00\", \"2018-06-14T00:00:00\", \"2018-06-18T00:00:00\", \"2018-06-19T00:00:00\", \"2018-06-20T00:00:00\", \"2018-06-21T00:00:00\", \"2018-06-22T00:00:00\", \"2018-06-25T00:00:00\", \"2018-06-26T00:00:00\", \"2018-06-27T00:00:00\", \"2018-06-28T00:00:00\", \"2018-06-29T00:00:00\", \"2018-07-02T00:00:00\", \"2018-07-03T00:00:00\", \"2018-07-05T00:00:00\", \"2018-07-06T00:00:00\", \"2018-08-01T00:00:00\", \"2018-08-02T00:00:00\", \"2018-08-03T00:00:00\", \"2018-08-05T00:00:00\", \"2018-08-06T00:00:00\", \"2018-09-01T00:00:00\", \"2018-09-02T00:00:00\", \"2018-09-03T00:00:00\", \"2018-09-04T00:00:00\", \"2018-10-01T00:00:00\", \"2018-10-04T00:00:00\", \"2018-11-01T00:00:00\", \"2018-11-04T00:00:00\", \"2018-11-06T00:00:00\", \"2018-12-01T00:00:00\", \"2018-12-02T00:00:00\", \"2018-12-03T00:00:00\", \"2018-12-04T00:00:00\", \"2018-12-06T00:00:00\"], \"y\": [17269.02, 399351.6599999998, 20275.820000000003, 59290.18000000009, 4526.7, 22359.37999999999, 3237.6000000000004, 401716.57999999984, 18003.439999999995, 24311.400000000016, 6581.719999999993, 70.38000000000001, 1024.1999999999998, 3041.1600000000003, 8910.24, 18926.240000000005, 19495.300000000007, 18471.519999999997, 12885.600000000002, 1536.6399999999999, 17411.200000000008, 12261.03999999999, 29345.919999999984, 1357.919999999999, 7680.5199999999995, 29952.139999999974, 30915.120000000028, 53268.13999999988, 35195.84000000001, 20807.179999999993, 5.684341886080802e-14, 15444.179999999997, 30057.780000000024, 228565.61999999994, 25795.3, 12320.740000000003, 134090.81999999992, 17658.62000000001, 4820.4, 5603.46, 11616.54, 43880.419999999984, 103403.94000000005, 103005.18000000025, 86352.74000000009, 98612.19999999991, 32379.439999999977, 61960.159999999916, 9339.199999999999, 68056.95999999995, 33771.45999999998, 13974.02, 17511.4, 988.08, 118161.22, 48621.239999999976, 22151.300000000003, 51112.39999999997, 8238.880000000001, 22913.439999999988, 40123.4, 53438.76000000001, 5052.279999999996, 7336.4000000000015, 26202.160000000007, 35944.45999999999, 2411.96, 5204.0199999999995, 20347.579999999998, 7986.520000000001, 6122.879999999999, 9390.279999999997, 66778.57999999997, 818.64, 905.8000000000001, 13213.480000000001, 15382.840000000006, 13345.839999999998, 6544.200000000003, 20731.75999999999, 35329.59999999999, 30164.140000000007, 11941.82, 5019.679999999998, 397.84, 17295.619999999995, 9607.6, 22697.37999999999, 4801.04, 5517.28, 59692.61999999998, 8056.1, 8416.400000000001, 67011.97999999994, 20369.82000000001, 159080.38000000006, 129756.7000000002, 12858.239999999996, 493.02000000000004, 9365.320000000002, 69312.45999999998, 16870.52, 9567.359999999997, 55507.34000000003, 173722.47999999998, 22183.43999999999, 36743.5, 11551.16, 486730.02000000025, 6942.779999999999, 163291.72000000006, 73163.04000000004, 23862.379999999994, 327740.52, 76095.94000000009, 40991.76000000001, 9381.299999999997, 12000.08, 93126.55999999998, 905.0799999999999, 91721.03999999995, 3149.3999999999996, 23685.040000000008, 55457.93999999999, 64097.45999999999, 31782.14, 10205.039999999994, 27463.399999999976, 22550.400000000005, 27594.15999999999, 0.0, 39791.49999999999, 31403.42000000001, 33596.26000000001, 9201.959999999997, -2.842170943040401e-14, 2100.2800000000007, -887.7199999999993, 38207.82000000001, 34791.26, 23236.199999999993, 2128.42, 21255.0, 13553.860000000002, 11880.020000000002, 3500.0000000000005, 4252.32, 21542.940000000006, 157056.54000000004, 99398.92000000001, 56362.379999999976, 20881.480000000003, 138204.16000000012, 58332.80000000001, 34186.20000000002, 39623.27999999999, 0.0, 97356.64000000013, 50961.279999999984, 170248.70000000013, 2775.8800000000006, 30378.44, 255251.68000000005, 11702.959999999992, 2077.0, 28370.300000000007, 59853.51999999997, 242379.39999999985, 2218.6800000000003, 17438.74, 41026.46000000001, 2971.7400000000002, 107756.86000000006, 3600.0, 50063.31999999999, 7554.42, 22833.600000000006, 9328.86, 20048.9, 3688.1000000000004, 48344.89999999999, 46728.979999999996, 25645.020000000004, 63387.75999999998, 22999.879999999997, 12765.599999999995, 40604.03999999999, 3590.0, 17275.38000000001, 2488.4, 12805.139999999998, 1810.96, 2077.0, 38800.0, 64630.31999999997, 7065.02, 90613.99999999996, 60914.900000000016, 13262.259999999998, 13655.099999999999, 47897.15999999998, 53598.48000000002, 248820.92000000004, 181111.1199999999, 22968.739999999998, 3015.0199999999995, 26175.660000000003, 9409.04, 229109.66000000003, 19607.48, 21735.69999999999, 16225.04, 64014.780000000035, 122217.89999999995, 2530.24, 3616.68, 10235.160000000002, 45838.140000000014, 61825.579999999994, 4849.959999999997, 25198.659999999993, 17786.499999999996, 6588.839999999999, 8331.820000000002, 7586.48, 22311.959999999985, 61571.05999999993, 86156.29999999986, 8819.160000000002, -5180.299999999999, 16148.919999999998, 27661.16000000001]}],\n",
              "                        {\"template\": {\"data\": {\"bar\": [{\"error_x\": {\"color\": \"#2a3f5f\"}, \"error_y\": {\"color\": \"#2a3f5f\"}, \"marker\": {\"line\": {\"color\": \"#E5ECF6\", \"width\": 0.5}}, \"type\": \"bar\"}], \"barpolar\": [{\"marker\": {\"line\": {\"color\": \"#E5ECF6\", \"width\": 0.5}}, \"type\": \"barpolar\"}], \"carpet\": [{\"aaxis\": {\"endlinecolor\": \"#2a3f5f\", \"gridcolor\": \"white\", \"linecolor\": \"white\", \"minorgridcolor\": \"white\", \"startlinecolor\": \"#2a3f5f\"}, \"baxis\": {\"endlinecolor\": \"#2a3f5f\", \"gridcolor\": \"white\", \"linecolor\": \"white\", \"minorgridcolor\": \"white\", \"startlinecolor\": \"#2a3f5f\"}, \"type\": \"carpet\"}], \"choropleth\": [{\"colorbar\": {\"outlinewidth\": 0, \"ticks\": \"\"}, \"type\": \"choropleth\"}], \"contour\": [{\"colorbar\": {\"outlinewidth\": 0, \"ticks\": \"\"}, \"colorscale\": [[0.0, \"#0d0887\"], [0.1111111111111111, \"#46039f\"], [0.2222222222222222, \"#7201a8\"], [0.3333333333333333, \"#9c179e\"], [0.4444444444444444, \"#bd3786\"], [0.5555555555555556, \"#d8576b\"], [0.6666666666666666, \"#ed7953\"], [0.7777777777777778, \"#fb9f3a\"], [0.8888888888888888, \"#fdca26\"], [1.0, \"#f0f921\"]], \"type\": \"contour\"}], \"contourcarpet\": [{\"colorbar\": {\"outlinewidth\": 0, \"ticks\": \"\"}, \"type\": \"contourcarpet\"}], \"heatmap\": [{\"colorbar\": {\"outlinewidth\": 0, \"ticks\": \"\"}, \"colorscale\": [[0.0, \"#0d0887\"], [0.1111111111111111, \"#46039f\"], [0.2222222222222222, \"#7201a8\"], [0.3333333333333333, \"#9c179e\"], [0.4444444444444444, \"#bd3786\"], [0.5555555555555556, \"#d8576b\"], [0.6666666666666666, \"#ed7953\"], [0.7777777777777778, \"#fb9f3a\"], [0.8888888888888888, \"#fdca26\"], [1.0, \"#f0f921\"]], \"type\": \"heatmap\"}], \"heatmapgl\": [{\"colorbar\": {\"outlinewidth\": 0, \"ticks\": \"\"}, \"colorscale\": [[0.0, \"#0d0887\"], [0.1111111111111111, \"#46039f\"], [0.2222222222222222, \"#7201a8\"], [0.3333333333333333, \"#9c179e\"], [0.4444444444444444, \"#bd3786\"], [0.5555555555555556, \"#d8576b\"], [0.6666666666666666, \"#ed7953\"], [0.7777777777777778, \"#fb9f3a\"], [0.8888888888888888, \"#fdca26\"], [1.0, \"#f0f921\"]], \"type\": \"heatmapgl\"}], \"histogram\": [{\"marker\": {\"colorbar\": {\"outlinewidth\": 0, \"ticks\": \"\"}}, \"type\": \"histogram\"}], \"histogram2d\": [{\"colorbar\": {\"outlinewidth\": 0, \"ticks\": \"\"}, \"colorscale\": [[0.0, \"#0d0887\"], [0.1111111111111111, \"#46039f\"], [0.2222222222222222, \"#7201a8\"], [0.3333333333333333, \"#9c179e\"], [0.4444444444444444, \"#bd3786\"], [0.5555555555555556, \"#d8576b\"], [0.6666666666666666, \"#ed7953\"], [0.7777777777777778, \"#fb9f3a\"], [0.8888888888888888, \"#fdca26\"], [1.0, \"#f0f921\"]], \"type\": \"histogram2d\"}], \"histogram2dcontour\": [{\"colorbar\": {\"outlinewidth\": 0, \"ticks\": \"\"}, \"colorscale\": [[0.0, \"#0d0887\"], [0.1111111111111111, \"#46039f\"], [0.2222222222222222, \"#7201a8\"], [0.3333333333333333, \"#9c179e\"], [0.4444444444444444, \"#bd3786\"], [0.5555555555555556, \"#d8576b\"], [0.6666666666666666, \"#ed7953\"], [0.7777777777777778, \"#fb9f3a\"], [0.8888888888888888, \"#fdca26\"], [1.0, \"#f0f921\"]], \"type\": \"histogram2dcontour\"}], \"mesh3d\": [{\"colorbar\": {\"outlinewidth\": 0, \"ticks\": \"\"}, \"type\": \"mesh3d\"}], \"parcoords\": [{\"line\": {\"colorbar\": {\"outlinewidth\": 0, \"ticks\": \"\"}}, \"type\": \"parcoords\"}], \"pie\": [{\"automargin\": true, \"type\": \"pie\"}], \"scatter\": [{\"marker\": {\"colorbar\": {\"outlinewidth\": 0, \"ticks\": \"\"}}, \"type\": \"scatter\"}], \"scatter3d\": [{\"line\": {\"colorbar\": {\"outlinewidth\": 0, \"ticks\": \"\"}}, \"marker\": {\"colorbar\": {\"outlinewidth\": 0, \"ticks\": \"\"}}, \"type\": \"scatter3d\"}], \"scattercarpet\": [{\"marker\": {\"colorbar\": {\"outlinewidth\": 0, \"ticks\": \"\"}}, \"type\": \"scattercarpet\"}], \"scattergeo\": [{\"marker\": {\"colorbar\": {\"outlinewidth\": 0, \"ticks\": \"\"}}, \"type\": \"scattergeo\"}], \"scattergl\": [{\"marker\": {\"colorbar\": {\"outlinewidth\": 0, \"ticks\": \"\"}}, \"type\": \"scattergl\"}], \"scattermapbox\": [{\"marker\": {\"colorbar\": {\"outlinewidth\": 0, \"ticks\": \"\"}}, \"type\": \"scattermapbox\"}], \"scatterpolar\": [{\"marker\": {\"colorbar\": {\"outlinewidth\": 0, \"ticks\": \"\"}}, \"type\": \"scatterpolar\"}], \"scatterpolargl\": [{\"marker\": {\"colorbar\": {\"outlinewidth\": 0, \"ticks\": \"\"}}, \"type\": \"scatterpolargl\"}], \"scatterternary\": [{\"marker\": {\"colorbar\": {\"outlinewidth\": 0, \"ticks\": \"\"}}, \"type\": \"scatterternary\"}], \"surface\": [{\"colorbar\": {\"outlinewidth\": 0, \"ticks\": \"\"}, \"colorscale\": [[0.0, \"#0d0887\"], [0.1111111111111111, \"#46039f\"], [0.2222222222222222, \"#7201a8\"], [0.3333333333333333, \"#9c179e\"], [0.4444444444444444, \"#bd3786\"], [0.5555555555555556, \"#d8576b\"], [0.6666666666666666, \"#ed7953\"], [0.7777777777777778, \"#fb9f3a\"], [0.8888888888888888, \"#fdca26\"], [1.0, \"#f0f921\"]], \"type\": \"surface\"}], \"table\": [{\"cells\": {\"fill\": {\"color\": \"#EBF0F8\"}, \"line\": {\"color\": \"white\"}}, \"header\": {\"fill\": {\"color\": \"#C8D4E3\"}, \"line\": {\"color\": \"white\"}}, \"type\": \"table\"}]}, \"layout\": {\"annotationdefaults\": {\"arrowcolor\": \"#2a3f5f\", \"arrowhead\": 0, \"arrowwidth\": 1}, \"coloraxis\": {\"colorbar\": {\"outlinewidth\": 0, \"ticks\": \"\"}}, \"colorscale\": {\"diverging\": [[0, \"#8e0152\"], [0.1, \"#c51b7d\"], [0.2, \"#de77ae\"], [0.3, \"#f1b6da\"], [0.4, \"#fde0ef\"], [0.5, \"#f7f7f7\"], [0.6, \"#e6f5d0\"], [0.7, \"#b8e186\"], [0.8, \"#7fbc41\"], [0.9, \"#4d9221\"], [1, \"#276419\"]], \"sequential\": [[0.0, \"#0d0887\"], [0.1111111111111111, \"#46039f\"], [0.2222222222222222, \"#7201a8\"], [0.3333333333333333, \"#9c179e\"], [0.4444444444444444, \"#bd3786\"], [0.5555555555555556, \"#d8576b\"], [0.6666666666666666, \"#ed7953\"], [0.7777777777777778, \"#fb9f3a\"], [0.8888888888888888, \"#fdca26\"], [1.0, \"#f0f921\"]], \"sequentialminus\": [[0.0, \"#0d0887\"], [0.1111111111111111, \"#46039f\"], [0.2222222222222222, \"#7201a8\"], [0.3333333333333333, \"#9c179e\"], [0.4444444444444444, \"#bd3786\"], [0.5555555555555556, \"#d8576b\"], [0.6666666666666666, \"#ed7953\"], [0.7777777777777778, \"#fb9f3a\"], [0.8888888888888888, \"#fdca26\"], [1.0, \"#f0f921\"]]}, \"colorway\": [\"#636efa\", \"#EF553B\", \"#00cc96\", \"#ab63fa\", \"#FFA15A\", \"#19d3f3\", \"#FF6692\", \"#B6E880\", \"#FF97FF\", \"#FECB52\"], \"font\": {\"color\": \"#2a3f5f\"}, \"geo\": {\"bgcolor\": \"white\", \"lakecolor\": \"white\", \"landcolor\": \"#E5ECF6\", \"showlakes\": true, \"showland\": true, \"subunitcolor\": \"white\"}, \"hoverlabel\": {\"align\": \"left\"}, \"hovermode\": \"closest\", \"mapbox\": {\"style\": \"light\"}, \"paper_bgcolor\": \"white\", \"plot_bgcolor\": \"#E5ECF6\", \"polar\": {\"angularaxis\": {\"gridcolor\": \"white\", \"linecolor\": \"white\", \"ticks\": \"\"}, \"bgcolor\": \"#E5ECF6\", \"radialaxis\": {\"gridcolor\": \"white\", \"linecolor\": \"white\", \"ticks\": \"\"}}, \"scene\": {\"xaxis\": {\"backgroundcolor\": \"#E5ECF6\", \"gridcolor\": \"white\", \"gridwidth\": 2, \"linecolor\": \"white\", \"showbackground\": true, \"ticks\": \"\", \"zerolinecolor\": \"white\"}, \"yaxis\": {\"backgroundcolor\": \"#E5ECF6\", \"gridcolor\": \"white\", \"gridwidth\": 2, \"linecolor\": \"white\", \"showbackground\": true, \"ticks\": \"\", \"zerolinecolor\": \"white\"}, \"zaxis\": {\"backgroundcolor\": \"#E5ECF6\", \"gridcolor\": \"white\", \"gridwidth\": 2, \"linecolor\": \"white\", \"showbackground\": true, \"ticks\": \"\", \"zerolinecolor\": \"white\"}}, \"shapedefaults\": {\"line\": {\"color\": \"#2a3f5f\"}}, \"ternary\": {\"aaxis\": {\"gridcolor\": \"white\", \"linecolor\": \"white\", \"ticks\": \"\"}, \"baxis\": {\"gridcolor\": \"white\", \"linecolor\": \"white\", \"ticks\": \"\"}, \"bgcolor\": \"#E5ECF6\", \"caxis\": {\"gridcolor\": \"white\", \"linecolor\": \"white\", \"ticks\": \"\"}}, \"title\": {\"x\": 0.05}, \"xaxis\": {\"automargin\": true, \"gridcolor\": \"white\", \"linecolor\": \"white\", \"ticks\": \"\", \"title\": {\"standoff\": 15}, \"zerolinecolor\": \"white\", \"zerolinewidth\": 2}, \"yaxis\": {\"automargin\": true, \"gridcolor\": \"white\", \"linecolor\": \"white\", \"ticks\": \"\", \"title\": {\"standoff\": 15}, \"zerolinecolor\": \"white\", \"zerolinewidth\": 2}}}, \"title\": {\"text\": \"The trend of NetLineDollarPrice\"}, \"xaxis\": {\"title\": {\"text\": \"Date\"}}, \"yaxis\": {\"title\": {\"text\": \"NetLineDollarPrice\"}}},\n",
              "                        {\"responsive\": true}\n",
              "                    ).then(function(){\n",
              "                            \n",
              "var gd = document.getElementById('bc81999d-6851-4e6e-a103-c09ba2be7359');\n",
              "var x = new MutationObserver(function (mutations, observer) {{\n",
              "        var display = window.getComputedStyle(gd).display;\n",
              "        if (!display || display === 'none') {{\n",
              "            console.log([gd, 'removed!']);\n",
              "            Plotly.purge(gd);\n",
              "            observer.disconnect();\n",
              "        }}\n",
              "}});\n",
              "\n",
              "// Listen for the removal of the full notebook cells\n",
              "var notebookContainer = gd.closest('#notebook-container');\n",
              "if (notebookContainer) {{\n",
              "    x.observe(notebookContainer, {childList: true});\n",
              "}}\n",
              "\n",
              "// Listen for the clearing of the current output cell\n",
              "var outputEl = gd.closest('.output');\n",
              "if (outputEl) {{\n",
              "    x.observe(outputEl, {childList: true});\n",
              "}}\n",
              "\n",
              "                        })\n",
              "                };\n",
              "                \n",
              "            </script>\n",
              "        </div>\n",
              "</body>\n",
              "</html>"
            ]
          },
          "metadata": {
            "tags": []
          }
        }
      ]
    },
    {
      "cell_type": "markdown",
      "metadata": {
        "id": "HASy9DHxNFot"
      },
      "source": [
        "From the graph plotted above, we can see that: \n",
        "\n",
        "*   the highest net profit obtained from Line (productLine) are 486.73K on 14th of December 2017. \n",
        "\n",
        "*   The NetLineDollarPrice does not have a clear trend. \n",
        "\n",
        "*   The trend also does not prove that the profits obtained are based on seasons. \n",
        "\n",
        "*   The profit might only spikes due to the a sudden demand from the customers when it is neccesary for their companies.\n",
        "\n"
      ]
    },
    {
      "cell_type": "markdown",
      "metadata": {
        "id": "wmxBdRVqO0eP"
      },
      "source": [
        "**Trend of NetOrderDollarPrice**"
      ]
    },
    {
      "cell_type": "code",
      "metadata": {
        "colab": {
          "base_uri": "https://localhost:8080/",
          "height": 542
        },
        "id": "dnbVG_3rti0Y",
        "outputId": "23d8c8a3-ae92-4867-fdc6-34f2fc21a6b2"
      },
      "source": [
        "fig1 = go.Figure()\n",
        "fig1.add_trace(go.Scatter(x=datewise.index, y=datewise[\"NetOrderDollarPrice\"], \n",
        "                         mode='lines+markers', name='NetOrderDollarPrice'))\n",
        "fig1.update_layout(title=\"The trend of NetOrderDollarPrice\",\n",
        "                 xaxis_title=\"Date\", yaxis_title=\"NetOrderDollarPrice\")\n",
        "fig1.show()"
      ],
      "execution_count": null,
      "outputs": [
        {
          "output_type": "display_data",
          "data": {
            "text/html": [
              "<html>\n",
              "<head><meta charset=\"utf-8\" /></head>\n",
              "<body>\n",
              "    <div>\n",
              "            <script src=\"https://cdnjs.cloudflare.com/ajax/libs/mathjax/2.7.5/MathJax.js?config=TeX-AMS-MML_SVG\"></script><script type=\"text/javascript\">if (window.MathJax) {MathJax.Hub.Config({SVG: {font: \"STIX-Web\"}});}</script>\n",
              "                <script type=\"text/javascript\">window.PlotlyConfig = {MathJaxConfig: 'local'};</script>\n",
              "        <script src=\"https://cdn.plot.ly/plotly-latest.min.js\"></script>    \n",
              "            <div id=\"c25cd7eb-2e96-4579-87e9-15712526c450\" class=\"plotly-graph-div\" style=\"height:525px; width:100%;\"></div>\n",
              "            <script type=\"text/javascript\">\n",
              "                \n",
              "                    window.PLOTLYENV=window.PLOTLYENV || {};\n",
              "                    \n",
              "                if (document.getElementById(\"c25cd7eb-2e96-4579-87e9-15712526c450\")) {\n",
              "                    Plotly.newPlot(\n",
              "                        'c25cd7eb-2e96-4579-87e9-15712526c450',\n",
              "                        [{\"mode\": \"lines+markers\", \"name\": \"NetOrderDollarPrice\", \"type\": \"scatter\", \"x\": [\"2017-01-11T00:00:00\", \"2017-02-05T00:00:00\", \"2017-02-06T00:00:00\", \"2017-02-11T00:00:00\", \"2017-03-05T00:00:00\", \"2017-03-07T00:00:00\", \"2017-03-10T00:00:00\", \"2017-04-05T00:00:00\", \"2017-04-07T00:00:00\", \"2017-04-12T00:00:00\", \"2017-04-13T00:00:00\", \"2017-04-17T00:00:00\", \"2017-04-18T00:00:00\", \"2017-04-19T00:00:00\", \"2017-04-24T00:00:00\", \"2017-04-25T00:00:00\", \"2017-04-26T00:00:00\", \"2017-04-27T00:00:00\", \"2017-04-28T00:00:00\", \"2017-05-05T00:00:00\", \"2017-05-06T00:00:00\", \"2017-05-12T00:00:00\", \"2017-05-15T00:00:00\", \"2017-05-16T00:00:00\", \"2017-05-17T00:00:00\", \"2017-05-18T00:00:00\", \"2017-05-19T00:00:00\", \"2017-05-22T00:00:00\", \"2017-05-23T00:00:00\", \"2017-05-24T00:00:00\", \"2017-05-25T00:00:00\", \"2017-05-26T00:00:00\", \"2017-05-29T00:00:00\", \"2017-05-30T00:00:00\", \"2017-05-31T00:00:00\", \"2017-06-04T00:00:00\", \"2017-06-07T00:00:00\", \"2017-06-11T00:00:00\", \"2017-06-12T00:00:00\", \"2017-06-13T00:00:00\", \"2017-06-14T00:00:00\", \"2017-06-15T00:00:00\", \"2017-06-16T00:00:00\", \"2017-06-19T00:00:00\", \"2017-06-20T00:00:00\", \"2017-06-21T00:00:00\", \"2017-06-22T00:00:00\", \"2017-06-23T00:00:00\", \"2017-06-27T00:00:00\", \"2017-06-28T00:00:00\", \"2017-06-30T00:00:00\", \"2017-07-06T00:00:00\", \"2017-07-07T00:00:00\", \"2017-07-08T00:00:00\", \"2017-07-11T00:00:00\", \"2017-07-12T00:00:00\", \"2017-07-14T00:00:00\", \"2017-07-18T00:00:00\", \"2017-07-19T00:00:00\", \"2017-07-21T00:00:00\", \"2017-07-24T00:00:00\", \"2017-07-25T00:00:00\", \"2017-07-26T00:00:00\", \"2017-07-27T00:00:00\", \"2017-08-05T00:00:00\", \"2017-08-06T00:00:00\", \"2017-08-11T00:00:00\", \"2017-08-12T00:00:00\", \"2017-08-22T00:00:00\", \"2017-08-23T00:00:00\", \"2017-09-05T00:00:00\", \"2017-09-06T00:00:00\", \"2017-09-11T00:00:00\", \"2017-09-15T00:00:00\", \"2017-09-19T00:00:00\", \"2017-09-20T00:00:00\", \"2017-09-22T00:00:00\", \"2017-09-25T00:00:00\", \"2017-09-29T00:00:00\", \"2017-10-04T00:00:00\", \"2017-10-07T00:00:00\", \"2017-10-10T00:00:00\", \"2017-10-11T00:00:00\", \"2017-10-13T00:00:00\", \"2017-10-17T00:00:00\", \"2017-10-23T00:00:00\", \"2017-10-24T00:00:00\", \"2017-11-05T00:00:00\", \"2017-11-07T00:00:00\", \"2017-11-12T00:00:00\", \"2017-11-13T00:00:00\", \"2017-11-14T00:00:00\", \"2017-11-15T00:00:00\", \"2017-11-16T00:00:00\", \"2017-11-17T00:00:00\", \"2017-11-20T00:00:00\", \"2017-11-21T00:00:00\", \"2017-11-22T00:00:00\", \"2017-11-23T00:00:00\", \"2017-11-24T00:00:00\", \"2017-11-27T00:00:00\", \"2017-11-30T00:00:00\", \"2017-12-04T00:00:00\", \"2017-12-05T00:00:00\", \"2017-12-06T00:00:00\", \"2017-12-07T00:00:00\", \"2017-12-12T00:00:00\", \"2017-12-13T00:00:00\", \"2017-12-14T00:00:00\", \"2017-12-15T00:00:00\", \"2017-12-18T00:00:00\", \"2017-12-19T00:00:00\", \"2017-12-20T00:00:00\", \"2017-12-21T00:00:00\", \"2017-12-22T00:00:00\", \"2017-12-27T00:00:00\", \"2017-12-28T00:00:00\", \"2018-01-03T00:00:00\", \"2018-01-15T00:00:00\", \"2018-01-16T00:00:00\", \"2018-01-17T00:00:00\", \"2018-01-18T00:00:00\", \"2018-01-19T00:00:00\", \"2018-01-22T00:00:00\", \"2018-01-25T00:00:00\", \"2018-01-26T00:00:00\", \"2018-01-29T00:00:00\", \"2018-01-30T00:00:00\", \"2018-02-01T00:00:00\", \"2018-02-02T00:00:00\", \"2018-02-03T00:00:00\", \"2018-02-04T00:00:00\", \"2018-02-05T00:00:00\", \"2018-02-07T00:00:00\", \"2018-02-14T00:00:00\", \"2018-02-23T00:00:00\", \"2018-02-26T00:00:00\", \"2018-02-27T00:00:00\", \"2018-02-28T00:00:00\", \"2018-03-01T00:00:00\", \"2018-03-04T00:00:00\", \"2018-03-05T00:00:00\", \"2018-03-07T00:00:00\", \"2018-03-13T00:00:00\", \"2018-03-14T00:00:00\", \"2018-03-15T00:00:00\", \"2018-03-16T00:00:00\", \"2018-03-19T00:00:00\", \"2018-03-20T00:00:00\", \"2018-03-21T00:00:00\", \"2018-03-22T00:00:00\", \"2018-03-23T00:00:00\", \"2018-03-26T00:00:00\", \"2018-03-27T00:00:00\", \"2018-03-28T00:00:00\", \"2018-03-29T00:00:00\", \"2018-03-30T00:00:00\", \"2018-04-01T00:00:00\", \"2018-04-04T00:00:00\", \"2018-04-05T00:00:00\", \"2018-04-06T00:00:00\", \"2018-04-07T00:00:00\", \"2018-04-13T00:00:00\", \"2018-04-16T00:00:00\", \"2018-04-17T00:00:00\", \"2018-04-18T00:00:00\", \"2018-04-19T00:00:00\", \"2018-04-20T00:00:00\", \"2018-04-23T00:00:00\", \"2018-04-24T00:00:00\", \"2018-04-25T00:00:00\", \"2018-04-26T00:00:00\", \"2018-04-27T00:00:00\", \"2018-04-30T00:00:00\", \"2018-05-01T00:00:00\", \"2018-05-02T00:00:00\", \"2018-05-03T00:00:00\", \"2018-05-04T00:00:00\", \"2018-05-06T00:00:00\", \"2018-05-07T00:00:00\", \"2018-05-14T00:00:00\", \"2018-05-15T00:00:00\", \"2018-05-16T00:00:00\", \"2018-05-17T00:00:00\", \"2018-05-18T00:00:00\", \"2018-05-21T00:00:00\", \"2018-05-22T00:00:00\", \"2018-05-23T00:00:00\", \"2018-05-24T00:00:00\", \"2018-05-25T00:00:00\", \"2018-05-28T00:00:00\", \"2018-05-30T00:00:00\", \"2018-05-31T00:00:00\", \"2018-06-02T00:00:00\", \"2018-06-03T00:00:00\", \"2018-06-04T00:00:00\", \"2018-06-06T00:00:00\", \"2018-06-13T00:00:00\", \"2018-06-14T00:00:00\", \"2018-06-18T00:00:00\", \"2018-06-19T00:00:00\", \"2018-06-20T00:00:00\", \"2018-06-21T00:00:00\", \"2018-06-22T00:00:00\", \"2018-06-25T00:00:00\", \"2018-06-26T00:00:00\", \"2018-06-27T00:00:00\", \"2018-06-28T00:00:00\", \"2018-06-29T00:00:00\", \"2018-07-02T00:00:00\", \"2018-07-03T00:00:00\", \"2018-07-05T00:00:00\", \"2018-07-06T00:00:00\", \"2018-08-01T00:00:00\", \"2018-08-02T00:00:00\", \"2018-08-03T00:00:00\", \"2018-08-05T00:00:00\", \"2018-08-06T00:00:00\", \"2018-09-01T00:00:00\", \"2018-09-02T00:00:00\", \"2018-09-03T00:00:00\", \"2018-09-04T00:00:00\", \"2018-10-01T00:00:00\", \"2018-10-04T00:00:00\", \"2018-11-01T00:00:00\", \"2018-11-04T00:00:00\", \"2018-11-06T00:00:00\", \"2018-12-01T00:00:00\", \"2018-12-02T00:00:00\", \"2018-12-03T00:00:00\", \"2018-12-04T00:00:00\", \"2018-12-06T00:00:00\"], \"y\": [246944.4399999997, 599379.2199999995, 46776.17999999998, 941287.1600000047, 16491.620000000014, 63438.39999999992, 4532.640000000001, 685323.4200000004, 56371.66000000003, 336295.27999999945, 23007.040000000005, 117.30000000000003, 1433.88, 4500.6, 236121.3599999998, 59944.07999999995, 38885.88, 185079.36000000022, 35435.40000000001, 2304.9599999999996, 64547.92000000002, 209243.2199999996, 86841.36, 8418.800000000003, 12835.320000000002, 90038.98000000005, 118648.18000000004, 865059.3399999974, 346953.0400000008, 55818.49999999997, 485.68000000000006, 174518.95999999985, 105182.55999999994, 7007270.57999999, 60005.36000000001, 43277.08000000001, 456035.5599999984, 279476.2200000003, 110869.20000000016, 9339.1, 29502.919999999984, 107033.3599999998, 334277.2999999999, 323277.1399999999, 263568.4000000008, 266554.9400000012, 313905.68000000063, 380035.2600000001, 26149.75999999998, 201320.84000000023, 360202.5199999993, 51481.95999999999, 168071.1999999998, 1482.1200000000001, 3024331.7599999886, 920074.6399999952, 73399.29999999994, 142278.3200000001, 21895.639999999996, 199436.46000000028, 198893.41999999993, 262458.29999999976, 169446.71999999936, 14672.799999999997, 422039.6199999998, 97208.4, 42209.30000000001, 18989.279999999988, 486334.9200000019, 14058.52, 13839.039999999995, 223126.1600000004, 289897.9600000005, 1637.2800000000002, 4430.360000000002, 38195.88000000001, 64951.11999999997, 36701.060000000005, 11663.600000000008, 53713.959999999955, 113316.27999999998, 85649.95999999996, 27476.500000000007, 130075.30000000018, 795.6800000000001, 86728.40000000004, 26420.90000000001, 62693.11999999992, 9602.079999999998, 104828.3200000002, 182004.0600000002, 197214.49999999994, 106618.97999999992, 190380.84000000017, 486875.29999999655, 1956855.1200000022, 2872365.6599999825, 107265.99999999997, 821.6999999999999, 33561.240000000005, 1211998.4400000067, 49145.93999999998, 103527.39999999982, 176196.2600000001, 6077393.820000004, 98202.90000000007, 1097891.5999999964, 23540.320000000014, 7856640.82, 158351.95999999988, 3201174.3399999896, 1190554.200000002, 458927.6399999973, 4955284.7999999905, 861973.1600000011, 960671.520000002, 167384.04000000047, 18000.12, 1984289.6400000039, 1616.1599999999999, 1879019.7199999948, 8734.739999999996, 42020.34000000002, 1163970.2600000058, 1233363.8399999973, 696487.7999999998, 219141.89999999976, 93025.64, 67651.19999999992, 247571.39999999964, 0.0, 1721903.3400000012, 439223.04000000074, 206946.0799999999, 158972.16000000012, -2.842170943040401e-14, 32727.83999999997, 9754.519999999993, 115010.79999999999, 235225.4200000003, 528814.2399999971, 2128.42, 288546.5600000003, 264811.1800000015, 117007.55999999997, 82250.0, 6378.48, 195547.46000000014, 3403699.8000000077, 2067933.159999992, 1053226.7599999988, 137983.11999999994, 2085570.1399999931, 1074198.8400000008, 136744.79999999993, 144571.1200000002, 0.0, 1907137.0599999947, 272327.3599999999, 3722770.339999993, 48099.25999999999, 563868.8800000016, 6531234.359999974, 72403.51999999993, 4154.0, 535532.9600000001, 1028649.9200000102, 7686517.7599999765, 37717.55999999993, 439888.63999999675, 622151.1399999988, 4952.900000000001, 5623359.920000001, 63000.0, 1005171.6400000006, 83201.07999999987, 191327.03999999986, 15548.099999999999, 215113.96000000028, 79925.59999999995, 152362.05999999997, 1304318.7000000025, 641059.3200000019, 1000546.6800000009, 493997.0999999981, 184703.75999999966, 874706.7600000035, 66415.0, 126276.64000000003, 59721.12000000004, 235689.8, 5118.340000000002, 3115.5, 155663.59999999992, 1115498.540000005, 172347.8000000002, 2268753.8600000106, 1582759.240000002, 332875.5799999988, 332020.8200000004, 1138863.739999997, 1249470.8400000005, 8303393.519999869, 5171572.620000021, 139640.53999999975, 82497.80000000003, 253529.76000000077, 247368.54, 4221684.099999998, 75900.59999999993, 252312.8999999999, 86175.73999999992, 1486936.660000003, 1309263.9200000037, 3795.3599999999988, 6027.800000000001, 123100.71999999988, 1124095.3399999992, 1389176.979999998, 118824.0200000002, 313095.1200000002, 484082.7799999985, 10981.399999999998, 16514.8, 174489.03999999978, 242310.88000000126, 1276031.499999999, 1427557.6800000037, 313080.1799999998, -122037.13999999981, 428181.7199999995, 293714.8600000007]}],\n",
              "                        {\"template\": {\"data\": {\"bar\": [{\"error_x\": {\"color\": \"#2a3f5f\"}, \"error_y\": {\"color\": \"#2a3f5f\"}, \"marker\": {\"line\": {\"color\": \"#E5ECF6\", \"width\": 0.5}}, \"type\": \"bar\"}], \"barpolar\": [{\"marker\": {\"line\": {\"color\": \"#E5ECF6\", \"width\": 0.5}}, \"type\": \"barpolar\"}], \"carpet\": [{\"aaxis\": {\"endlinecolor\": \"#2a3f5f\", \"gridcolor\": \"white\", \"linecolor\": \"white\", \"minorgridcolor\": \"white\", \"startlinecolor\": \"#2a3f5f\"}, \"baxis\": {\"endlinecolor\": \"#2a3f5f\", \"gridcolor\": \"white\", \"linecolor\": \"white\", \"minorgridcolor\": \"white\", \"startlinecolor\": \"#2a3f5f\"}, \"type\": \"carpet\"}], \"choropleth\": [{\"colorbar\": {\"outlinewidth\": 0, \"ticks\": \"\"}, \"type\": \"choropleth\"}], \"contour\": [{\"colorbar\": {\"outlinewidth\": 0, \"ticks\": \"\"}, \"colorscale\": [[0.0, \"#0d0887\"], [0.1111111111111111, \"#46039f\"], [0.2222222222222222, \"#7201a8\"], [0.3333333333333333, \"#9c179e\"], [0.4444444444444444, \"#bd3786\"], [0.5555555555555556, \"#d8576b\"], [0.6666666666666666, \"#ed7953\"], [0.7777777777777778, \"#fb9f3a\"], [0.8888888888888888, \"#fdca26\"], [1.0, \"#f0f921\"]], \"type\": \"contour\"}], \"contourcarpet\": [{\"colorbar\": {\"outlinewidth\": 0, \"ticks\": \"\"}, \"type\": \"contourcarpet\"}], \"heatmap\": [{\"colorbar\": {\"outlinewidth\": 0, \"ticks\": \"\"}, \"colorscale\": [[0.0, \"#0d0887\"], [0.1111111111111111, \"#46039f\"], [0.2222222222222222, \"#7201a8\"], [0.3333333333333333, \"#9c179e\"], [0.4444444444444444, \"#bd3786\"], [0.5555555555555556, \"#d8576b\"], [0.6666666666666666, \"#ed7953\"], [0.7777777777777778, \"#fb9f3a\"], [0.8888888888888888, \"#fdca26\"], [1.0, \"#f0f921\"]], \"type\": \"heatmap\"}], \"heatmapgl\": [{\"colorbar\": {\"outlinewidth\": 0, \"ticks\": \"\"}, \"colorscale\": [[0.0, \"#0d0887\"], [0.1111111111111111, \"#46039f\"], [0.2222222222222222, \"#7201a8\"], [0.3333333333333333, \"#9c179e\"], [0.4444444444444444, \"#bd3786\"], [0.5555555555555556, \"#d8576b\"], [0.6666666666666666, \"#ed7953\"], [0.7777777777777778, \"#fb9f3a\"], [0.8888888888888888, \"#fdca26\"], [1.0, \"#f0f921\"]], \"type\": \"heatmapgl\"}], \"histogram\": [{\"marker\": {\"colorbar\": {\"outlinewidth\": 0, \"ticks\": \"\"}}, \"type\": \"histogram\"}], \"histogram2d\": [{\"colorbar\": {\"outlinewidth\": 0, \"ticks\": \"\"}, \"colorscale\": [[0.0, \"#0d0887\"], [0.1111111111111111, \"#46039f\"], [0.2222222222222222, \"#7201a8\"], [0.3333333333333333, \"#9c179e\"], [0.4444444444444444, \"#bd3786\"], [0.5555555555555556, \"#d8576b\"], [0.6666666666666666, \"#ed7953\"], [0.7777777777777778, \"#fb9f3a\"], [0.8888888888888888, \"#fdca26\"], [1.0, \"#f0f921\"]], \"type\": \"histogram2d\"}], \"histogram2dcontour\": [{\"colorbar\": {\"outlinewidth\": 0, \"ticks\": \"\"}, \"colorscale\": [[0.0, \"#0d0887\"], [0.1111111111111111, \"#46039f\"], [0.2222222222222222, \"#7201a8\"], [0.3333333333333333, \"#9c179e\"], [0.4444444444444444, \"#bd3786\"], [0.5555555555555556, \"#d8576b\"], [0.6666666666666666, \"#ed7953\"], [0.7777777777777778, \"#fb9f3a\"], [0.8888888888888888, \"#fdca26\"], [1.0, \"#f0f921\"]], \"type\": \"histogram2dcontour\"}], \"mesh3d\": [{\"colorbar\": {\"outlinewidth\": 0, \"ticks\": \"\"}, \"type\": \"mesh3d\"}], \"parcoords\": [{\"line\": {\"colorbar\": {\"outlinewidth\": 0, \"ticks\": \"\"}}, \"type\": \"parcoords\"}], \"pie\": [{\"automargin\": true, \"type\": \"pie\"}], \"scatter\": [{\"marker\": {\"colorbar\": {\"outlinewidth\": 0, \"ticks\": \"\"}}, \"type\": \"scatter\"}], \"scatter3d\": [{\"line\": {\"colorbar\": {\"outlinewidth\": 0, \"ticks\": \"\"}}, \"marker\": {\"colorbar\": {\"outlinewidth\": 0, \"ticks\": \"\"}}, \"type\": \"scatter3d\"}], \"scattercarpet\": [{\"marker\": {\"colorbar\": {\"outlinewidth\": 0, \"ticks\": \"\"}}, \"type\": \"scattercarpet\"}], \"scattergeo\": [{\"marker\": {\"colorbar\": {\"outlinewidth\": 0, \"ticks\": \"\"}}, \"type\": \"scattergeo\"}], \"scattergl\": [{\"marker\": {\"colorbar\": {\"outlinewidth\": 0, \"ticks\": \"\"}}, \"type\": \"scattergl\"}], \"scattermapbox\": [{\"marker\": {\"colorbar\": {\"outlinewidth\": 0, \"ticks\": \"\"}}, \"type\": \"scattermapbox\"}], \"scatterpolar\": [{\"marker\": {\"colorbar\": {\"outlinewidth\": 0, \"ticks\": \"\"}}, \"type\": \"scatterpolar\"}], \"scatterpolargl\": [{\"marker\": {\"colorbar\": {\"outlinewidth\": 0, \"ticks\": \"\"}}, \"type\": \"scatterpolargl\"}], \"scatterternary\": [{\"marker\": {\"colorbar\": {\"outlinewidth\": 0, \"ticks\": \"\"}}, \"type\": \"scatterternary\"}], \"surface\": [{\"colorbar\": {\"outlinewidth\": 0, \"ticks\": \"\"}, \"colorscale\": [[0.0, \"#0d0887\"], [0.1111111111111111, \"#46039f\"], [0.2222222222222222, \"#7201a8\"], [0.3333333333333333, \"#9c179e\"], [0.4444444444444444, \"#bd3786\"], [0.5555555555555556, \"#d8576b\"], [0.6666666666666666, \"#ed7953\"], [0.7777777777777778, \"#fb9f3a\"], [0.8888888888888888, \"#fdca26\"], [1.0, \"#f0f921\"]], \"type\": \"surface\"}], \"table\": [{\"cells\": {\"fill\": {\"color\": \"#EBF0F8\"}, \"line\": {\"color\": \"white\"}}, \"header\": {\"fill\": {\"color\": \"#C8D4E3\"}, \"line\": {\"color\": \"white\"}}, \"type\": \"table\"}]}, \"layout\": {\"annotationdefaults\": {\"arrowcolor\": \"#2a3f5f\", \"arrowhead\": 0, \"arrowwidth\": 1}, \"coloraxis\": {\"colorbar\": {\"outlinewidth\": 0, \"ticks\": \"\"}}, \"colorscale\": {\"diverging\": [[0, \"#8e0152\"], [0.1, \"#c51b7d\"], [0.2, \"#de77ae\"], [0.3, \"#f1b6da\"], [0.4, \"#fde0ef\"], [0.5, \"#f7f7f7\"], [0.6, \"#e6f5d0\"], [0.7, \"#b8e186\"], [0.8, \"#7fbc41\"], [0.9, \"#4d9221\"], [1, \"#276419\"]], \"sequential\": [[0.0, \"#0d0887\"], [0.1111111111111111, \"#46039f\"], [0.2222222222222222, \"#7201a8\"], [0.3333333333333333, \"#9c179e\"], [0.4444444444444444, \"#bd3786\"], [0.5555555555555556, \"#d8576b\"], [0.6666666666666666, \"#ed7953\"], [0.7777777777777778, \"#fb9f3a\"], [0.8888888888888888, \"#fdca26\"], [1.0, \"#f0f921\"]], \"sequentialminus\": [[0.0, \"#0d0887\"], [0.1111111111111111, \"#46039f\"], [0.2222222222222222, \"#7201a8\"], [0.3333333333333333, \"#9c179e\"], [0.4444444444444444, \"#bd3786\"], [0.5555555555555556, \"#d8576b\"], [0.6666666666666666, \"#ed7953\"], [0.7777777777777778, \"#fb9f3a\"], [0.8888888888888888, \"#fdca26\"], [1.0, \"#f0f921\"]]}, \"colorway\": [\"#636efa\", \"#EF553B\", \"#00cc96\", \"#ab63fa\", \"#FFA15A\", \"#19d3f3\", \"#FF6692\", \"#B6E880\", \"#FF97FF\", \"#FECB52\"], \"font\": {\"color\": \"#2a3f5f\"}, \"geo\": {\"bgcolor\": \"white\", \"lakecolor\": \"white\", \"landcolor\": \"#E5ECF6\", \"showlakes\": true, \"showland\": true, \"subunitcolor\": \"white\"}, \"hoverlabel\": {\"align\": \"left\"}, \"hovermode\": \"closest\", \"mapbox\": {\"style\": \"light\"}, \"paper_bgcolor\": \"white\", \"plot_bgcolor\": \"#E5ECF6\", \"polar\": {\"angularaxis\": {\"gridcolor\": \"white\", \"linecolor\": \"white\", \"ticks\": \"\"}, \"bgcolor\": \"#E5ECF6\", \"radialaxis\": {\"gridcolor\": \"white\", \"linecolor\": \"white\", \"ticks\": \"\"}}, \"scene\": {\"xaxis\": {\"backgroundcolor\": \"#E5ECF6\", \"gridcolor\": \"white\", \"gridwidth\": 2, \"linecolor\": \"white\", \"showbackground\": true, \"ticks\": \"\", \"zerolinecolor\": \"white\"}, \"yaxis\": {\"backgroundcolor\": \"#E5ECF6\", \"gridcolor\": \"white\", \"gridwidth\": 2, \"linecolor\": \"white\", \"showbackground\": true, \"ticks\": \"\", \"zerolinecolor\": \"white\"}, \"zaxis\": {\"backgroundcolor\": \"#E5ECF6\", \"gridcolor\": \"white\", \"gridwidth\": 2, \"linecolor\": \"white\", \"showbackground\": true, \"ticks\": \"\", \"zerolinecolor\": \"white\"}}, \"shapedefaults\": {\"line\": {\"color\": \"#2a3f5f\"}}, \"ternary\": {\"aaxis\": {\"gridcolor\": \"white\", \"linecolor\": \"white\", \"ticks\": \"\"}, \"baxis\": {\"gridcolor\": \"white\", \"linecolor\": \"white\", \"ticks\": \"\"}, \"bgcolor\": \"#E5ECF6\", \"caxis\": {\"gridcolor\": \"white\", \"linecolor\": \"white\", \"ticks\": \"\"}}, \"title\": {\"x\": 0.05}, \"xaxis\": {\"automargin\": true, \"gridcolor\": \"white\", \"linecolor\": \"white\", \"ticks\": \"\", \"title\": {\"standoff\": 15}, \"zerolinecolor\": \"white\", \"zerolinewidth\": 2}, \"yaxis\": {\"automargin\": true, \"gridcolor\": \"white\", \"linecolor\": \"white\", \"ticks\": \"\", \"title\": {\"standoff\": 15}, \"zerolinecolor\": \"white\", \"zerolinewidth\": 2}}}, \"title\": {\"text\": \"The trend of NetOrderDollarPrice\"}, \"xaxis\": {\"title\": {\"text\": \"Date\"}}, \"yaxis\": {\"title\": {\"text\": \"NetOrderDollarPrice\"}}},\n",
              "                        {\"responsive\": true}\n",
              "                    ).then(function(){\n",
              "                            \n",
              "var gd = document.getElementById('c25cd7eb-2e96-4579-87e9-15712526c450');\n",
              "var x = new MutationObserver(function (mutations, observer) {{\n",
              "        var display = window.getComputedStyle(gd).display;\n",
              "        if (!display || display === 'none') {{\n",
              "            console.log([gd, 'removed!']);\n",
              "            Plotly.purge(gd);\n",
              "            observer.disconnect();\n",
              "        }}\n",
              "}});\n",
              "\n",
              "// Listen for the removal of the full notebook cells\n",
              "var notebookContainer = gd.closest('#notebook-container');\n",
              "if (notebookContainer) {{\n",
              "    x.observe(notebookContainer, {childList: true});\n",
              "}}\n",
              "\n",
              "// Listen for the clearing of the current output cell\n",
              "var outputEl = gd.closest('.output');\n",
              "if (outputEl) {{\n",
              "    x.observe(outputEl, {childList: true});\n",
              "}}\n",
              "\n",
              "                        })\n",
              "                };\n",
              "                \n",
              "            </script>\n",
              "        </div>\n",
              "</body>\n",
              "</html>"
            ]
          },
          "metadata": {
            "tags": []
          }
        }
      ]
    },
    {
      "cell_type": "markdown",
      "metadata": {
        "id": "KYLLnPeqPJE1"
      },
      "source": [
        "From the graph we can observe that:\n",
        "\n",
        "\n",
        "\n",
        "*   The highest net profit obtained by orders are 8,303K dollars on 21st June 2018.\n",
        "\n",
        "*   The NetOrderDollarPrice also does not have a clear trend.\n",
        "*   However, the IT sales department almost make a constant net profit from 6th December 2017 to 21st December 2017 and also from 5th April 2018 to 27th April 2018.\n",
        "\n",
        "\n",
        "\n"
      ]
    },
    {
      "cell_type": "markdown",
      "metadata": {
        "id": "E8cW4YhJQW9d"
      },
      "source": [
        "**Trend of OrderedQuantity**"
      ]
    },
    {
      "cell_type": "code",
      "metadata": {
        "colab": {
          "base_uri": "https://localhost:8080/",
          "height": 542
        },
        "id": "MWMwbmkp4rm7",
        "outputId": "ca317bd8-e9a2-42aa-8e53-79adc37d6b89"
      },
      "source": [
        "fig1 = go.Figure()\n",
        "fig1.add_trace(go.Scatter(x=datewise.index, y=datewise[\"OrderedQuantity\"], \n",
        "                         mode='lines+markers', name='OrderedQuantity'))\n",
        "fig1.update_layout(title=\"The trend of OrderedQuantity\",\n",
        "                 xaxis_title=\"Date\", yaxis_title=\"OrderedQuantity\")\n",
        "fig1.show()"
      ],
      "execution_count": null,
      "outputs": [
        {
          "output_type": "display_data",
          "data": {
            "text/html": [
              "<html>\n",
              "<head><meta charset=\"utf-8\" /></head>\n",
              "<body>\n",
              "    <div>\n",
              "            <script src=\"https://cdnjs.cloudflare.com/ajax/libs/mathjax/2.7.5/MathJax.js?config=TeX-AMS-MML_SVG\"></script><script type=\"text/javascript\">if (window.MathJax) {MathJax.Hub.Config({SVG: {font: \"STIX-Web\"}});}</script>\n",
              "                <script type=\"text/javascript\">window.PlotlyConfig = {MathJaxConfig: 'local'};</script>\n",
              "        <script src=\"https://cdn.plot.ly/plotly-latest.min.js\"></script>    \n",
              "            <div id=\"2021cb44-7a3c-436e-aaad-85e948b3a4fc\" class=\"plotly-graph-div\" style=\"height:525px; width:100%;\"></div>\n",
              "            <script type=\"text/javascript\">\n",
              "                \n",
              "                    window.PLOTLYENV=window.PLOTLYENV || {};\n",
              "                    \n",
              "                if (document.getElementById(\"2021cb44-7a3c-436e-aaad-85e948b3a4fc\")) {\n",
              "                    Plotly.newPlot(\n",
              "                        '2021cb44-7a3c-436e-aaad-85e948b3a4fc',\n",
              "                        [{\"mode\": \"lines+markers\", \"name\": \"OrderedQuantity\", \"type\": \"scatter\", \"x\": [\"2017-01-11T00:00:00\", \"2017-02-05T00:00:00\", \"2017-02-06T00:00:00\", \"2017-02-11T00:00:00\", \"2017-03-05T00:00:00\", \"2017-03-07T00:00:00\", \"2017-03-10T00:00:00\", \"2017-04-05T00:00:00\", \"2017-04-07T00:00:00\", \"2017-04-12T00:00:00\", \"2017-04-13T00:00:00\", \"2017-04-17T00:00:00\", \"2017-04-18T00:00:00\", \"2017-04-19T00:00:00\", \"2017-04-24T00:00:00\", \"2017-04-25T00:00:00\", \"2017-04-26T00:00:00\", \"2017-04-27T00:00:00\", \"2017-04-28T00:00:00\", \"2017-05-05T00:00:00\", \"2017-05-06T00:00:00\", \"2017-05-12T00:00:00\", \"2017-05-15T00:00:00\", \"2017-05-16T00:00:00\", \"2017-05-17T00:00:00\", \"2017-05-18T00:00:00\", \"2017-05-19T00:00:00\", \"2017-05-22T00:00:00\", \"2017-05-23T00:00:00\", \"2017-05-24T00:00:00\", \"2017-05-25T00:00:00\", \"2017-05-26T00:00:00\", \"2017-05-29T00:00:00\", \"2017-05-30T00:00:00\", \"2017-05-31T00:00:00\", \"2017-06-04T00:00:00\", \"2017-06-07T00:00:00\", \"2017-06-11T00:00:00\", \"2017-06-12T00:00:00\", \"2017-06-13T00:00:00\", \"2017-06-14T00:00:00\", \"2017-06-15T00:00:00\", \"2017-06-16T00:00:00\", \"2017-06-19T00:00:00\", \"2017-06-20T00:00:00\", \"2017-06-21T00:00:00\", \"2017-06-22T00:00:00\", \"2017-06-23T00:00:00\", \"2017-06-27T00:00:00\", \"2017-06-28T00:00:00\", \"2017-06-30T00:00:00\", \"2017-07-06T00:00:00\", \"2017-07-07T00:00:00\", \"2017-07-08T00:00:00\", \"2017-07-11T00:00:00\", \"2017-07-12T00:00:00\", \"2017-07-14T00:00:00\", \"2017-07-18T00:00:00\", \"2017-07-19T00:00:00\", \"2017-07-21T00:00:00\", \"2017-07-24T00:00:00\", \"2017-07-25T00:00:00\", \"2017-07-26T00:00:00\", \"2017-07-27T00:00:00\", \"2017-08-05T00:00:00\", \"2017-08-06T00:00:00\", \"2017-08-11T00:00:00\", \"2017-08-12T00:00:00\", \"2017-08-22T00:00:00\", \"2017-08-23T00:00:00\", \"2017-09-05T00:00:00\", \"2017-09-06T00:00:00\", \"2017-09-11T00:00:00\", \"2017-09-15T00:00:00\", \"2017-09-19T00:00:00\", \"2017-09-20T00:00:00\", \"2017-09-22T00:00:00\", \"2017-09-25T00:00:00\", \"2017-09-29T00:00:00\", \"2017-10-04T00:00:00\", \"2017-10-07T00:00:00\", \"2017-10-10T00:00:00\", \"2017-10-11T00:00:00\", \"2017-10-13T00:00:00\", \"2017-10-17T00:00:00\", \"2017-10-23T00:00:00\", \"2017-10-24T00:00:00\", \"2017-11-05T00:00:00\", \"2017-11-07T00:00:00\", \"2017-11-12T00:00:00\", \"2017-11-13T00:00:00\", \"2017-11-14T00:00:00\", \"2017-11-15T00:00:00\", \"2017-11-16T00:00:00\", \"2017-11-17T00:00:00\", \"2017-11-20T00:00:00\", \"2017-11-21T00:00:00\", \"2017-11-22T00:00:00\", \"2017-11-23T00:00:00\", \"2017-11-24T00:00:00\", \"2017-11-27T00:00:00\", \"2017-11-30T00:00:00\", \"2017-12-04T00:00:00\", \"2017-12-05T00:00:00\", \"2017-12-06T00:00:00\", \"2017-12-07T00:00:00\", \"2017-12-12T00:00:00\", \"2017-12-13T00:00:00\", \"2017-12-14T00:00:00\", \"2017-12-15T00:00:00\", \"2017-12-18T00:00:00\", \"2017-12-19T00:00:00\", \"2017-12-20T00:00:00\", \"2017-12-21T00:00:00\", \"2017-12-22T00:00:00\", \"2017-12-27T00:00:00\", \"2017-12-28T00:00:00\", \"2018-01-03T00:00:00\", \"2018-01-15T00:00:00\", \"2018-01-16T00:00:00\", \"2018-01-17T00:00:00\", \"2018-01-18T00:00:00\", \"2018-01-19T00:00:00\", \"2018-01-22T00:00:00\", \"2018-01-25T00:00:00\", \"2018-01-26T00:00:00\", \"2018-01-29T00:00:00\", \"2018-01-30T00:00:00\", \"2018-02-01T00:00:00\", \"2018-02-02T00:00:00\", \"2018-02-03T00:00:00\", \"2018-02-04T00:00:00\", \"2018-02-05T00:00:00\", \"2018-02-07T00:00:00\", \"2018-02-14T00:00:00\", \"2018-02-23T00:00:00\", \"2018-02-26T00:00:00\", \"2018-02-27T00:00:00\", \"2018-02-28T00:00:00\", \"2018-03-01T00:00:00\", \"2018-03-04T00:00:00\", \"2018-03-05T00:00:00\", \"2018-03-07T00:00:00\", \"2018-03-13T00:00:00\", \"2018-03-14T00:00:00\", \"2018-03-15T00:00:00\", \"2018-03-16T00:00:00\", \"2018-03-19T00:00:00\", \"2018-03-20T00:00:00\", \"2018-03-21T00:00:00\", \"2018-03-22T00:00:00\", \"2018-03-23T00:00:00\", \"2018-03-26T00:00:00\", \"2018-03-27T00:00:00\", \"2018-03-28T00:00:00\", \"2018-03-29T00:00:00\", \"2018-03-30T00:00:00\", \"2018-04-01T00:00:00\", \"2018-04-04T00:00:00\", \"2018-04-05T00:00:00\", \"2018-04-06T00:00:00\", \"2018-04-07T00:00:00\", \"2018-04-13T00:00:00\", \"2018-04-16T00:00:00\", \"2018-04-17T00:00:00\", \"2018-04-18T00:00:00\", \"2018-04-19T00:00:00\", \"2018-04-20T00:00:00\", \"2018-04-23T00:00:00\", \"2018-04-24T00:00:00\", \"2018-04-25T00:00:00\", \"2018-04-26T00:00:00\", \"2018-04-27T00:00:00\", \"2018-04-30T00:00:00\", \"2018-05-01T00:00:00\", \"2018-05-02T00:00:00\", \"2018-05-03T00:00:00\", \"2018-05-04T00:00:00\", \"2018-05-06T00:00:00\", \"2018-05-07T00:00:00\", \"2018-05-14T00:00:00\", \"2018-05-15T00:00:00\", \"2018-05-16T00:00:00\", \"2018-05-17T00:00:00\", \"2018-05-18T00:00:00\", \"2018-05-21T00:00:00\", \"2018-05-22T00:00:00\", \"2018-05-23T00:00:00\", \"2018-05-24T00:00:00\", \"2018-05-25T00:00:00\", \"2018-05-28T00:00:00\", \"2018-05-30T00:00:00\", \"2018-05-31T00:00:00\", \"2018-06-02T00:00:00\", \"2018-06-03T00:00:00\", \"2018-06-04T00:00:00\", \"2018-06-06T00:00:00\", \"2018-06-13T00:00:00\", \"2018-06-14T00:00:00\", \"2018-06-18T00:00:00\", \"2018-06-19T00:00:00\", \"2018-06-20T00:00:00\", \"2018-06-21T00:00:00\", \"2018-06-22T00:00:00\", \"2018-06-25T00:00:00\", \"2018-06-26T00:00:00\", \"2018-06-27T00:00:00\", \"2018-06-28T00:00:00\", \"2018-06-29T00:00:00\", \"2018-07-02T00:00:00\", \"2018-07-03T00:00:00\", \"2018-07-05T00:00:00\", \"2018-07-06T00:00:00\", \"2018-08-01T00:00:00\", \"2018-08-02T00:00:00\", \"2018-08-03T00:00:00\", \"2018-08-05T00:00:00\", \"2018-08-06T00:00:00\", \"2018-09-01T00:00:00\", \"2018-09-02T00:00:00\", \"2018-09-03T00:00:00\", \"2018-09-04T00:00:00\", \"2018-10-01T00:00:00\", \"2018-10-04T00:00:00\", \"2018-11-01T00:00:00\", \"2018-11-04T00:00:00\", \"2018-11-06T00:00:00\", \"2018-12-01T00:00:00\", \"2018-12-02T00:00:00\", \"2018-12-03T00:00:00\", \"2018-12-04T00:00:00\", \"2018-12-06T00:00:00\"], \"y\": [300, 1228, 68, 1418, 26, 96, 14, 1322, 78, 474, 88, 10, 14, 32, 106, 62, 76, 62, 22, 20, 148, 218, 176, 26, 98, 194, 112, 482, 176, 2786, 24, 198, 76, 1856, 68, 38, 452, 204, 92, 10, 64, 126, 352, 394, 332, 322, 218, 344, 28, 224, 636, 192, 310, 12, 9908, 2108, 90, 172, 40, 180, 70, 5358, 406, 20, 314, 156, 70, 36, 666, 68, 106, 174, 742, 16, 68, 46, 132, 22, 50, 90, 1240, 58, 110, 350, 8, 40, 22, 82, 16, 76, 828, 366, 188, 494, 414, 2622, 3342, 520, 10, 68, 3108, 78, 124, 96, 11608, 160, 28682, 134, 21292, 164, 7098, 1134, 474, 13936, 1300, 1124, 246, 124, 8006, 28, 1698, 198, 146, 2326, 1386, 1100, 1046, 418, 172, 340, 62, 990, 686, 160, 244, 12, 1112, 342, 336, 576, 682, 2, 316, 1166, 476, 184, 44, 186, 3254, 1014, 688, 692, 3408, 1454, 94, 932, 38, 6050, 434, 6514, 74, 186, 7592, 378, 24, 468, 1514, 6624, 68, 328, 792, 130, 1628, 70, 1360, 352, 226, 104, 384, 94, 490, 1142, 416, 786, 850, 566, 2014, 74, 288, 50, 328, 76, 70, 412, 2670, 282, 2870, 1620, 424, 340, 1334, 1522, 4726, 5104, 206, 110, 356, 240, 4350, 270, 698, 198, 690, 2236, 20, 56, 178, 720, 3008, 152, 500, 1018, 152, 50, 180, 448, 1096, 5414, 304, 124, 334, 436]}],\n",
              "                        {\"template\": {\"data\": {\"bar\": [{\"error_x\": {\"color\": \"#2a3f5f\"}, \"error_y\": {\"color\": \"#2a3f5f\"}, \"marker\": {\"line\": {\"color\": \"#E5ECF6\", \"width\": 0.5}}, \"type\": \"bar\"}], \"barpolar\": [{\"marker\": {\"line\": {\"color\": \"#E5ECF6\", \"width\": 0.5}}, \"type\": \"barpolar\"}], \"carpet\": [{\"aaxis\": {\"endlinecolor\": \"#2a3f5f\", \"gridcolor\": \"white\", \"linecolor\": \"white\", \"minorgridcolor\": \"white\", \"startlinecolor\": \"#2a3f5f\"}, \"baxis\": {\"endlinecolor\": \"#2a3f5f\", \"gridcolor\": \"white\", \"linecolor\": \"white\", \"minorgridcolor\": \"white\", \"startlinecolor\": \"#2a3f5f\"}, \"type\": \"carpet\"}], \"choropleth\": [{\"colorbar\": {\"outlinewidth\": 0, \"ticks\": \"\"}, \"type\": \"choropleth\"}], \"contour\": [{\"colorbar\": {\"outlinewidth\": 0, \"ticks\": \"\"}, \"colorscale\": [[0.0, \"#0d0887\"], [0.1111111111111111, \"#46039f\"], [0.2222222222222222, \"#7201a8\"], [0.3333333333333333, \"#9c179e\"], [0.4444444444444444, \"#bd3786\"], [0.5555555555555556, \"#d8576b\"], [0.6666666666666666, \"#ed7953\"], [0.7777777777777778, \"#fb9f3a\"], [0.8888888888888888, \"#fdca26\"], [1.0, \"#f0f921\"]], \"type\": \"contour\"}], \"contourcarpet\": [{\"colorbar\": {\"outlinewidth\": 0, \"ticks\": \"\"}, \"type\": \"contourcarpet\"}], \"heatmap\": [{\"colorbar\": {\"outlinewidth\": 0, \"ticks\": \"\"}, \"colorscale\": [[0.0, \"#0d0887\"], [0.1111111111111111, \"#46039f\"], [0.2222222222222222, \"#7201a8\"], [0.3333333333333333, \"#9c179e\"], [0.4444444444444444, \"#bd3786\"], [0.5555555555555556, \"#d8576b\"], [0.6666666666666666, \"#ed7953\"], [0.7777777777777778, \"#fb9f3a\"], [0.8888888888888888, \"#fdca26\"], [1.0, \"#f0f921\"]], \"type\": \"heatmap\"}], \"heatmapgl\": [{\"colorbar\": {\"outlinewidth\": 0, \"ticks\": \"\"}, \"colorscale\": [[0.0, \"#0d0887\"], [0.1111111111111111, \"#46039f\"], [0.2222222222222222, \"#7201a8\"], [0.3333333333333333, \"#9c179e\"], [0.4444444444444444, \"#bd3786\"], [0.5555555555555556, \"#d8576b\"], [0.6666666666666666, \"#ed7953\"], [0.7777777777777778, \"#fb9f3a\"], [0.8888888888888888, \"#fdca26\"], [1.0, \"#f0f921\"]], \"type\": \"heatmapgl\"}], \"histogram\": [{\"marker\": {\"colorbar\": {\"outlinewidth\": 0, \"ticks\": \"\"}}, \"type\": \"histogram\"}], \"histogram2d\": [{\"colorbar\": {\"outlinewidth\": 0, \"ticks\": \"\"}, \"colorscale\": [[0.0, \"#0d0887\"], [0.1111111111111111, \"#46039f\"], [0.2222222222222222, \"#7201a8\"], [0.3333333333333333, \"#9c179e\"], [0.4444444444444444, \"#bd3786\"], [0.5555555555555556, \"#d8576b\"], [0.6666666666666666, \"#ed7953\"], [0.7777777777777778, \"#fb9f3a\"], [0.8888888888888888, \"#fdca26\"], [1.0, \"#f0f921\"]], \"type\": \"histogram2d\"}], \"histogram2dcontour\": [{\"colorbar\": {\"outlinewidth\": 0, \"ticks\": \"\"}, \"colorscale\": [[0.0, \"#0d0887\"], [0.1111111111111111, \"#46039f\"], [0.2222222222222222, \"#7201a8\"], [0.3333333333333333, \"#9c179e\"], [0.4444444444444444, \"#bd3786\"], [0.5555555555555556, \"#d8576b\"], [0.6666666666666666, \"#ed7953\"], [0.7777777777777778, \"#fb9f3a\"], [0.8888888888888888, \"#fdca26\"], [1.0, \"#f0f921\"]], \"type\": \"histogram2dcontour\"}], \"mesh3d\": [{\"colorbar\": {\"outlinewidth\": 0, \"ticks\": \"\"}, \"type\": \"mesh3d\"}], \"parcoords\": [{\"line\": {\"colorbar\": {\"outlinewidth\": 0, \"ticks\": \"\"}}, \"type\": \"parcoords\"}], \"pie\": [{\"automargin\": true, \"type\": \"pie\"}], \"scatter\": [{\"marker\": {\"colorbar\": {\"outlinewidth\": 0, \"ticks\": \"\"}}, \"type\": \"scatter\"}], \"scatter3d\": [{\"line\": {\"colorbar\": {\"outlinewidth\": 0, \"ticks\": \"\"}}, \"marker\": {\"colorbar\": {\"outlinewidth\": 0, \"ticks\": \"\"}}, \"type\": \"scatter3d\"}], \"scattercarpet\": [{\"marker\": {\"colorbar\": {\"outlinewidth\": 0, \"ticks\": \"\"}}, \"type\": \"scattercarpet\"}], \"scattergeo\": [{\"marker\": {\"colorbar\": {\"outlinewidth\": 0, \"ticks\": \"\"}}, \"type\": \"scattergeo\"}], \"scattergl\": [{\"marker\": {\"colorbar\": {\"outlinewidth\": 0, \"ticks\": \"\"}}, \"type\": \"scattergl\"}], \"scattermapbox\": [{\"marker\": {\"colorbar\": {\"outlinewidth\": 0, \"ticks\": \"\"}}, \"type\": \"scattermapbox\"}], \"scatterpolar\": [{\"marker\": {\"colorbar\": {\"outlinewidth\": 0, \"ticks\": \"\"}}, \"type\": \"scatterpolar\"}], \"scatterpolargl\": [{\"marker\": {\"colorbar\": {\"outlinewidth\": 0, \"ticks\": \"\"}}, \"type\": \"scatterpolargl\"}], \"scatterternary\": [{\"marker\": {\"colorbar\": {\"outlinewidth\": 0, \"ticks\": \"\"}}, \"type\": \"scatterternary\"}], \"surface\": [{\"colorbar\": {\"outlinewidth\": 0, \"ticks\": \"\"}, \"colorscale\": [[0.0, \"#0d0887\"], [0.1111111111111111, \"#46039f\"], [0.2222222222222222, \"#7201a8\"], [0.3333333333333333, \"#9c179e\"], [0.4444444444444444, \"#bd3786\"], [0.5555555555555556, \"#d8576b\"], [0.6666666666666666, \"#ed7953\"], [0.7777777777777778, \"#fb9f3a\"], [0.8888888888888888, \"#fdca26\"], [1.0, \"#f0f921\"]], \"type\": \"surface\"}], \"table\": [{\"cells\": {\"fill\": {\"color\": \"#EBF0F8\"}, \"line\": {\"color\": \"white\"}}, \"header\": {\"fill\": {\"color\": \"#C8D4E3\"}, \"line\": {\"color\": \"white\"}}, \"type\": \"table\"}]}, \"layout\": {\"annotationdefaults\": {\"arrowcolor\": \"#2a3f5f\", \"arrowhead\": 0, \"arrowwidth\": 1}, \"coloraxis\": {\"colorbar\": {\"outlinewidth\": 0, \"ticks\": \"\"}}, \"colorscale\": {\"diverging\": [[0, \"#8e0152\"], [0.1, \"#c51b7d\"], [0.2, \"#de77ae\"], [0.3, \"#f1b6da\"], [0.4, \"#fde0ef\"], [0.5, \"#f7f7f7\"], [0.6, \"#e6f5d0\"], [0.7, \"#b8e186\"], [0.8, \"#7fbc41\"], [0.9, \"#4d9221\"], [1, \"#276419\"]], \"sequential\": [[0.0, \"#0d0887\"], [0.1111111111111111, \"#46039f\"], [0.2222222222222222, \"#7201a8\"], [0.3333333333333333, \"#9c179e\"], [0.4444444444444444, \"#bd3786\"], [0.5555555555555556, \"#d8576b\"], [0.6666666666666666, \"#ed7953\"], [0.7777777777777778, \"#fb9f3a\"], [0.8888888888888888, \"#fdca26\"], [1.0, \"#f0f921\"]], \"sequentialminus\": [[0.0, \"#0d0887\"], [0.1111111111111111, \"#46039f\"], [0.2222222222222222, \"#7201a8\"], [0.3333333333333333, \"#9c179e\"], [0.4444444444444444, \"#bd3786\"], [0.5555555555555556, \"#d8576b\"], [0.6666666666666666, \"#ed7953\"], [0.7777777777777778, \"#fb9f3a\"], [0.8888888888888888, \"#fdca26\"], [1.0, \"#f0f921\"]]}, \"colorway\": [\"#636efa\", \"#EF553B\", \"#00cc96\", \"#ab63fa\", \"#FFA15A\", \"#19d3f3\", \"#FF6692\", \"#B6E880\", \"#FF97FF\", \"#FECB52\"], \"font\": {\"color\": \"#2a3f5f\"}, \"geo\": {\"bgcolor\": \"white\", \"lakecolor\": \"white\", \"landcolor\": \"#E5ECF6\", \"showlakes\": true, \"showland\": true, \"subunitcolor\": \"white\"}, \"hoverlabel\": {\"align\": \"left\"}, \"hovermode\": \"closest\", \"mapbox\": {\"style\": \"light\"}, \"paper_bgcolor\": \"white\", \"plot_bgcolor\": \"#E5ECF6\", \"polar\": {\"angularaxis\": {\"gridcolor\": \"white\", \"linecolor\": \"white\", \"ticks\": \"\"}, \"bgcolor\": \"#E5ECF6\", \"radialaxis\": {\"gridcolor\": \"white\", \"linecolor\": \"white\", \"ticks\": \"\"}}, \"scene\": {\"xaxis\": {\"backgroundcolor\": \"#E5ECF6\", \"gridcolor\": \"white\", \"gridwidth\": 2, \"linecolor\": \"white\", \"showbackground\": true, \"ticks\": \"\", \"zerolinecolor\": \"white\"}, \"yaxis\": {\"backgroundcolor\": \"#E5ECF6\", \"gridcolor\": \"white\", \"gridwidth\": 2, \"linecolor\": \"white\", \"showbackground\": true, \"ticks\": \"\", \"zerolinecolor\": \"white\"}, \"zaxis\": {\"backgroundcolor\": \"#E5ECF6\", \"gridcolor\": \"white\", \"gridwidth\": 2, \"linecolor\": \"white\", \"showbackground\": true, \"ticks\": \"\", \"zerolinecolor\": \"white\"}}, \"shapedefaults\": {\"line\": {\"color\": \"#2a3f5f\"}}, \"ternary\": {\"aaxis\": {\"gridcolor\": \"white\", \"linecolor\": \"white\", \"ticks\": \"\"}, \"baxis\": {\"gridcolor\": \"white\", \"linecolor\": \"white\", \"ticks\": \"\"}, \"bgcolor\": \"#E5ECF6\", \"caxis\": {\"gridcolor\": \"white\", \"linecolor\": \"white\", \"ticks\": \"\"}}, \"title\": {\"x\": 0.05}, \"xaxis\": {\"automargin\": true, \"gridcolor\": \"white\", \"linecolor\": \"white\", \"ticks\": \"\", \"title\": {\"standoff\": 15}, \"zerolinecolor\": \"white\", \"zerolinewidth\": 2}, \"yaxis\": {\"automargin\": true, \"gridcolor\": \"white\", \"linecolor\": \"white\", \"ticks\": \"\", \"title\": {\"standoff\": 15}, \"zerolinecolor\": \"white\", \"zerolinewidth\": 2}}}, \"title\": {\"text\": \"The trend of OrderedQuantity\"}, \"xaxis\": {\"title\": {\"text\": \"Date\"}}, \"yaxis\": {\"title\": {\"text\": \"OrderedQuantity\"}}},\n",
              "                        {\"responsive\": true}\n",
              "                    ).then(function(){\n",
              "                            \n",
              "var gd = document.getElementById('2021cb44-7a3c-436e-aaad-85e948b3a4fc');\n",
              "var x = new MutationObserver(function (mutations, observer) {{\n",
              "        var display = window.getComputedStyle(gd).display;\n",
              "        if (!display || display === 'none') {{\n",
              "            console.log([gd, 'removed!']);\n",
              "            Plotly.purge(gd);\n",
              "            observer.disconnect();\n",
              "        }}\n",
              "}});\n",
              "\n",
              "// Listen for the removal of the full notebook cells\n",
              "var notebookContainer = gd.closest('#notebook-container');\n",
              "if (notebookContainer) {{\n",
              "    x.observe(notebookContainer, {childList: true});\n",
              "}}\n",
              "\n",
              "// Listen for the clearing of the current output cell\n",
              "var outputEl = gd.closest('.output');\n",
              "if (outputEl) {{\n",
              "    x.observe(outputEl, {childList: true});\n",
              "}}\n",
              "\n",
              "                        })\n",
              "                };\n",
              "                \n",
              "            </script>\n",
              "        </div>\n",
              "</body>\n",
              "</html>"
            ]
          },
          "metadata": {
            "tags": []
          }
        }
      ]
    },
    {
      "cell_type": "markdown",
      "metadata": {
        "id": "Z6lp4be4Qh3A"
      },
      "source": [
        "From the graph above, we can observe that:\n",
        "\n",
        "\n",
        "\n",
        "*   The highest order quantity received by the IT Sales department will be 28,682 orders on 12th December 2017. That was 2 days before the the second highest net profit obtained on 14th December 2017. That period will be a success of cash deposits from the IT Sales department.\n",
        "\n",
        "*   However, 21st Jun 2018 was the highest date receiving net profit from the order. We can assume that there might be some late payments occurred. \n"
      ]
    },
    {
      "cell_type": "markdown",
      "metadata": {
        "id": "4e8nNy4Sti0b"
      },
      "source": [
        "#### To make a comparison between the NetLineDollarPrice and NetOrderDollarPrice"
      ]
    },
    {
      "cell_type": "code",
      "metadata": {
        "colab": {
          "base_uri": "https://localhost:8080/",
          "height": 542
        },
        "id": "ycXmICFAti0b",
        "outputId": "75d95269-3e77-4a61-f43a-f401d851dbec"
      },
      "source": [
        "fig2 = go.Figure()\n",
        "fig2.add_trace(go.Scatter(x=datewise.index, y=datewise[\"NetLineDollarPrice\"], \n",
        "                         mode='lines+markers', name='NetLineDollarPrice'))\n",
        "fig2.add_trace(go.Scatter(x=datewise.index, y=datewise[\"NetOrderDollarPrice\"], \n",
        "                         mode='lines+markers', name='NetOrderDollarPrice'))\n",
        "fig2.update_layout(title=\"The trend of NetlineOrderDollarPrice and NetOrderDollarPrice\",\n",
        "                 xaxis_title=\"Date\", yaxis_title=\"NetLineOrderPrice and NetOrderDollarPrice\")\n",
        "fig2.show()"
      ],
      "execution_count": null,
      "outputs": [
        {
          "output_type": "display_data",
          "data": {
            "text/html": [
              "<html>\n",
              "<head><meta charset=\"utf-8\" /></head>\n",
              "<body>\n",
              "    <div>\n",
              "            <script src=\"https://cdnjs.cloudflare.com/ajax/libs/mathjax/2.7.5/MathJax.js?config=TeX-AMS-MML_SVG\"></script><script type=\"text/javascript\">if (window.MathJax) {MathJax.Hub.Config({SVG: {font: \"STIX-Web\"}});}</script>\n",
              "                <script type=\"text/javascript\">window.PlotlyConfig = {MathJaxConfig: 'local'};</script>\n",
              "        <script src=\"https://cdn.plot.ly/plotly-latest.min.js\"></script>    \n",
              "            <div id=\"d7c56650-3fa0-4c03-9701-93fb7d79ccfd\" class=\"plotly-graph-div\" style=\"height:525px; width:100%;\"></div>\n",
              "            <script type=\"text/javascript\">\n",
              "                \n",
              "                    window.PLOTLYENV=window.PLOTLYENV || {};\n",
              "                    \n",
              "                if (document.getElementById(\"d7c56650-3fa0-4c03-9701-93fb7d79ccfd\")) {\n",
              "                    Plotly.newPlot(\n",
              "                        'd7c56650-3fa0-4c03-9701-93fb7d79ccfd',\n",
              "                        [{\"mode\": \"lines+markers\", \"name\": \"NetLineDollarPrice\", \"type\": \"scatter\", \"x\": [\"2017-01-11T00:00:00\", \"2017-02-05T00:00:00\", \"2017-02-06T00:00:00\", \"2017-02-11T00:00:00\", \"2017-03-05T00:00:00\", \"2017-03-07T00:00:00\", \"2017-03-10T00:00:00\", \"2017-04-05T00:00:00\", \"2017-04-07T00:00:00\", \"2017-04-12T00:00:00\", \"2017-04-13T00:00:00\", \"2017-04-17T00:00:00\", \"2017-04-18T00:00:00\", \"2017-04-19T00:00:00\", \"2017-04-24T00:00:00\", \"2017-04-25T00:00:00\", \"2017-04-26T00:00:00\", \"2017-04-27T00:00:00\", \"2017-04-28T00:00:00\", \"2017-05-05T00:00:00\", \"2017-05-06T00:00:00\", \"2017-05-12T00:00:00\", \"2017-05-15T00:00:00\", \"2017-05-16T00:00:00\", \"2017-05-17T00:00:00\", \"2017-05-18T00:00:00\", \"2017-05-19T00:00:00\", \"2017-05-22T00:00:00\", \"2017-05-23T00:00:00\", \"2017-05-24T00:00:00\", \"2017-05-25T00:00:00\", \"2017-05-26T00:00:00\", \"2017-05-29T00:00:00\", \"2017-05-30T00:00:00\", \"2017-05-31T00:00:00\", \"2017-06-04T00:00:00\", \"2017-06-07T00:00:00\", \"2017-06-11T00:00:00\", \"2017-06-12T00:00:00\", \"2017-06-13T00:00:00\", \"2017-06-14T00:00:00\", \"2017-06-15T00:00:00\", \"2017-06-16T00:00:00\", \"2017-06-19T00:00:00\", \"2017-06-20T00:00:00\", \"2017-06-21T00:00:00\", \"2017-06-22T00:00:00\", \"2017-06-23T00:00:00\", \"2017-06-27T00:00:00\", \"2017-06-28T00:00:00\", \"2017-06-30T00:00:00\", \"2017-07-06T00:00:00\", \"2017-07-07T00:00:00\", \"2017-07-08T00:00:00\", \"2017-07-11T00:00:00\", \"2017-07-12T00:00:00\", \"2017-07-14T00:00:00\", \"2017-07-18T00:00:00\", \"2017-07-19T00:00:00\", \"2017-07-21T00:00:00\", \"2017-07-24T00:00:00\", \"2017-07-25T00:00:00\", \"2017-07-26T00:00:00\", \"2017-07-27T00:00:00\", \"2017-08-05T00:00:00\", \"2017-08-06T00:00:00\", \"2017-08-11T00:00:00\", \"2017-08-12T00:00:00\", \"2017-08-22T00:00:00\", \"2017-08-23T00:00:00\", \"2017-09-05T00:00:00\", \"2017-09-06T00:00:00\", \"2017-09-11T00:00:00\", \"2017-09-15T00:00:00\", \"2017-09-19T00:00:00\", \"2017-09-20T00:00:00\", \"2017-09-22T00:00:00\", \"2017-09-25T00:00:00\", \"2017-09-29T00:00:00\", \"2017-10-04T00:00:00\", \"2017-10-07T00:00:00\", \"2017-10-10T00:00:00\", \"2017-10-11T00:00:00\", \"2017-10-13T00:00:00\", \"2017-10-17T00:00:00\", \"2017-10-23T00:00:00\", \"2017-10-24T00:00:00\", \"2017-11-05T00:00:00\", \"2017-11-07T00:00:00\", \"2017-11-12T00:00:00\", \"2017-11-13T00:00:00\", \"2017-11-14T00:00:00\", \"2017-11-15T00:00:00\", \"2017-11-16T00:00:00\", \"2017-11-17T00:00:00\", \"2017-11-20T00:00:00\", \"2017-11-21T00:00:00\", \"2017-11-22T00:00:00\", \"2017-11-23T00:00:00\", \"2017-11-24T00:00:00\", \"2017-11-27T00:00:00\", \"2017-11-30T00:00:00\", \"2017-12-04T00:00:00\", \"2017-12-05T00:00:00\", \"2017-12-06T00:00:00\", \"2017-12-07T00:00:00\", \"2017-12-12T00:00:00\", \"2017-12-13T00:00:00\", \"2017-12-14T00:00:00\", \"2017-12-15T00:00:00\", \"2017-12-18T00:00:00\", \"2017-12-19T00:00:00\", \"2017-12-20T00:00:00\", \"2017-12-21T00:00:00\", \"2017-12-22T00:00:00\", \"2017-12-27T00:00:00\", \"2017-12-28T00:00:00\", \"2018-01-03T00:00:00\", \"2018-01-15T00:00:00\", \"2018-01-16T00:00:00\", \"2018-01-17T00:00:00\", \"2018-01-18T00:00:00\", \"2018-01-19T00:00:00\", \"2018-01-22T00:00:00\", \"2018-01-25T00:00:00\", \"2018-01-26T00:00:00\", \"2018-01-29T00:00:00\", \"2018-01-30T00:00:00\", \"2018-02-01T00:00:00\", \"2018-02-02T00:00:00\", \"2018-02-03T00:00:00\", \"2018-02-04T00:00:00\", \"2018-02-05T00:00:00\", \"2018-02-07T00:00:00\", \"2018-02-14T00:00:00\", \"2018-02-23T00:00:00\", \"2018-02-26T00:00:00\", \"2018-02-27T00:00:00\", \"2018-02-28T00:00:00\", \"2018-03-01T00:00:00\", \"2018-03-04T00:00:00\", \"2018-03-05T00:00:00\", \"2018-03-07T00:00:00\", \"2018-03-13T00:00:00\", \"2018-03-14T00:00:00\", \"2018-03-15T00:00:00\", \"2018-03-16T00:00:00\", \"2018-03-19T00:00:00\", \"2018-03-20T00:00:00\", \"2018-03-21T00:00:00\", \"2018-03-22T00:00:00\", \"2018-03-23T00:00:00\", \"2018-03-26T00:00:00\", \"2018-03-27T00:00:00\", \"2018-03-28T00:00:00\", \"2018-03-29T00:00:00\", \"2018-03-30T00:00:00\", \"2018-04-01T00:00:00\", \"2018-04-04T00:00:00\", \"2018-04-05T00:00:00\", \"2018-04-06T00:00:00\", \"2018-04-07T00:00:00\", \"2018-04-13T00:00:00\", \"2018-04-16T00:00:00\", \"2018-04-17T00:00:00\", \"2018-04-18T00:00:00\", \"2018-04-19T00:00:00\", \"2018-04-20T00:00:00\", \"2018-04-23T00:00:00\", \"2018-04-24T00:00:00\", \"2018-04-25T00:00:00\", \"2018-04-26T00:00:00\", \"2018-04-27T00:00:00\", \"2018-04-30T00:00:00\", \"2018-05-01T00:00:00\", \"2018-05-02T00:00:00\", \"2018-05-03T00:00:00\", \"2018-05-04T00:00:00\", \"2018-05-06T00:00:00\", \"2018-05-07T00:00:00\", \"2018-05-14T00:00:00\", \"2018-05-15T00:00:00\", \"2018-05-16T00:00:00\", \"2018-05-17T00:00:00\", \"2018-05-18T00:00:00\", \"2018-05-21T00:00:00\", \"2018-05-22T00:00:00\", \"2018-05-23T00:00:00\", \"2018-05-24T00:00:00\", \"2018-05-25T00:00:00\", \"2018-05-28T00:00:00\", \"2018-05-30T00:00:00\", \"2018-05-31T00:00:00\", \"2018-06-02T00:00:00\", \"2018-06-03T00:00:00\", \"2018-06-04T00:00:00\", \"2018-06-06T00:00:00\", \"2018-06-13T00:00:00\", \"2018-06-14T00:00:00\", \"2018-06-18T00:00:00\", \"2018-06-19T00:00:00\", \"2018-06-20T00:00:00\", \"2018-06-21T00:00:00\", \"2018-06-22T00:00:00\", \"2018-06-25T00:00:00\", \"2018-06-26T00:00:00\", \"2018-06-27T00:00:00\", \"2018-06-28T00:00:00\", \"2018-06-29T00:00:00\", \"2018-07-02T00:00:00\", \"2018-07-03T00:00:00\", \"2018-07-05T00:00:00\", \"2018-07-06T00:00:00\", \"2018-08-01T00:00:00\", \"2018-08-02T00:00:00\", \"2018-08-03T00:00:00\", \"2018-08-05T00:00:00\", \"2018-08-06T00:00:00\", \"2018-09-01T00:00:00\", \"2018-09-02T00:00:00\", \"2018-09-03T00:00:00\", \"2018-09-04T00:00:00\", \"2018-10-01T00:00:00\", \"2018-10-04T00:00:00\", \"2018-11-01T00:00:00\", \"2018-11-04T00:00:00\", \"2018-11-06T00:00:00\", \"2018-12-01T00:00:00\", \"2018-12-02T00:00:00\", \"2018-12-03T00:00:00\", \"2018-12-04T00:00:00\", \"2018-12-06T00:00:00\"], \"y\": [17269.02, 399351.6599999998, 20275.820000000003, 59290.18000000009, 4526.7, 22359.37999999999, 3237.6000000000004, 401716.57999999984, 18003.439999999995, 24311.400000000016, 6581.719999999993, 70.38000000000001, 1024.1999999999998, 3041.1600000000003, 8910.24, 18926.240000000005, 19495.300000000007, 18471.519999999997, 12885.600000000002, 1536.6399999999999, 17411.200000000008, 12261.03999999999, 29345.919999999984, 1357.919999999999, 7680.5199999999995, 29952.139999999974, 30915.120000000028, 53268.13999999988, 35195.84000000001, 20807.179999999993, 5.684341886080802e-14, 15444.179999999997, 30057.780000000024, 228565.61999999994, 25795.3, 12320.740000000003, 134090.81999999992, 17658.62000000001, 4820.4, 5603.46, 11616.54, 43880.419999999984, 103403.94000000005, 103005.18000000025, 86352.74000000009, 98612.19999999991, 32379.439999999977, 61960.159999999916, 9339.199999999999, 68056.95999999995, 33771.45999999998, 13974.02, 17511.4, 988.08, 118161.22, 48621.239999999976, 22151.300000000003, 51112.39999999997, 8238.880000000001, 22913.439999999988, 40123.4, 53438.76000000001, 5052.279999999996, 7336.4000000000015, 26202.160000000007, 35944.45999999999, 2411.96, 5204.0199999999995, 20347.579999999998, 7986.520000000001, 6122.879999999999, 9390.279999999997, 66778.57999999997, 818.64, 905.8000000000001, 13213.480000000001, 15382.840000000006, 13345.839999999998, 6544.200000000003, 20731.75999999999, 35329.59999999999, 30164.140000000007, 11941.82, 5019.679999999998, 397.84, 17295.619999999995, 9607.6, 22697.37999999999, 4801.04, 5517.28, 59692.61999999998, 8056.1, 8416.400000000001, 67011.97999999994, 20369.82000000001, 159080.38000000006, 129756.7000000002, 12858.239999999996, 493.02000000000004, 9365.320000000002, 69312.45999999998, 16870.52, 9567.359999999997, 55507.34000000003, 173722.47999999998, 22183.43999999999, 36743.5, 11551.16, 486730.02000000025, 6942.779999999999, 163291.72000000006, 73163.04000000004, 23862.379999999994, 327740.52, 76095.94000000009, 40991.76000000001, 9381.299999999997, 12000.08, 93126.55999999998, 905.0799999999999, 91721.03999999995, 3149.3999999999996, 23685.040000000008, 55457.93999999999, 64097.45999999999, 31782.14, 10205.039999999994, 27463.399999999976, 22550.400000000005, 27594.15999999999, 0.0, 39791.49999999999, 31403.42000000001, 33596.26000000001, 9201.959999999997, -2.842170943040401e-14, 2100.2800000000007, -887.7199999999993, 38207.82000000001, 34791.26, 23236.199999999993, 2128.42, 21255.0, 13553.860000000002, 11880.020000000002, 3500.0000000000005, 4252.32, 21542.940000000006, 157056.54000000004, 99398.92000000001, 56362.379999999976, 20881.480000000003, 138204.16000000012, 58332.80000000001, 34186.20000000002, 39623.27999999999, 0.0, 97356.64000000013, 50961.279999999984, 170248.70000000013, 2775.8800000000006, 30378.44, 255251.68000000005, 11702.959999999992, 2077.0, 28370.300000000007, 59853.51999999997, 242379.39999999985, 2218.6800000000003, 17438.74, 41026.46000000001, 2971.7400000000002, 107756.86000000006, 3600.0, 50063.31999999999, 7554.42, 22833.600000000006, 9328.86, 20048.9, 3688.1000000000004, 48344.89999999999, 46728.979999999996, 25645.020000000004, 63387.75999999998, 22999.879999999997, 12765.599999999995, 40604.03999999999, 3590.0, 17275.38000000001, 2488.4, 12805.139999999998, 1810.96, 2077.0, 38800.0, 64630.31999999997, 7065.02, 90613.99999999996, 60914.900000000016, 13262.259999999998, 13655.099999999999, 47897.15999999998, 53598.48000000002, 248820.92000000004, 181111.1199999999, 22968.739999999998, 3015.0199999999995, 26175.660000000003, 9409.04, 229109.66000000003, 19607.48, 21735.69999999999, 16225.04, 64014.780000000035, 122217.89999999995, 2530.24, 3616.68, 10235.160000000002, 45838.140000000014, 61825.579999999994, 4849.959999999997, 25198.659999999993, 17786.499999999996, 6588.839999999999, 8331.820000000002, 7586.48, 22311.959999999985, 61571.05999999993, 86156.29999999986, 8819.160000000002, -5180.299999999999, 16148.919999999998, 27661.16000000001]}, {\"mode\": \"lines+markers\", \"name\": \"NetOrderDollarPrice\", \"type\": \"scatter\", \"x\": [\"2017-01-11T00:00:00\", \"2017-02-05T00:00:00\", \"2017-02-06T00:00:00\", \"2017-02-11T00:00:00\", \"2017-03-05T00:00:00\", \"2017-03-07T00:00:00\", \"2017-03-10T00:00:00\", \"2017-04-05T00:00:00\", \"2017-04-07T00:00:00\", \"2017-04-12T00:00:00\", \"2017-04-13T00:00:00\", \"2017-04-17T00:00:00\", \"2017-04-18T00:00:00\", \"2017-04-19T00:00:00\", \"2017-04-24T00:00:00\", \"2017-04-25T00:00:00\", \"2017-04-26T00:00:00\", \"2017-04-27T00:00:00\", \"2017-04-28T00:00:00\", \"2017-05-05T00:00:00\", \"2017-05-06T00:00:00\", \"2017-05-12T00:00:00\", \"2017-05-15T00:00:00\", \"2017-05-16T00:00:00\", \"2017-05-17T00:00:00\", \"2017-05-18T00:00:00\", \"2017-05-19T00:00:00\", \"2017-05-22T00:00:00\", \"2017-05-23T00:00:00\", \"2017-05-24T00:00:00\", \"2017-05-25T00:00:00\", \"2017-05-26T00:00:00\", \"2017-05-29T00:00:00\", \"2017-05-30T00:00:00\", \"2017-05-31T00:00:00\", \"2017-06-04T00:00:00\", \"2017-06-07T00:00:00\", \"2017-06-11T00:00:00\", \"2017-06-12T00:00:00\", \"2017-06-13T00:00:00\", \"2017-06-14T00:00:00\", \"2017-06-15T00:00:00\", \"2017-06-16T00:00:00\", \"2017-06-19T00:00:00\", \"2017-06-20T00:00:00\", \"2017-06-21T00:00:00\", \"2017-06-22T00:00:00\", \"2017-06-23T00:00:00\", \"2017-06-27T00:00:00\", \"2017-06-28T00:00:00\", \"2017-06-30T00:00:00\", \"2017-07-06T00:00:00\", \"2017-07-07T00:00:00\", \"2017-07-08T00:00:00\", \"2017-07-11T00:00:00\", \"2017-07-12T00:00:00\", \"2017-07-14T00:00:00\", \"2017-07-18T00:00:00\", \"2017-07-19T00:00:00\", \"2017-07-21T00:00:00\", \"2017-07-24T00:00:00\", \"2017-07-25T00:00:00\", \"2017-07-26T00:00:00\", \"2017-07-27T00:00:00\", \"2017-08-05T00:00:00\", \"2017-08-06T00:00:00\", \"2017-08-11T00:00:00\", \"2017-08-12T00:00:00\", \"2017-08-22T00:00:00\", \"2017-08-23T00:00:00\", \"2017-09-05T00:00:00\", \"2017-09-06T00:00:00\", \"2017-09-11T00:00:00\", \"2017-09-15T00:00:00\", \"2017-09-19T00:00:00\", \"2017-09-20T00:00:00\", \"2017-09-22T00:00:00\", \"2017-09-25T00:00:00\", \"2017-09-29T00:00:00\", \"2017-10-04T00:00:00\", \"2017-10-07T00:00:00\", \"2017-10-10T00:00:00\", \"2017-10-11T00:00:00\", \"2017-10-13T00:00:00\", \"2017-10-17T00:00:00\", \"2017-10-23T00:00:00\", \"2017-10-24T00:00:00\", \"2017-11-05T00:00:00\", \"2017-11-07T00:00:00\", \"2017-11-12T00:00:00\", \"2017-11-13T00:00:00\", \"2017-11-14T00:00:00\", \"2017-11-15T00:00:00\", \"2017-11-16T00:00:00\", \"2017-11-17T00:00:00\", \"2017-11-20T00:00:00\", \"2017-11-21T00:00:00\", \"2017-11-22T00:00:00\", \"2017-11-23T00:00:00\", \"2017-11-24T00:00:00\", \"2017-11-27T00:00:00\", \"2017-11-30T00:00:00\", \"2017-12-04T00:00:00\", \"2017-12-05T00:00:00\", \"2017-12-06T00:00:00\", \"2017-12-07T00:00:00\", \"2017-12-12T00:00:00\", \"2017-12-13T00:00:00\", \"2017-12-14T00:00:00\", \"2017-12-15T00:00:00\", \"2017-12-18T00:00:00\", \"2017-12-19T00:00:00\", \"2017-12-20T00:00:00\", \"2017-12-21T00:00:00\", \"2017-12-22T00:00:00\", \"2017-12-27T00:00:00\", \"2017-12-28T00:00:00\", \"2018-01-03T00:00:00\", \"2018-01-15T00:00:00\", \"2018-01-16T00:00:00\", \"2018-01-17T00:00:00\", \"2018-01-18T00:00:00\", \"2018-01-19T00:00:00\", \"2018-01-22T00:00:00\", \"2018-01-25T00:00:00\", \"2018-01-26T00:00:00\", \"2018-01-29T00:00:00\", \"2018-01-30T00:00:00\", \"2018-02-01T00:00:00\", \"2018-02-02T00:00:00\", \"2018-02-03T00:00:00\", \"2018-02-04T00:00:00\", \"2018-02-05T00:00:00\", \"2018-02-07T00:00:00\", \"2018-02-14T00:00:00\", \"2018-02-23T00:00:00\", \"2018-02-26T00:00:00\", \"2018-02-27T00:00:00\", \"2018-02-28T00:00:00\", \"2018-03-01T00:00:00\", \"2018-03-04T00:00:00\", \"2018-03-05T00:00:00\", \"2018-03-07T00:00:00\", \"2018-03-13T00:00:00\", \"2018-03-14T00:00:00\", \"2018-03-15T00:00:00\", \"2018-03-16T00:00:00\", \"2018-03-19T00:00:00\", \"2018-03-20T00:00:00\", \"2018-03-21T00:00:00\", \"2018-03-22T00:00:00\", \"2018-03-23T00:00:00\", \"2018-03-26T00:00:00\", \"2018-03-27T00:00:00\", \"2018-03-28T00:00:00\", \"2018-03-29T00:00:00\", \"2018-03-30T00:00:00\", \"2018-04-01T00:00:00\", \"2018-04-04T00:00:00\", \"2018-04-05T00:00:00\", \"2018-04-06T00:00:00\", \"2018-04-07T00:00:00\", \"2018-04-13T00:00:00\", \"2018-04-16T00:00:00\", \"2018-04-17T00:00:00\", \"2018-04-18T00:00:00\", \"2018-04-19T00:00:00\", \"2018-04-20T00:00:00\", \"2018-04-23T00:00:00\", \"2018-04-24T00:00:00\", \"2018-04-25T00:00:00\", \"2018-04-26T00:00:00\", \"2018-04-27T00:00:00\", \"2018-04-30T00:00:00\", \"2018-05-01T00:00:00\", \"2018-05-02T00:00:00\", \"2018-05-03T00:00:00\", \"2018-05-04T00:00:00\", \"2018-05-06T00:00:00\", \"2018-05-07T00:00:00\", \"2018-05-14T00:00:00\", \"2018-05-15T00:00:00\", \"2018-05-16T00:00:00\", \"2018-05-17T00:00:00\", \"2018-05-18T00:00:00\", \"2018-05-21T00:00:00\", \"2018-05-22T00:00:00\", \"2018-05-23T00:00:00\", \"2018-05-24T00:00:00\", \"2018-05-25T00:00:00\", \"2018-05-28T00:00:00\", \"2018-05-30T00:00:00\", \"2018-05-31T00:00:00\", \"2018-06-02T00:00:00\", \"2018-06-03T00:00:00\", \"2018-06-04T00:00:00\", \"2018-06-06T00:00:00\", \"2018-06-13T00:00:00\", \"2018-06-14T00:00:00\", \"2018-06-18T00:00:00\", \"2018-06-19T00:00:00\", \"2018-06-20T00:00:00\", \"2018-06-21T00:00:00\", \"2018-06-22T00:00:00\", \"2018-06-25T00:00:00\", \"2018-06-26T00:00:00\", \"2018-06-27T00:00:00\", \"2018-06-28T00:00:00\", \"2018-06-29T00:00:00\", \"2018-07-02T00:00:00\", \"2018-07-03T00:00:00\", \"2018-07-05T00:00:00\", \"2018-07-06T00:00:00\", \"2018-08-01T00:00:00\", \"2018-08-02T00:00:00\", \"2018-08-03T00:00:00\", \"2018-08-05T00:00:00\", \"2018-08-06T00:00:00\", \"2018-09-01T00:00:00\", \"2018-09-02T00:00:00\", \"2018-09-03T00:00:00\", \"2018-09-04T00:00:00\", \"2018-10-01T00:00:00\", \"2018-10-04T00:00:00\", \"2018-11-01T00:00:00\", \"2018-11-04T00:00:00\", \"2018-11-06T00:00:00\", \"2018-12-01T00:00:00\", \"2018-12-02T00:00:00\", \"2018-12-03T00:00:00\", \"2018-12-04T00:00:00\", \"2018-12-06T00:00:00\"], \"y\": [246944.4399999997, 599379.2199999995, 46776.17999999998, 941287.1600000047, 16491.620000000014, 63438.39999999992, 4532.640000000001, 685323.4200000004, 56371.66000000003, 336295.27999999945, 23007.040000000005, 117.30000000000003, 1433.88, 4500.6, 236121.3599999998, 59944.07999999995, 38885.88, 185079.36000000022, 35435.40000000001, 2304.9599999999996, 64547.92000000002, 209243.2199999996, 86841.36, 8418.800000000003, 12835.320000000002, 90038.98000000005, 118648.18000000004, 865059.3399999974, 346953.0400000008, 55818.49999999997, 485.68000000000006, 174518.95999999985, 105182.55999999994, 7007270.57999999, 60005.36000000001, 43277.08000000001, 456035.5599999984, 279476.2200000003, 110869.20000000016, 9339.1, 29502.919999999984, 107033.3599999998, 334277.2999999999, 323277.1399999999, 263568.4000000008, 266554.9400000012, 313905.68000000063, 380035.2600000001, 26149.75999999998, 201320.84000000023, 360202.5199999993, 51481.95999999999, 168071.1999999998, 1482.1200000000001, 3024331.7599999886, 920074.6399999952, 73399.29999999994, 142278.3200000001, 21895.639999999996, 199436.46000000028, 198893.41999999993, 262458.29999999976, 169446.71999999936, 14672.799999999997, 422039.6199999998, 97208.4, 42209.30000000001, 18989.279999999988, 486334.9200000019, 14058.52, 13839.039999999995, 223126.1600000004, 289897.9600000005, 1637.2800000000002, 4430.360000000002, 38195.88000000001, 64951.11999999997, 36701.060000000005, 11663.600000000008, 53713.959999999955, 113316.27999999998, 85649.95999999996, 27476.500000000007, 130075.30000000018, 795.6800000000001, 86728.40000000004, 26420.90000000001, 62693.11999999992, 9602.079999999998, 104828.3200000002, 182004.0600000002, 197214.49999999994, 106618.97999999992, 190380.84000000017, 486875.29999999655, 1956855.1200000022, 2872365.6599999825, 107265.99999999997, 821.6999999999999, 33561.240000000005, 1211998.4400000067, 49145.93999999998, 103527.39999999982, 176196.2600000001, 6077393.820000004, 98202.90000000007, 1097891.5999999964, 23540.320000000014, 7856640.82, 158351.95999999988, 3201174.3399999896, 1190554.200000002, 458927.6399999973, 4955284.7999999905, 861973.1600000011, 960671.520000002, 167384.04000000047, 18000.12, 1984289.6400000039, 1616.1599999999999, 1879019.7199999948, 8734.739999999996, 42020.34000000002, 1163970.2600000058, 1233363.8399999973, 696487.7999999998, 219141.89999999976, 93025.64, 67651.19999999992, 247571.39999999964, 0.0, 1721903.3400000012, 439223.04000000074, 206946.0799999999, 158972.16000000012, -2.842170943040401e-14, 32727.83999999997, 9754.519999999993, 115010.79999999999, 235225.4200000003, 528814.2399999971, 2128.42, 288546.5600000003, 264811.1800000015, 117007.55999999997, 82250.0, 6378.48, 195547.46000000014, 3403699.8000000077, 2067933.159999992, 1053226.7599999988, 137983.11999999994, 2085570.1399999931, 1074198.8400000008, 136744.79999999993, 144571.1200000002, 0.0, 1907137.0599999947, 272327.3599999999, 3722770.339999993, 48099.25999999999, 563868.8800000016, 6531234.359999974, 72403.51999999993, 4154.0, 535532.9600000001, 1028649.9200000102, 7686517.7599999765, 37717.55999999993, 439888.63999999675, 622151.1399999988, 4952.900000000001, 5623359.920000001, 63000.0, 1005171.6400000006, 83201.07999999987, 191327.03999999986, 15548.099999999999, 215113.96000000028, 79925.59999999995, 152362.05999999997, 1304318.7000000025, 641059.3200000019, 1000546.6800000009, 493997.0999999981, 184703.75999999966, 874706.7600000035, 66415.0, 126276.64000000003, 59721.12000000004, 235689.8, 5118.340000000002, 3115.5, 155663.59999999992, 1115498.540000005, 172347.8000000002, 2268753.8600000106, 1582759.240000002, 332875.5799999988, 332020.8200000004, 1138863.739999997, 1249470.8400000005, 8303393.519999869, 5171572.620000021, 139640.53999999975, 82497.80000000003, 253529.76000000077, 247368.54, 4221684.099999998, 75900.59999999993, 252312.8999999999, 86175.73999999992, 1486936.660000003, 1309263.9200000037, 3795.3599999999988, 6027.800000000001, 123100.71999999988, 1124095.3399999992, 1389176.979999998, 118824.0200000002, 313095.1200000002, 484082.7799999985, 10981.399999999998, 16514.8, 174489.03999999978, 242310.88000000126, 1276031.499999999, 1427557.6800000037, 313080.1799999998, -122037.13999999981, 428181.7199999995, 293714.8600000007]}],\n",
              "                        {\"template\": {\"data\": {\"bar\": [{\"error_x\": {\"color\": \"#2a3f5f\"}, \"error_y\": {\"color\": \"#2a3f5f\"}, \"marker\": {\"line\": {\"color\": \"#E5ECF6\", \"width\": 0.5}}, \"type\": \"bar\"}], \"barpolar\": [{\"marker\": {\"line\": {\"color\": \"#E5ECF6\", \"width\": 0.5}}, \"type\": \"barpolar\"}], \"carpet\": [{\"aaxis\": {\"endlinecolor\": \"#2a3f5f\", \"gridcolor\": \"white\", \"linecolor\": \"white\", \"minorgridcolor\": \"white\", \"startlinecolor\": \"#2a3f5f\"}, \"baxis\": {\"endlinecolor\": \"#2a3f5f\", \"gridcolor\": \"white\", \"linecolor\": \"white\", \"minorgridcolor\": \"white\", \"startlinecolor\": \"#2a3f5f\"}, \"type\": \"carpet\"}], \"choropleth\": [{\"colorbar\": {\"outlinewidth\": 0, \"ticks\": \"\"}, \"type\": \"choropleth\"}], \"contour\": [{\"colorbar\": {\"outlinewidth\": 0, \"ticks\": \"\"}, \"colorscale\": [[0.0, \"#0d0887\"], [0.1111111111111111, \"#46039f\"], [0.2222222222222222, \"#7201a8\"], [0.3333333333333333, \"#9c179e\"], [0.4444444444444444, \"#bd3786\"], [0.5555555555555556, \"#d8576b\"], [0.6666666666666666, \"#ed7953\"], [0.7777777777777778, \"#fb9f3a\"], [0.8888888888888888, \"#fdca26\"], [1.0, \"#f0f921\"]], \"type\": \"contour\"}], \"contourcarpet\": [{\"colorbar\": {\"outlinewidth\": 0, \"ticks\": \"\"}, \"type\": \"contourcarpet\"}], \"heatmap\": [{\"colorbar\": {\"outlinewidth\": 0, \"ticks\": \"\"}, \"colorscale\": [[0.0, \"#0d0887\"], [0.1111111111111111, \"#46039f\"], [0.2222222222222222, \"#7201a8\"], [0.3333333333333333, \"#9c179e\"], [0.4444444444444444, \"#bd3786\"], [0.5555555555555556, \"#d8576b\"], [0.6666666666666666, \"#ed7953\"], [0.7777777777777778, \"#fb9f3a\"], [0.8888888888888888, \"#fdca26\"], [1.0, \"#f0f921\"]], \"type\": \"heatmap\"}], \"heatmapgl\": [{\"colorbar\": {\"outlinewidth\": 0, \"ticks\": \"\"}, \"colorscale\": [[0.0, \"#0d0887\"], [0.1111111111111111, \"#46039f\"], [0.2222222222222222, \"#7201a8\"], [0.3333333333333333, \"#9c179e\"], [0.4444444444444444, \"#bd3786\"], [0.5555555555555556, \"#d8576b\"], [0.6666666666666666, \"#ed7953\"], [0.7777777777777778, \"#fb9f3a\"], [0.8888888888888888, \"#fdca26\"], [1.0, \"#f0f921\"]], \"type\": \"heatmapgl\"}], \"histogram\": [{\"marker\": {\"colorbar\": {\"outlinewidth\": 0, \"ticks\": \"\"}}, \"type\": \"histogram\"}], \"histogram2d\": [{\"colorbar\": {\"outlinewidth\": 0, \"ticks\": \"\"}, \"colorscale\": [[0.0, \"#0d0887\"], [0.1111111111111111, \"#46039f\"], [0.2222222222222222, \"#7201a8\"], [0.3333333333333333, \"#9c179e\"], [0.4444444444444444, \"#bd3786\"], [0.5555555555555556, \"#d8576b\"], [0.6666666666666666, \"#ed7953\"], [0.7777777777777778, \"#fb9f3a\"], [0.8888888888888888, \"#fdca26\"], [1.0, \"#f0f921\"]], \"type\": \"histogram2d\"}], \"histogram2dcontour\": [{\"colorbar\": {\"outlinewidth\": 0, \"ticks\": \"\"}, \"colorscale\": [[0.0, \"#0d0887\"], [0.1111111111111111, \"#46039f\"], [0.2222222222222222, \"#7201a8\"], [0.3333333333333333, \"#9c179e\"], [0.4444444444444444, \"#bd3786\"], [0.5555555555555556, \"#d8576b\"], [0.6666666666666666, \"#ed7953\"], [0.7777777777777778, \"#fb9f3a\"], [0.8888888888888888, \"#fdca26\"], [1.0, \"#f0f921\"]], \"type\": \"histogram2dcontour\"}], \"mesh3d\": [{\"colorbar\": {\"outlinewidth\": 0, \"ticks\": \"\"}, \"type\": \"mesh3d\"}], \"parcoords\": [{\"line\": {\"colorbar\": {\"outlinewidth\": 0, \"ticks\": \"\"}}, \"type\": \"parcoords\"}], \"pie\": [{\"automargin\": true, \"type\": \"pie\"}], \"scatter\": [{\"marker\": {\"colorbar\": {\"outlinewidth\": 0, \"ticks\": \"\"}}, \"type\": \"scatter\"}], \"scatter3d\": [{\"line\": {\"colorbar\": {\"outlinewidth\": 0, \"ticks\": \"\"}}, \"marker\": {\"colorbar\": {\"outlinewidth\": 0, \"ticks\": \"\"}}, \"type\": \"scatter3d\"}], \"scattercarpet\": [{\"marker\": {\"colorbar\": {\"outlinewidth\": 0, \"ticks\": \"\"}}, \"type\": \"scattercarpet\"}], \"scattergeo\": [{\"marker\": {\"colorbar\": {\"outlinewidth\": 0, \"ticks\": \"\"}}, \"type\": \"scattergeo\"}], \"scattergl\": [{\"marker\": {\"colorbar\": {\"outlinewidth\": 0, \"ticks\": \"\"}}, \"type\": \"scattergl\"}], \"scattermapbox\": [{\"marker\": {\"colorbar\": {\"outlinewidth\": 0, \"ticks\": \"\"}}, \"type\": \"scattermapbox\"}], \"scatterpolar\": [{\"marker\": {\"colorbar\": {\"outlinewidth\": 0, \"ticks\": \"\"}}, \"type\": \"scatterpolar\"}], \"scatterpolargl\": [{\"marker\": {\"colorbar\": {\"outlinewidth\": 0, \"ticks\": \"\"}}, \"type\": \"scatterpolargl\"}], \"scatterternary\": [{\"marker\": {\"colorbar\": {\"outlinewidth\": 0, \"ticks\": \"\"}}, \"type\": \"scatterternary\"}], \"surface\": [{\"colorbar\": {\"outlinewidth\": 0, \"ticks\": \"\"}, \"colorscale\": [[0.0, \"#0d0887\"], [0.1111111111111111, \"#46039f\"], [0.2222222222222222, \"#7201a8\"], [0.3333333333333333, \"#9c179e\"], [0.4444444444444444, \"#bd3786\"], [0.5555555555555556, \"#d8576b\"], [0.6666666666666666, \"#ed7953\"], [0.7777777777777778, \"#fb9f3a\"], [0.8888888888888888, \"#fdca26\"], [1.0, \"#f0f921\"]], \"type\": \"surface\"}], \"table\": [{\"cells\": {\"fill\": {\"color\": \"#EBF0F8\"}, \"line\": {\"color\": \"white\"}}, \"header\": {\"fill\": {\"color\": \"#C8D4E3\"}, \"line\": {\"color\": \"white\"}}, \"type\": \"table\"}]}, \"layout\": {\"annotationdefaults\": {\"arrowcolor\": \"#2a3f5f\", \"arrowhead\": 0, \"arrowwidth\": 1}, \"coloraxis\": {\"colorbar\": {\"outlinewidth\": 0, \"ticks\": \"\"}}, \"colorscale\": {\"diverging\": [[0, \"#8e0152\"], [0.1, \"#c51b7d\"], [0.2, \"#de77ae\"], [0.3, \"#f1b6da\"], [0.4, \"#fde0ef\"], [0.5, \"#f7f7f7\"], [0.6, \"#e6f5d0\"], [0.7, \"#b8e186\"], [0.8, \"#7fbc41\"], [0.9, \"#4d9221\"], [1, \"#276419\"]], \"sequential\": [[0.0, \"#0d0887\"], [0.1111111111111111, \"#46039f\"], [0.2222222222222222, \"#7201a8\"], [0.3333333333333333, \"#9c179e\"], [0.4444444444444444, \"#bd3786\"], [0.5555555555555556, \"#d8576b\"], [0.6666666666666666, \"#ed7953\"], [0.7777777777777778, \"#fb9f3a\"], [0.8888888888888888, \"#fdca26\"], [1.0, \"#f0f921\"]], \"sequentialminus\": [[0.0, \"#0d0887\"], [0.1111111111111111, \"#46039f\"], [0.2222222222222222, \"#7201a8\"], [0.3333333333333333, \"#9c179e\"], [0.4444444444444444, \"#bd3786\"], [0.5555555555555556, \"#d8576b\"], [0.6666666666666666, \"#ed7953\"], [0.7777777777777778, \"#fb9f3a\"], [0.8888888888888888, \"#fdca26\"], [1.0, \"#f0f921\"]]}, \"colorway\": [\"#636efa\", \"#EF553B\", \"#00cc96\", \"#ab63fa\", \"#FFA15A\", \"#19d3f3\", \"#FF6692\", \"#B6E880\", \"#FF97FF\", \"#FECB52\"], \"font\": {\"color\": \"#2a3f5f\"}, \"geo\": {\"bgcolor\": \"white\", \"lakecolor\": \"white\", \"landcolor\": \"#E5ECF6\", \"showlakes\": true, \"showland\": true, \"subunitcolor\": \"white\"}, \"hoverlabel\": {\"align\": \"left\"}, \"hovermode\": \"closest\", \"mapbox\": {\"style\": \"light\"}, \"paper_bgcolor\": \"white\", \"plot_bgcolor\": \"#E5ECF6\", \"polar\": {\"angularaxis\": {\"gridcolor\": \"white\", \"linecolor\": \"white\", \"ticks\": \"\"}, \"bgcolor\": \"#E5ECF6\", \"radialaxis\": {\"gridcolor\": \"white\", \"linecolor\": \"white\", \"ticks\": \"\"}}, \"scene\": {\"xaxis\": {\"backgroundcolor\": \"#E5ECF6\", \"gridcolor\": \"white\", \"gridwidth\": 2, \"linecolor\": \"white\", \"showbackground\": true, \"ticks\": \"\", \"zerolinecolor\": \"white\"}, \"yaxis\": {\"backgroundcolor\": \"#E5ECF6\", \"gridcolor\": \"white\", \"gridwidth\": 2, \"linecolor\": \"white\", \"showbackground\": true, \"ticks\": \"\", \"zerolinecolor\": \"white\"}, \"zaxis\": {\"backgroundcolor\": \"#E5ECF6\", \"gridcolor\": \"white\", \"gridwidth\": 2, \"linecolor\": \"white\", \"showbackground\": true, \"ticks\": \"\", \"zerolinecolor\": \"white\"}}, \"shapedefaults\": {\"line\": {\"color\": \"#2a3f5f\"}}, \"ternary\": {\"aaxis\": {\"gridcolor\": \"white\", \"linecolor\": \"white\", \"ticks\": \"\"}, \"baxis\": {\"gridcolor\": \"white\", \"linecolor\": \"white\", \"ticks\": \"\"}, \"bgcolor\": \"#E5ECF6\", \"caxis\": {\"gridcolor\": \"white\", \"linecolor\": \"white\", \"ticks\": \"\"}}, \"title\": {\"x\": 0.05}, \"xaxis\": {\"automargin\": true, \"gridcolor\": \"white\", \"linecolor\": \"white\", \"ticks\": \"\", \"title\": {\"standoff\": 15}, \"zerolinecolor\": \"white\", \"zerolinewidth\": 2}, \"yaxis\": {\"automargin\": true, \"gridcolor\": \"white\", \"linecolor\": \"white\", \"ticks\": \"\", \"title\": {\"standoff\": 15}, \"zerolinecolor\": \"white\", \"zerolinewidth\": 2}}}, \"title\": {\"text\": \"The trend of NetlineOrderDollarPrice and NetOrderDollarPrice\"}, \"xaxis\": {\"title\": {\"text\": \"Date\"}}, \"yaxis\": {\"title\": {\"text\": \"NetLineOrderPrice and NetOrderDollarPrice\"}}},\n",
              "                        {\"responsive\": true}\n",
              "                    ).then(function(){\n",
              "                            \n",
              "var gd = document.getElementById('d7c56650-3fa0-4c03-9701-93fb7d79ccfd');\n",
              "var x = new MutationObserver(function (mutations, observer) {{\n",
              "        var display = window.getComputedStyle(gd).display;\n",
              "        if (!display || display === 'none') {{\n",
              "            console.log([gd, 'removed!']);\n",
              "            Plotly.purge(gd);\n",
              "            observer.disconnect();\n",
              "        }}\n",
              "}});\n",
              "\n",
              "// Listen for the removal of the full notebook cells\n",
              "var notebookContainer = gd.closest('#notebook-container');\n",
              "if (notebookContainer) {{\n",
              "    x.observe(notebookContainer, {childList: true});\n",
              "}}\n",
              "\n",
              "// Listen for the clearing of the current output cell\n",
              "var outputEl = gd.closest('.output');\n",
              "if (outputEl) {{\n",
              "    x.observe(outputEl, {childList: true});\n",
              "}}\n",
              "\n",
              "                        })\n",
              "                };\n",
              "                \n",
              "            </script>\n",
              "        </div>\n",
              "</body>\n",
              "</html>"
            ]
          },
          "metadata": {
            "tags": []
          }
        }
      ]
    },
    {
      "cell_type": "markdown",
      "metadata": {
        "id": "w2aJSUbuTlQ-"
      },
      "source": [
        "From the graph above we definitely can conclude that the IT Sales department has gained for profit from the orders rather than from the product line services."
      ]
    },
    {
      "cell_type": "markdown",
      "metadata": {
        "id": "wllxVJVGti0d"
      },
      "source": [
        "The rate of increment for both NetLineDollarPrice and NetOrderDollarPrice."
      ]
    },
    {
      "cell_type": "code",
      "metadata": {
        "colab": {
          "base_uri": "https://localhost:8080/"
        },
        "id": "EQBdbNcnti0f",
        "outputId": "7ebf7e8f-10f2-43eb-a18e-8e9a979e1232"
      },
      "source": [
        "datewise[\"NetLineDollarPrice Rate\"] =(datewise[\"NetLineDollarPrice\"])*100\n",
        "datewise[\"NetOrderDollarPrice Rate\"] = (datewise[\"NetOrderDollarPrice\"])*100\n",
        "\n",
        "print(\"The average NetLineDollarPrice Rate: \", datewise[\"NetLineDollarPrice Rate\"].mean())\n",
        "print(\"The average NetOrderDollarPrice Rate: \", datewise[\"NetOrderDollarPrice Rate\"].mean())"
      ],
      "execution_count": null,
      "outputs": [
        {
          "output_type": "stream",
          "text": [
            "The average NetLineDollarPrice Rate:  4298779.862068965\n",
            "The average NetOrderDollarPrice Rate:  66577325.99137922\n"
          ],
          "name": "stdout"
        }
      ]
    },
    {
      "cell_type": "code",
      "metadata": {
        "colab": {
          "base_uri": "https://localhost:8080/",
          "height": 458
        },
        "id": "To5zq_vvti0h",
        "outputId": "6a5ae3f6-133b-44ae-d2f4-9d54a172212b"
      },
      "source": [
        "plt.figure(figsize=(15,7))\n",
        "plt.plot(datewise.index,datewise[\"NetLineDollarPrice Rate\"], linewidth=4)\n",
        "plt.plot(datewise.index,datewise[\"NetOrderDollarPrice Rate\"], linewidth=4)\n",
        "plt.legend(['NetLineDollarPrice', 'NetOrderDollarPrice'])\n",
        "plt.title('NetLineDollarPrice and NetOrderDollarPrice Rate')\n",
        "plt.xlabel('Month')\n",
        "plt.ylabel('DollarPrice')\n",
        "plt.show()"
      ],
      "execution_count": null,
      "outputs": [
        {
          "output_type": "display_data",
          "data": {
            "image/png": "[encoded data removed]",
            "text/plain": [
              "<Figure size 1080x504 with 1 Axes>"
            ]
          },
          "metadata": {
            "tags": [],
            "needs_background": "light"
          }
        }
      ]
    },
    {
      "cell_type": "markdown",
      "metadata": {
        "id": "rW6sOaxLUNMy"
      },
      "source": [
        "From the graph above we can see that the rate of increment for NetOrderDollarPrice was on July 2018. "
      ]
    },
    {
      "cell_type": "markdown",
      "metadata": {
        "id": "YUBm8n7Bti0j"
      },
      "source": [
        "#### iii. Categorical Variable Distribution"
      ]
    },
    {
      "cell_type": "code",
      "metadata": {
        "id": "5YLBPnSTti0l"
      },
      "source": [
        "Top_6Confirmed = sales.sort_values([\"OrderedQuantity\"], ascending=False).head(30)\n",
        "CompaniesNames = sales[\"ShipToAddr2\"]"
      ],
      "execution_count": null,
      "outputs": []
    },
    {
      "cell_type": "code",
      "metadata": {
        "colab": {
          "base_uri": "https://localhost:8080/",
          "height": 1000
        },
        "id": "zSziZ5zbti0m",
        "outputId": "e2a0462d-76d8-4027-a0ac-9b5429a898db"
      },
      "source": [
        "#Horizontal bar\n",
        "fig, (ax1, ax2, ax3) = plt.subplots(3, 1,figsize=(10,20))\n",
        "sns.barplot(x=Top_6Confirmed[\"OrderedQuantity\"],y=Top_6Confirmed[\"ShipToAddr2\"],ax=ax1)\n",
        "ax1.set_title(\"Top 6 Companies with the Highest Order\")\n",
        "sns.barplot(x=Top_6Confirmed[\"OrderedQuantity\"],y=Top_6Confirmed[\"ProductNumber\"],ax=ax2)\n",
        "ax2.set_title(\"Top 6 Product with the Highest Order\")\n",
        "sns.barplot(x=Top_6Confirmed[\"OrderedQuantity\"],y=Top_6Confirmed[\"WebOrderNo\"],ax=ax3)\n",
        "ax3.set_title(\"Top 4 online purchase product\")"
      ],
      "execution_count": null,
      "outputs": [
        {
          "output_type": "execute_result",
          "data": {
            "text/plain": [
              "Text(0.5, 1.0, 'Top 4 online purchase product')"
            ]
          },
          "metadata": {
            "tags": []
          },
          "execution_count": 104
        },
        {
          "output_type": "display_data",
          "data": {
            "image/png": "[encoded data removed]",
            "text/plain": [
              "<Figure size 720x1440 with 3 Axes>"
            ]
          },
          "metadata": {
            "tags": [],
            "needs_background": "light"
          }
        }
      ]
    },
    {
      "cell_type": "markdown",
      "metadata": {
        "id": "IjhKkFUAUsvG"
      },
      "source": [
        "From the horizontal Bar Chart above, we can observe that:\n",
        "\n",
        "\n",
        "\n",
        "*   The top 6 Companies with the highest order throughout the record are Keller (M) Sdn Bhd, Talent Corporation Malaysia Berhad, Micro Modular System Sdn Bhd, Top Range Holding Sdn bhd, UPA PRESS Sdn Bhd and Bumeria Cemerlang Freight Sdn Bhd.\n",
        "\n",
        "*   The top 6 products with the highest number of purchases are V1546AA, X7B11AA, X7B05AA, X7B04AA, U3314E and J6N88AA.\n",
        "\n",
        "*   Top 4 Online Purchase Product made are SCP0778163, SCPo760760435, SCP0811387 and SCPO778158.\n",
        "\n"
      ]
    },
    {
      "cell_type": "markdown",
      "metadata": {
        "id": "PRXkFHioeoMu"
      },
      "source": [
        "#### iv. Hypothesis Testing"
      ]
    },
    {
      "cell_type": "markdown",
      "metadata": {
        "id": "sUVG5TweeyWt"
      },
      "source": [
        "From the dataset obtained, can we say that the net profit from orders are decreased in 2019?\n",
        "\n",
        "We will create a null hypothesis and alternative hypothesis and determine whether to reject or accept the null hypothesis according to the p-value.\n",
        "\n",
        "\n",
        "\n",
        "---\n",
        "\n",
        "\n",
        "\n",
        "*   Null Hypothesis, Ho = The net profit from the orders are decreased in 2019.\n",
        "*   Alternative Hypothesis, Ha = The net profit from the orders are increased in 2019.\n",
        "\n"
      ]
    },
    {
      "cell_type": "code",
      "metadata": {
        "colab": {
          "base_uri": "https://localhost:8080/",
          "height": 455
        },
        "id": "t9g56cgLfm6d",
        "outputId": "529e647b-0ef8-40da-de53-96fe99c58edf"
      },
      "source": [
        "NetOrder  = sales.groupby([\"PurchaseOrderDate\"]).agg({\"NetLineDollarPrice\":'sum'})\n",
        "NetOrder"
      ],
      "execution_count": null,
      "outputs": [
        {
          "output_type": "execute_result",
          "data": {
            "text/html": [
              "<div>\n",
              "<style scoped>\n",
              "    .dataframe tbody tr th:only-of-type {\n",
              "        vertical-align: middle;\n",
              "    }\n",
              "\n",
              "    .dataframe tbody tr th {\n",
              "        vertical-align: top;\n",
              "    }\n",
              "\n",
              "    .dataframe thead th {\n",
              "        text-align: right;\n",
              "    }\n",
              "</style>\n",
              "<table border=\"1\" class=\"dataframe\">\n",
              "  <thead>\n",
              "    <tr style=\"text-align: right;\">\n",
              "      <th></th>\n",
              "      <th>NetLineDollarPrice</th>\n",
              "    </tr>\n",
              "    <tr>\n",
              "      <th>PurchaseOrderDate</th>\n",
              "      <th></th>\n",
              "    </tr>\n",
              "  </thead>\n",
              "  <tbody>\n",
              "    <tr>\n",
              "      <th>2017-01-11</th>\n",
              "      <td>17269.02</td>\n",
              "    </tr>\n",
              "    <tr>\n",
              "      <th>2017-02-05</th>\n",
              "      <td>399351.66</td>\n",
              "    </tr>\n",
              "    <tr>\n",
              "      <th>2017-02-06</th>\n",
              "      <td>20275.82</td>\n",
              "    </tr>\n",
              "    <tr>\n",
              "      <th>2017-02-11</th>\n",
              "      <td>59290.18</td>\n",
              "    </tr>\n",
              "    <tr>\n",
              "      <th>2017-03-05</th>\n",
              "      <td>4526.70</td>\n",
              "    </tr>\n",
              "    <tr>\n",
              "      <th>...</th>\n",
              "      <td>...</td>\n",
              "    </tr>\n",
              "    <tr>\n",
              "      <th>2018-12-01</th>\n",
              "      <td>86156.30</td>\n",
              "    </tr>\n",
              "    <tr>\n",
              "      <th>2018-12-02</th>\n",
              "      <td>8819.16</td>\n",
              "    </tr>\n",
              "    <tr>\n",
              "      <th>2018-12-03</th>\n",
              "      <td>-5180.30</td>\n",
              "    </tr>\n",
              "    <tr>\n",
              "      <th>2018-12-04</th>\n",
              "      <td>16148.92</td>\n",
              "    </tr>\n",
              "    <tr>\n",
              "      <th>2018-12-06</th>\n",
              "      <td>27661.16</td>\n",
              "    </tr>\n",
              "  </tbody>\n",
              "</table>\n",
              "<p>232 rows × 1 columns</p>\n",
              "</div>"
            ],
            "text/plain": [
              "                   NetLineDollarPrice\n",
              "PurchaseOrderDate                    \n",
              "2017-01-11                   17269.02\n",
              "2017-02-05                  399351.66\n",
              "2017-02-06                   20275.82\n",
              "2017-02-11                   59290.18\n",
              "2017-03-05                    4526.70\n",
              "...                               ...\n",
              "2018-12-01                   86156.30\n",
              "2018-12-02                    8819.16\n",
              "2018-12-03                   -5180.30\n",
              "2018-12-04                   16148.92\n",
              "2018-12-06                   27661.16\n",
              "\n",
              "[232 rows x 1 columns]"
            ]
          },
          "metadata": {
            "tags": []
          },
          "execution_count": 120
        }
      ]
    },
    {
      "cell_type": "code",
      "metadata": {
        "colab": {
          "base_uri": "https://localhost:8080/"
        },
        "id": "PZqB-8jAibBK",
        "outputId": "36bce203-1200-4c9b-8076-746820ffbdc3"
      },
      "source": [
        "NetOrder['NetLineDollarPrice'].mean()"
      ],
      "execution_count": 127,
      "outputs": [
        {
          "output_type": "execute_result",
          "data": {
            "text/plain": [
              "42987.79862068966"
            ]
          },
          "metadata": {
            "tags": []
          },
          "execution_count": 127
        }
      ]
    },
    {
      "cell_type": "markdown",
      "metadata": {
        "id": "l24aO29YnYva"
      },
      "source": [
        "In this case the mean is known."
      ]
    },
    {
      "cell_type": "code",
      "metadata": {
        "colab": {
          "base_uri": "https://localhost:8080/"
        },
        "id": "lziacX6poFrP",
        "outputId": "2b65169f-39a4-4a89-b766-451ed86eb0f3"
      },
      "source": [
        "import statistics\n",
        "\n",
        "statistics.stdev(NetOrder['NetLineDollarPrice'])"
      ],
      "execution_count": 131,
      "outputs": [
        {
          "output_type": "execute_result",
          "data": {
            "text/plain": [
              "67565.38247864606"
            ]
          },
          "metadata": {
            "tags": []
          },
          "execution_count": 131
        }
      ]
    },
    {
      "cell_type": "code",
      "metadata": {
        "id": "UrJvze9xghvl",
        "colab": {
          "base_uri": "https://localhost:8080/"
        },
        "outputId": "a5ffc818-2685-475f-c0d6-0c5a05cceba5"
      },
      "source": [
        "sample_data = NetOrder.NetLineDollarPrice\n",
        "sample_data[:5]"
      ],
      "execution_count": null,
      "outputs": [
        {
          "output_type": "execute_result",
          "data": {
            "text/plain": [
              "PurchaseOrderDate\n",
              "2017-01-11     17269.02\n",
              "2017-02-05    399351.66\n",
              "2017-02-06     20275.82\n",
              "2017-02-11     59290.18\n",
              "2017-03-05      4526.70\n",
              "Name: NetLineDollarPrice, dtype: float64"
            ]
          },
          "metadata": {
            "tags": []
          },
          "execution_count": 121
        }
      ]
    },
    {
      "cell_type": "code",
      "metadata": {
        "colab": {
          "base_uri": "https://localhost:8080/"
        },
        "id": "x318RNCBma0r",
        "outputId": "dbc581bc-02ed-4fb3-be82-a433b59d86ae"
      },
      "source": [
        "sample_data.shape"
      ],
      "execution_count": 130,
      "outputs": [
        {
          "output_type": "execute_result",
          "data": {
            "text/plain": [
              "(232,)"
            ]
          },
          "metadata": {
            "tags": []
          },
          "execution_count": 130
        }
      ]
    },
    {
      "cell_type": "code",
      "metadata": {
        "id": "ToNJ-4hegtXV",
        "colab": {
          "base_uri": "https://localhost:8080/"
        },
        "outputId": "1a94b629-ba7f-4481-d08d-a37d5569876f"
      },
      "source": [
        "from scipy.stats import norm \n",
        "# H0: mu = 42987\n",
        "# Ha: mu < 42987\n",
        "\n",
        "mu_0 = 42987\n",
        "x_bar = 59378\n",
        "n = 232\n",
        "sigma = 67565\n",
        "p_value =  norm.cdf(x_bar, mu_0, sigma)\n",
        "\n",
        "alpha = .05\n",
        "\n",
        "\n",
        "mu_0=42987\n",
        "x_bar = np.mean(sample_data)\n",
        "print('x_bar = ', x_bar)\n",
        "s = np.std(sample_data, ddof=1)\n",
        "print('s = ', s)\n",
        "n = len(sample_data)\n",
        "print('n = ', n)\n",
        "t_score = (x_bar - mu_0)/(s/(n**.5))\n",
        "print('t_score = ', t_score)\n",
        "p_value = t.cdf(t_score, df = n-1)\n",
        "print('p_value = ', p_value)\n",
        "if p_value < alpha: \n",
        "    print(\"\\np_value = {}, Reject the null hypothesis in favour of the alternative that the mean\\\n",
        "    of net profit for orders increased in 2019 comparing that in 2018 and 2017.\".format(round(p_value, 3)))\n",
        "else: \n",
        "    print(\"\\np_value = {}, CANNOT Reject the null hypothesis. Therefore, there is not strong enough evidence that the net of profit for orders is higher in 2019 comparing that in 2017 and 2018.\".format(round(p_value, 3)))\n"
      ],
      "execution_count": 137,
      "outputs": [
        {
          "output_type": "stream",
          "text": [
            "x_bar =  42987.79862068966\n",
            "s =  67565.38247864608\n",
            "n =  232\n",
            "t_score =  0.00018003639576890496\n",
            "p_value =  0.5000717464404413\n",
            "\n",
            "p_value = 0.5, CANNOT Reject the null hypothesis. Therefore, there is not strong enough evidence that the net of profit for orders is higher in 2019 comparing that in 2017 and 2018.\n"
          ],
          "name": "stdout"
        }
      ]
    },
    {
      "cell_type": "markdown",
      "metadata": {
        "id": "Ur3B6u4souwf"
      },
      "source": [
        "- When the p-value is <0.05, we can reject the null hypothesis.\n",
        "- When the p-value is >0.05, we cannot reject the null hypothesis.\n",
        "\n",
        "Thus, there is a probability that the net of profits for Order could decrease in 2019."
      ]
    },
    {
      "cell_type": "markdown",
      "metadata": {
        "id": "KFKCjh0-ti0o"
      },
      "source": [
        "## 6. Modelling : Supervised Learning"
      ]
    },
    {
      "cell_type": "markdown",
      "metadata": {
        "id": "AS455wZ-ti0p"
      },
      "source": [
        "#### 6.1 Time Series: ARIMA Model"
      ]
    },
    {
      "cell_type": "markdown",
      "metadata": {
        "id": "7IV5MiY32pA1"
      },
      "source": [
        "ARIMA is an acronym that stands for AutoRegressive Integrated Moving Average. It is a class of model that captures a suite of different standard temporal structures in time series data."
      ]
    },
    {
      "cell_type": "code",
      "metadata": {
        "id": "MZhcuzYQti0p",
        "colab": {
          "base_uri": "https://localhost:8080/"
        },
        "outputId": "6e5b6d24-1557-4a3e-aa0d-207bd2e8aa12"
      },
      "source": [
        "# Regression for NetLineDollarPrice\n",
        "datewise[['NetOrderDollarPrice']].shape\n"
      ],
      "execution_count": null,
      "outputs": [
        {
          "output_type": "execute_result",
          "data": {
            "text/plain": [
              "(232, 1)"
            ]
          },
          "metadata": {
            "tags": []
          },
          "execution_count": 109
        }
      ]
    },
    {
      "cell_type": "code",
      "metadata": {
        "id": "2-q866w4ti0r"
      },
      "source": [
        "# split the dataset into train and test data\n",
        "train=datewise.iloc[:int(datewise.shape[0]*0.95)]\n",
        "valid=datewise.iloc[int(datewise.shape[0]*0.95):]\n",
        "y_pred=valid.copy()"
      ],
      "execution_count": null,
      "outputs": []
    },
    {
      "cell_type": "code",
      "metadata": {
        "colab": {
          "base_uri": "https://localhost:8080/"
        },
        "id": "PFQhlH-EvUUE",
        "outputId": "6c5f8d10-7c30-4221-bcfd-dc18101c9a36"
      },
      "source": [
        "!pip3 install pyramid-arima"
      ],
      "execution_count": null,
      "outputs": [
        {
          "output_type": "stream",
          "text": [
            "Requirement already satisfied: pyramid-arima in /usr/local/lib/python3.6/dist-packages (0.9.0)\n",
            "Requirement already satisfied: numpy>=1.10 in /usr/local/lib/python3.6/dist-packages (from pyramid-arima) (1.19.4)\n",
            "Requirement already satisfied: Cython>=0.23 in /usr/local/lib/python3.6/dist-packages (from pyramid-arima) (0.29.21)\n",
            "Requirement already satisfied: scikit-learn>=0.17 in /usr/local/lib/python3.6/dist-packages (from pyramid-arima) (0.22.2.post1)\n",
            "Requirement already satisfied: scipy>=0.9 in /usr/local/lib/python3.6/dist-packages (from pyramid-arima) (1.4.1)\n",
            "Requirement already satisfied: statsmodels>=0.9.0 in /usr/local/lib/python3.6/dist-packages (from pyramid-arima) (0.11.1)\n",
            "Requirement already satisfied: pandas>=0.19 in /usr/local/lib/python3.6/dist-packages (from pyramid-arima) (1.1.5)\n",
            "Requirement already satisfied: joblib>=0.11 in /usr/local/lib/python3.6/dist-packages (from scikit-learn>=0.17->pyramid-arima) (1.0.0)\n",
            "Requirement already satisfied: patsy>=0.5 in /usr/local/lib/python3.6/dist-packages (from statsmodels>=0.9.0->pyramid-arima) (0.5.1)\n",
            "Requirement already satisfied: pytz>=2017.2 in /usr/local/lib/python3.6/dist-packages (from pandas>=0.19->pyramid-arima) (2018.9)\n",
            "Requirement already satisfied: python-dateutil>=2.7.3 in /usr/local/lib/python3.6/dist-packages (from pandas>=0.19->pyramid-arima) (2.8.1)\n",
            "Requirement already satisfied: six in /usr/local/lib/python3.6/dist-packages (from patsy>=0.5->statsmodels>=0.9.0->pyramid-arima) (1.15.0)\n"
          ],
          "name": "stdout"
        }
      ]
    },
    {
      "cell_type": "code",
      "metadata": {
        "colab": {
          "base_uri": "https://localhost:8080/"
        },
        "id": "uapf_7g0bMSS",
        "outputId": "50a28e48-3dbc-430e-e1f2-713502e78d4f"
      },
      "source": [
        "from pyramid.arima import auto_arima\n",
        "model_arima= auto_arima(train[\"NetLineDollarPrice\"],trace=True, error_action='ignore', start_p=1,start_q=1,max_p=3,max_q=3,\n",
        "                   suppress_warnings=True,stepwise=False,seasonal=False)\n",
        "model_arima.fit(train[\"NetLineDollarPrice\"])"
      ],
      "execution_count": null,
      "outputs": [
        {
          "output_type": "stream",
          "text": [
            "Fit ARIMA: order=(1, 0, 1); AIC=5531.574, BIC=5545.148, Fit time=0.087 seconds\n",
            "Fit ARIMA: order=(1, 0, 2); AIC=5531.741, BIC=5548.709, Fit time=0.163 seconds\n",
            "Fit ARIMA: order=(1, 0, 3); AIC=5537.281, BIC=5557.642, Fit time=0.553 seconds\n",
            "Fit ARIMA: order=(2, 0, 1); AIC=5531.997, BIC=5548.966, Fit time=0.152 seconds\n",
            "Fit ARIMA: order=(2, 0, 2); AIC=5535.124, BIC=5555.486, Fit time=0.481 seconds\n",
            "Fit ARIMA: order=(2, 0, 3); AIC=5530.519, BIC=5554.275, Fit time=0.632 seconds\n",
            "Fit ARIMA: order=(3, 0, 1); AIC=5533.495, BIC=5553.857, Fit time=0.201 seconds\n",
            "Fit ARIMA: order=(3, 0, 2); AIC=5530.324, BIC=5554.080, Fit time=0.328 seconds\n",
            "Fit ARIMA: order=(3, 0, 3); AIC=5531.940, BIC=5559.089, Fit time=0.665 seconds\n",
            "Total fit time: 3.268 seconds\n"
          ],
          "name": "stdout"
        },
        {
          "output_type": "execute_result",
          "data": {
            "text/plain": [
              "ARIMA(callback=None, disp=0, maxiter=50, method=None, order=(3, 0, 2),\n",
              "      out_of_sample_size=0, scoring='mse', scoring_args={}, seasonal_order=None,\n",
              "      solver='lbfgs', start_params=None, suppress_warnings=True,\n",
              "      transparams=True, trend='c')"
            ]
          },
          "metadata": {
            "tags": []
          },
          "execution_count": 115
        }
      ]
    },
    {
      "cell_type": "code",
      "metadata": {
        "id": "gBucjq3Mti0s"
      },
      "source": [
        "\n",
        "prediction_arima=model_arima.predict(len(valid))\n",
        "y_pred[\"ARIMA Model Prediction\"]=prediction_arima"
      ],
      "execution_count": null,
      "outputs": []
    },
    {
      "cell_type": "code",
      "metadata": {
        "colab": {
          "base_uri": "https://localhost:8080/",
          "height": 542
        },
        "id": "_Km1cgWcti0t",
        "outputId": "7f73e9ca-56f9-498f-db79-2549ddeaa77b"
      },
      "source": [
        "# visualization on the Train Data, validation Data and Prediction.\n",
        "\n",
        "fig=go.Figure()\n",
        "fig.add_trace(go.Scatter(x=train.index, y=train[\"NetLineDollarPrice\"],\n",
        "                    mode='lines+markers',name=\"Train Data for NetLineDollarPrice\"))\n",
        "fig.add_trace(go.Scatter(x=valid.index, y=valid[\"NetLineDollarPrice\"],\n",
        "                    mode='lines+markers',name=\"Validation Data for NetLineDollarPrice\",))\n",
        "fig.add_trace(go.Scatter(x=valid.index, y=y_pred[\"ARIMA Model Prediction\"],\n",
        "                    mode='lines+markers',name=\"Prediction for NetLineDollarPrice\",))\n",
        "fig.update_layout(title=\"NetLineDollarPrice ARIMA Model Prediction\",\n",
        "                 xaxis_title=\"Date\",yaxis_title=\"NetLineDollarPrice\",legend=dict(x=0,y=1,traceorder=\"normal\"))\n",
        "fig.show()"
      ],
      "execution_count": null,
      "outputs": [
        {
          "output_type": "display_data",
          "data": {
            "text/html": [
              "<html>\n",
              "<head><meta charset=\"utf-8\" /></head>\n",
              "<body>\n",
              "    <div>\n",
              "            <script src=\"https://cdnjs.cloudflare.com/ajax/libs/mathjax/2.7.5/MathJax.js?config=TeX-AMS-MML_SVG\"></script><script type=\"text/javascript\">if (window.MathJax) {MathJax.Hub.Config({SVG: {font: \"STIX-Web\"}});}</script>\n",
              "                <script type=\"text/javascript\">window.PlotlyConfig = {MathJaxConfig: 'local'};</script>\n",
              "        <script src=\"https://cdn.plot.ly/plotly-latest.min.js\"></script>    \n",
              "            <div id=\"469cd067-59d8-4706-93ad-aa3fc352bcd8\" class=\"plotly-graph-div\" style=\"height:525px; width:100%;\"></div>\n",
              "            <script type=\"text/javascript\">\n",
              "                \n",
              "                    window.PLOTLYENV=window.PLOTLYENV || {};\n",
              "                    \n",
              "                if (document.getElementById(\"469cd067-59d8-4706-93ad-aa3fc352bcd8\")) {\n",
              "                    Plotly.newPlot(\n",
              "                        '469cd067-59d8-4706-93ad-aa3fc352bcd8',\n",
              "                        [{\"mode\": \"lines+markers\", \"name\": \"Train Data for NetLineDollarPrice\", \"type\": \"scatter\", \"x\": [\"2017-01-11T00:00:00\", \"2017-02-05T00:00:00\", \"2017-02-06T00:00:00\", \"2017-02-11T00:00:00\", \"2017-03-05T00:00:00\", \"2017-03-07T00:00:00\", \"2017-03-10T00:00:00\", \"2017-04-05T00:00:00\", \"2017-04-07T00:00:00\", \"2017-04-12T00:00:00\", \"2017-04-13T00:00:00\", \"2017-04-17T00:00:00\", \"2017-04-18T00:00:00\", \"2017-04-19T00:00:00\", \"2017-04-24T00:00:00\", \"2017-04-25T00:00:00\", \"2017-04-26T00:00:00\", \"2017-04-27T00:00:00\", \"2017-04-28T00:00:00\", \"2017-05-05T00:00:00\", \"2017-05-06T00:00:00\", \"2017-05-12T00:00:00\", \"2017-05-15T00:00:00\", \"2017-05-16T00:00:00\", \"2017-05-17T00:00:00\", \"2017-05-18T00:00:00\", \"2017-05-19T00:00:00\", \"2017-05-22T00:00:00\", \"2017-05-23T00:00:00\", \"2017-05-24T00:00:00\", \"2017-05-25T00:00:00\", \"2017-05-26T00:00:00\", \"2017-05-29T00:00:00\", \"2017-05-30T00:00:00\", \"2017-05-31T00:00:00\", \"2017-06-04T00:00:00\", \"2017-06-07T00:00:00\", \"2017-06-11T00:00:00\", \"2017-06-12T00:00:00\", \"2017-06-13T00:00:00\", \"2017-06-14T00:00:00\", \"2017-06-15T00:00:00\", \"2017-06-16T00:00:00\", \"2017-06-19T00:00:00\", \"2017-06-20T00:00:00\", \"2017-06-21T00:00:00\", \"2017-06-22T00:00:00\", \"2017-06-23T00:00:00\", \"2017-06-27T00:00:00\", \"2017-06-28T00:00:00\", \"2017-06-30T00:00:00\", \"2017-07-06T00:00:00\", \"2017-07-07T00:00:00\", \"2017-07-08T00:00:00\", \"2017-07-11T00:00:00\", \"2017-07-12T00:00:00\", \"2017-07-14T00:00:00\", \"2017-07-18T00:00:00\", \"2017-07-19T00:00:00\", \"2017-07-21T00:00:00\", \"2017-07-24T00:00:00\", \"2017-07-25T00:00:00\", \"2017-07-26T00:00:00\", \"2017-07-27T00:00:00\", \"2017-08-05T00:00:00\", \"2017-08-06T00:00:00\", \"2017-08-11T00:00:00\", \"2017-08-12T00:00:00\", \"2017-08-22T00:00:00\", \"2017-08-23T00:00:00\", \"2017-09-05T00:00:00\", \"2017-09-06T00:00:00\", \"2017-09-11T00:00:00\", \"2017-09-15T00:00:00\", \"2017-09-19T00:00:00\", \"2017-09-20T00:00:00\", \"2017-09-22T00:00:00\", \"2017-09-25T00:00:00\", \"2017-09-29T00:00:00\", \"2017-10-04T00:00:00\", \"2017-10-07T00:00:00\", \"2017-10-10T00:00:00\", \"2017-10-11T00:00:00\", \"2017-10-13T00:00:00\", \"2017-10-17T00:00:00\", \"2017-10-23T00:00:00\", \"2017-10-24T00:00:00\", \"2017-11-05T00:00:00\", \"2017-11-07T00:00:00\", \"2017-11-12T00:00:00\", \"2017-11-13T00:00:00\", \"2017-11-14T00:00:00\", \"2017-11-15T00:00:00\", \"2017-11-16T00:00:00\", \"2017-11-17T00:00:00\", \"2017-11-20T00:00:00\", \"2017-11-21T00:00:00\", \"2017-11-22T00:00:00\", \"2017-11-23T00:00:00\", \"2017-11-24T00:00:00\", \"2017-11-27T00:00:00\", \"2017-11-30T00:00:00\", \"2017-12-04T00:00:00\", \"2017-12-05T00:00:00\", \"2017-12-06T00:00:00\", \"2017-12-07T00:00:00\", \"2017-12-12T00:00:00\", \"2017-12-13T00:00:00\", \"2017-12-14T00:00:00\", \"2017-12-15T00:00:00\", \"2017-12-18T00:00:00\", \"2017-12-19T00:00:00\", \"2017-12-20T00:00:00\", \"2017-12-21T00:00:00\", \"2017-12-22T00:00:00\", \"2017-12-27T00:00:00\", \"2017-12-28T00:00:00\", \"2018-01-03T00:00:00\", \"2018-01-15T00:00:00\", \"2018-01-16T00:00:00\", \"2018-01-17T00:00:00\", \"2018-01-18T00:00:00\", \"2018-01-19T00:00:00\", \"2018-01-22T00:00:00\", \"2018-01-25T00:00:00\", \"2018-01-26T00:00:00\", \"2018-01-29T00:00:00\", \"2018-01-30T00:00:00\", \"2018-02-01T00:00:00\", \"2018-02-02T00:00:00\", \"2018-02-03T00:00:00\", \"2018-02-04T00:00:00\", \"2018-02-05T00:00:00\", \"2018-02-07T00:00:00\", \"2018-02-14T00:00:00\", \"2018-02-23T00:00:00\", \"2018-02-26T00:00:00\", \"2018-02-27T00:00:00\", \"2018-02-28T00:00:00\", \"2018-03-01T00:00:00\", \"2018-03-04T00:00:00\", \"2018-03-05T00:00:00\", \"2018-03-07T00:00:00\", \"2018-03-13T00:00:00\", \"2018-03-14T00:00:00\", \"2018-03-15T00:00:00\", \"2018-03-16T00:00:00\", \"2018-03-19T00:00:00\", \"2018-03-20T00:00:00\", \"2018-03-21T00:00:00\", \"2018-03-22T00:00:00\", \"2018-03-23T00:00:00\", \"2018-03-26T00:00:00\", \"2018-03-27T00:00:00\", \"2018-03-28T00:00:00\", \"2018-03-29T00:00:00\", \"2018-03-30T00:00:00\", \"2018-04-01T00:00:00\", \"2018-04-04T00:00:00\", \"2018-04-05T00:00:00\", \"2018-04-06T00:00:00\", \"2018-04-07T00:00:00\", \"2018-04-13T00:00:00\", \"2018-04-16T00:00:00\", \"2018-04-17T00:00:00\", \"2018-04-18T00:00:00\", \"2018-04-19T00:00:00\", \"2018-04-20T00:00:00\", \"2018-04-23T00:00:00\", \"2018-04-24T00:00:00\", \"2018-04-25T00:00:00\", \"2018-04-26T00:00:00\", \"2018-04-27T00:00:00\", \"2018-04-30T00:00:00\", \"2018-05-01T00:00:00\", \"2018-05-02T00:00:00\", \"2018-05-03T00:00:00\", \"2018-05-04T00:00:00\", \"2018-05-06T00:00:00\", \"2018-05-07T00:00:00\", \"2018-05-14T00:00:00\", \"2018-05-15T00:00:00\", \"2018-05-16T00:00:00\", \"2018-05-17T00:00:00\", \"2018-05-18T00:00:00\", \"2018-05-21T00:00:00\", \"2018-05-22T00:00:00\", \"2018-05-23T00:00:00\", \"2018-05-24T00:00:00\", \"2018-05-25T00:00:00\", \"2018-05-28T00:00:00\", \"2018-05-30T00:00:00\", \"2018-05-31T00:00:00\", \"2018-06-02T00:00:00\", \"2018-06-03T00:00:00\", \"2018-06-04T00:00:00\", \"2018-06-06T00:00:00\", \"2018-06-13T00:00:00\", \"2018-06-14T00:00:00\", \"2018-06-18T00:00:00\", \"2018-06-19T00:00:00\", \"2018-06-20T00:00:00\", \"2018-06-21T00:00:00\", \"2018-06-22T00:00:00\", \"2018-06-25T00:00:00\", \"2018-06-26T00:00:00\", \"2018-06-27T00:00:00\", \"2018-06-28T00:00:00\", \"2018-06-29T00:00:00\", \"2018-07-02T00:00:00\", \"2018-07-03T00:00:00\", \"2018-07-05T00:00:00\", \"2018-07-06T00:00:00\", \"2018-08-01T00:00:00\", \"2018-08-02T00:00:00\", \"2018-08-03T00:00:00\", \"2018-08-05T00:00:00\", \"2018-08-06T00:00:00\", \"2018-09-01T00:00:00\", \"2018-09-02T00:00:00\"], \"y\": [17269.02, 399351.6599999998, 20275.820000000003, 59290.18000000009, 4526.7, 22359.37999999999, 3237.6000000000004, 401716.57999999984, 18003.439999999995, 24311.400000000016, 6581.719999999993, 70.38000000000001, 1024.1999999999998, 3041.1600000000003, 8910.24, 18926.240000000005, 19495.300000000007, 18471.519999999997, 12885.600000000002, 1536.6399999999999, 17411.200000000008, 12261.03999999999, 29345.919999999984, 1357.919999999999, 7680.5199999999995, 29952.139999999974, 30915.120000000028, 53268.13999999988, 35195.84000000001, 20807.179999999993, 5.684341886080802e-14, 15444.179999999997, 30057.780000000024, 228565.61999999994, 25795.3, 12320.740000000003, 134090.81999999992, 17658.62000000001, 4820.4, 5603.46, 11616.54, 43880.419999999984, 103403.94000000005, 103005.18000000025, 86352.74000000009, 98612.19999999991, 32379.439999999977, 61960.159999999916, 9339.199999999999, 68056.95999999995, 33771.45999999998, 13974.02, 17511.4, 988.08, 118161.22, 48621.239999999976, 22151.300000000003, 51112.39999999997, 8238.880000000001, 22913.439999999988, 40123.4, 53438.76000000001, 5052.279999999996, 7336.4000000000015, 26202.160000000007, 35944.45999999999, 2411.96, 5204.0199999999995, 20347.579999999998, 7986.520000000001, 6122.879999999999, 9390.279999999997, 66778.57999999997, 818.64, 905.8000000000001, 13213.480000000001, 15382.840000000006, 13345.839999999998, 6544.200000000003, 20731.75999999999, 35329.59999999999, 30164.140000000007, 11941.82, 5019.679999999998, 397.84, 17295.619999999995, 9607.6, 22697.37999999999, 4801.04, 5517.28, 59692.61999999998, 8056.1, 8416.400000000001, 67011.97999999994, 20369.82000000001, 159080.38000000006, 129756.7000000002, 12858.239999999996, 493.02000000000004, 9365.320000000002, 69312.45999999998, 16870.52, 9567.359999999997, 55507.34000000003, 173722.47999999998, 22183.43999999999, 36743.5, 11551.16, 486730.02000000025, 6942.779999999999, 163291.72000000006, 73163.04000000004, 23862.379999999994, 327740.52, 76095.94000000009, 40991.76000000001, 9381.299999999997, 12000.08, 93126.55999999998, 905.0799999999999, 91721.03999999995, 3149.3999999999996, 23685.040000000008, 55457.93999999999, 64097.45999999999, 31782.14, 10205.039999999994, 27463.399999999976, 22550.400000000005, 27594.15999999999, 0.0, 39791.49999999999, 31403.42000000001, 33596.26000000001, 9201.959999999997, -2.842170943040401e-14, 2100.2800000000007, -887.7199999999993, 38207.82000000001, 34791.26, 23236.199999999993, 2128.42, 21255.0, 13553.860000000002, 11880.020000000002, 3500.0000000000005, 4252.32, 21542.940000000006, 157056.54000000004, 99398.92000000001, 56362.379999999976, 20881.480000000003, 138204.16000000012, 58332.80000000001, 34186.20000000002, 39623.27999999999, 0.0, 97356.64000000013, 50961.279999999984, 170248.70000000013, 2775.8800000000006, 30378.44, 255251.68000000005, 11702.959999999992, 2077.0, 28370.300000000007, 59853.51999999997, 242379.39999999985, 2218.6800000000003, 17438.74, 41026.46000000001, 2971.7400000000002, 107756.86000000006, 3600.0, 50063.31999999999, 7554.42, 22833.600000000006, 9328.86, 20048.9, 3688.1000000000004, 48344.89999999999, 46728.979999999996, 25645.020000000004, 63387.75999999998, 22999.879999999997, 12765.599999999995, 40604.03999999999, 3590.0, 17275.38000000001, 2488.4, 12805.139999999998, 1810.96, 2077.0, 38800.0, 64630.31999999997, 7065.02, 90613.99999999996, 60914.900000000016, 13262.259999999998, 13655.099999999999, 47897.15999999998, 53598.48000000002, 248820.92000000004, 181111.1199999999, 22968.739999999998, 3015.0199999999995, 26175.660000000003, 9409.04, 229109.66000000003, 19607.48, 21735.69999999999, 16225.04, 64014.780000000035, 122217.89999999995, 2530.24, 3616.68, 10235.160000000002, 45838.140000000014, 61825.579999999994, 4849.959999999997]}, {\"mode\": \"lines+markers\", \"name\": \"Validation Data for NetLineDollarPrice\", \"type\": \"scatter\", \"x\": [\"2018-09-03T00:00:00\", \"2018-09-04T00:00:00\", \"2018-10-01T00:00:00\", \"2018-10-04T00:00:00\", \"2018-11-01T00:00:00\", \"2018-11-04T00:00:00\", \"2018-11-06T00:00:00\", \"2018-12-01T00:00:00\", \"2018-12-02T00:00:00\", \"2018-12-03T00:00:00\", \"2018-12-04T00:00:00\", \"2018-12-06T00:00:00\"], \"y\": [25198.659999999993, 17786.499999999996, 6588.839999999999, 8331.820000000002, 7586.48, 22311.959999999985, 61571.05999999993, 86156.29999999986, 8819.160000000002, -5180.299999999999, 16148.919999999998, 27661.16000000001]}, {\"mode\": \"lines+markers\", \"name\": \"Prediction for NetLineDollarPrice\", \"type\": \"scatter\", \"x\": [\"2018-09-03T00:00:00\", \"2018-09-04T00:00:00\", \"2018-10-01T00:00:00\", \"2018-10-04T00:00:00\", \"2018-11-01T00:00:00\", \"2018-11-04T00:00:00\", \"2018-11-06T00:00:00\", \"2018-12-01T00:00:00\", \"2018-12-02T00:00:00\", \"2018-12-03T00:00:00\", \"2018-12-04T00:00:00\", \"2018-12-06T00:00:00\"], \"y\": [37908.91361232125, 38839.030858950806, 37598.79866113638, 37668.97017864148, 38641.74904064451, 39905.75990701582, 41102.85015735973, 42082.21435013211, 42812.82256406953, 43320.90116990328, 43653.09978026781, 43857.35765292345]}],\n",
              "                        {\"legend\": {\"traceorder\": \"normal\", \"x\": 0, \"y\": 1}, \"template\": {\"data\": {\"bar\": [{\"error_x\": {\"color\": \"#2a3f5f\"}, \"error_y\": {\"color\": \"#2a3f5f\"}, \"marker\": {\"line\": {\"color\": \"#E5ECF6\", \"width\": 0.5}}, \"type\": \"bar\"}], \"barpolar\": [{\"marker\": {\"line\": {\"color\": \"#E5ECF6\", \"width\": 0.5}}, \"type\": \"barpolar\"}], \"carpet\": [{\"aaxis\": {\"endlinecolor\": \"#2a3f5f\", \"gridcolor\": \"white\", \"linecolor\": \"white\", \"minorgridcolor\": \"white\", \"startlinecolor\": \"#2a3f5f\"}, \"baxis\": {\"endlinecolor\": \"#2a3f5f\", \"gridcolor\": \"white\", \"linecolor\": \"white\", \"minorgridcolor\": \"white\", \"startlinecolor\": \"#2a3f5f\"}, \"type\": \"carpet\"}], \"choropleth\": [{\"colorbar\": {\"outlinewidth\": 0, \"ticks\": \"\"}, \"type\": \"choropleth\"}], \"contour\": [{\"colorbar\": {\"outlinewidth\": 0, \"ticks\": \"\"}, \"colorscale\": [[0.0, \"#0d0887\"], [0.1111111111111111, \"#46039f\"], [0.2222222222222222, \"#7201a8\"], [0.3333333333333333, \"#9c179e\"], [0.4444444444444444, \"#bd3786\"], [0.5555555555555556, \"#d8576b\"], [0.6666666666666666, \"#ed7953\"], [0.7777777777777778, \"#fb9f3a\"], [0.8888888888888888, \"#fdca26\"], [1.0, \"#f0f921\"]], \"type\": \"contour\"}], \"contourcarpet\": [{\"colorbar\": {\"outlinewidth\": 0, \"ticks\": \"\"}, \"type\": \"contourcarpet\"}], \"heatmap\": [{\"colorbar\": {\"outlinewidth\": 0, \"ticks\": \"\"}, \"colorscale\": [[0.0, \"#0d0887\"], [0.1111111111111111, \"#46039f\"], [0.2222222222222222, \"#7201a8\"], [0.3333333333333333, \"#9c179e\"], [0.4444444444444444, \"#bd3786\"], [0.5555555555555556, \"#d8576b\"], [0.6666666666666666, \"#ed7953\"], [0.7777777777777778, \"#fb9f3a\"], [0.8888888888888888, \"#fdca26\"], [1.0, \"#f0f921\"]], \"type\": \"heatmap\"}], \"heatmapgl\": [{\"colorbar\": {\"outlinewidth\": 0, \"ticks\": \"\"}, \"colorscale\": [[0.0, \"#0d0887\"], [0.1111111111111111, \"#46039f\"], [0.2222222222222222, \"#7201a8\"], [0.3333333333333333, \"#9c179e\"], [0.4444444444444444, \"#bd3786\"], [0.5555555555555556, \"#d8576b\"], [0.6666666666666666, \"#ed7953\"], [0.7777777777777778, \"#fb9f3a\"], [0.8888888888888888, \"#fdca26\"], [1.0, \"#f0f921\"]], \"type\": \"heatmapgl\"}], \"histogram\": [{\"marker\": {\"colorbar\": {\"outlinewidth\": 0, \"ticks\": \"\"}}, \"type\": \"histogram\"}], \"histogram2d\": [{\"colorbar\": {\"outlinewidth\": 0, \"ticks\": \"\"}, \"colorscale\": [[0.0, \"#0d0887\"], [0.1111111111111111, \"#46039f\"], [0.2222222222222222, \"#7201a8\"], [0.3333333333333333, \"#9c179e\"], [0.4444444444444444, \"#bd3786\"], [0.5555555555555556, \"#d8576b\"], [0.6666666666666666, \"#ed7953\"], [0.7777777777777778, \"#fb9f3a\"], [0.8888888888888888, \"#fdca26\"], [1.0, \"#f0f921\"]], \"type\": \"histogram2d\"}], \"histogram2dcontour\": [{\"colorbar\": {\"outlinewidth\": 0, \"ticks\": \"\"}, \"colorscale\": [[0.0, \"#0d0887\"], [0.1111111111111111, \"#46039f\"], [0.2222222222222222, \"#7201a8\"], [0.3333333333333333, \"#9c179e\"], [0.4444444444444444, \"#bd3786\"], [0.5555555555555556, \"#d8576b\"], [0.6666666666666666, \"#ed7953\"], [0.7777777777777778, \"#fb9f3a\"], [0.8888888888888888, \"#fdca26\"], [1.0, \"#f0f921\"]], \"type\": \"histogram2dcontour\"}], \"mesh3d\": [{\"colorbar\": {\"outlinewidth\": 0, \"ticks\": \"\"}, \"type\": \"mesh3d\"}], \"parcoords\": [{\"line\": {\"colorbar\": {\"outlinewidth\": 0, \"ticks\": \"\"}}, \"type\": \"parcoords\"}], \"pie\": [{\"automargin\": true, \"type\": \"pie\"}], \"scatter\": [{\"marker\": {\"colorbar\": {\"outlinewidth\": 0, \"ticks\": \"\"}}, \"type\": \"scatter\"}], \"scatter3d\": [{\"line\": {\"colorbar\": {\"outlinewidth\": 0, \"ticks\": \"\"}}, \"marker\": {\"colorbar\": {\"outlinewidth\": 0, \"ticks\": \"\"}}, \"type\": \"scatter3d\"}], \"scattercarpet\": [{\"marker\": {\"colorbar\": {\"outlinewidth\": 0, \"ticks\": \"\"}}, \"type\": \"scattercarpet\"}], \"scattergeo\": [{\"marker\": {\"colorbar\": {\"outlinewidth\": 0, \"ticks\": \"\"}}, \"type\": \"scattergeo\"}], \"scattergl\": [{\"marker\": {\"colorbar\": {\"outlinewidth\": 0, \"ticks\": \"\"}}, \"type\": \"scattergl\"}], \"scattermapbox\": [{\"marker\": {\"colorbar\": {\"outlinewidth\": 0, \"ticks\": \"\"}}, \"type\": \"scattermapbox\"}], \"scatterpolar\": [{\"marker\": {\"colorbar\": {\"outlinewidth\": 0, \"ticks\": \"\"}}, \"type\": \"scatterpolar\"}], \"scatterpolargl\": [{\"marker\": {\"colorbar\": {\"outlinewidth\": 0, \"ticks\": \"\"}}, \"type\": \"scatterpolargl\"}], \"scatterternary\": [{\"marker\": {\"colorbar\": {\"outlinewidth\": 0, \"ticks\": \"\"}}, \"type\": \"scatterternary\"}], \"surface\": [{\"colorbar\": {\"outlinewidth\": 0, \"ticks\": \"\"}, \"colorscale\": [[0.0, \"#0d0887\"], [0.1111111111111111, \"#46039f\"], [0.2222222222222222, \"#7201a8\"], [0.3333333333333333, \"#9c179e\"], [0.4444444444444444, \"#bd3786\"], [0.5555555555555556, \"#d8576b\"], [0.6666666666666666, \"#ed7953\"], [0.7777777777777778, \"#fb9f3a\"], [0.8888888888888888, \"#fdca26\"], [1.0, \"#f0f921\"]], \"type\": \"surface\"}], \"table\": [{\"cells\": {\"fill\": {\"color\": \"#EBF0F8\"}, \"line\": {\"color\": \"white\"}}, \"header\": {\"fill\": {\"color\": \"#C8D4E3\"}, \"line\": {\"color\": \"white\"}}, \"type\": \"table\"}]}, \"layout\": {\"annotationdefaults\": {\"arrowcolor\": \"#2a3f5f\", \"arrowhead\": 0, \"arrowwidth\": 1}, \"coloraxis\": {\"colorbar\": {\"outlinewidth\": 0, \"ticks\": \"\"}}, \"colorscale\": {\"diverging\": [[0, \"#8e0152\"], [0.1, \"#c51b7d\"], [0.2, \"#de77ae\"], [0.3, \"#f1b6da\"], [0.4, \"#fde0ef\"], [0.5, \"#f7f7f7\"], [0.6, \"#e6f5d0\"], [0.7, \"#b8e186\"], [0.8, \"#7fbc41\"], [0.9, \"#4d9221\"], [1, \"#276419\"]], \"sequential\": [[0.0, \"#0d0887\"], [0.1111111111111111, \"#46039f\"], [0.2222222222222222, \"#7201a8\"], [0.3333333333333333, \"#9c179e\"], [0.4444444444444444, \"#bd3786\"], [0.5555555555555556, \"#d8576b\"], [0.6666666666666666, \"#ed7953\"], [0.7777777777777778, \"#fb9f3a\"], [0.8888888888888888, \"#fdca26\"], [1.0, \"#f0f921\"]], \"sequentialminus\": [[0.0, \"#0d0887\"], [0.1111111111111111, \"#46039f\"], [0.2222222222222222, \"#7201a8\"], [0.3333333333333333, \"#9c179e\"], [0.4444444444444444, \"#bd3786\"], [0.5555555555555556, \"#d8576b\"], [0.6666666666666666, \"#ed7953\"], [0.7777777777777778, \"#fb9f3a\"], [0.8888888888888888, \"#fdca26\"], [1.0, \"#f0f921\"]]}, \"colorway\": [\"#636efa\", \"#EF553B\", \"#00cc96\", \"#ab63fa\", \"#FFA15A\", \"#19d3f3\", \"#FF6692\", \"#B6E880\", \"#FF97FF\", \"#FECB52\"], \"font\": {\"color\": \"#2a3f5f\"}, \"geo\": {\"bgcolor\": \"white\", \"lakecolor\": \"white\", \"landcolor\": \"#E5ECF6\", \"showlakes\": true, \"showland\": true, \"subunitcolor\": \"white\"}, \"hoverlabel\": {\"align\": \"left\"}, \"hovermode\": \"closest\", \"mapbox\": {\"style\": \"light\"}, \"paper_bgcolor\": \"white\", \"plot_bgcolor\": \"#E5ECF6\", \"polar\": {\"angularaxis\": {\"gridcolor\": \"white\", \"linecolor\": \"white\", \"ticks\": \"\"}, \"bgcolor\": \"#E5ECF6\", \"radialaxis\": {\"gridcolor\": \"white\", \"linecolor\": \"white\", \"ticks\": \"\"}}, \"scene\": {\"xaxis\": {\"backgroundcolor\": \"#E5ECF6\", \"gridcolor\": \"white\", \"gridwidth\": 2, \"linecolor\": \"white\", \"showbackground\": true, \"ticks\": \"\", \"zerolinecolor\": \"white\"}, \"yaxis\": {\"backgroundcolor\": \"#E5ECF6\", \"gridcolor\": \"white\", \"gridwidth\": 2, \"linecolor\": \"white\", \"showbackground\": true, \"ticks\": \"\", \"zerolinecolor\": \"white\"}, \"zaxis\": {\"backgroundcolor\": \"#E5ECF6\", \"gridcolor\": \"white\", \"gridwidth\": 2, \"linecolor\": \"white\", \"showbackground\": true, \"ticks\": \"\", \"zerolinecolor\": \"white\"}}, \"shapedefaults\": {\"line\": {\"color\": \"#2a3f5f\"}}, \"ternary\": {\"aaxis\": {\"gridcolor\": \"white\", \"linecolor\": \"white\", \"ticks\": \"\"}, \"baxis\": {\"gridcolor\": \"white\", \"linecolor\": \"white\", \"ticks\": \"\"}, \"bgcolor\": \"#E5ECF6\", \"caxis\": {\"gridcolor\": \"white\", \"linecolor\": \"white\", \"ticks\": \"\"}}, \"title\": {\"x\": 0.05}, \"xaxis\": {\"automargin\": true, \"gridcolor\": \"white\", \"linecolor\": \"white\", \"ticks\": \"\", \"title\": {\"standoff\": 15}, \"zerolinecolor\": \"white\", \"zerolinewidth\": 2}, \"yaxis\": {\"automargin\": true, \"gridcolor\": \"white\", \"linecolor\": \"white\", \"ticks\": \"\", \"title\": {\"standoff\": 15}, \"zerolinecolor\": \"white\", \"zerolinewidth\": 2}}}, \"title\": {\"text\": \"NetLineDollarPrice ARIMA Model Prediction\"}, \"xaxis\": {\"title\": {\"text\": \"Date\"}}, \"yaxis\": {\"title\": {\"text\": \"NetLineDollarPrice\"}}},\n",
              "                        {\"responsive\": true}\n",
              "                    ).then(function(){\n",
              "                            \n",
              "var gd = document.getElementById('469cd067-59d8-4706-93ad-aa3fc352bcd8');\n",
              "var x = new MutationObserver(function (mutations, observer) {{\n",
              "        var display = window.getComputedStyle(gd).display;\n",
              "        if (!display || display === 'none') {{\n",
              "            console.log([gd, 'removed!']);\n",
              "            Plotly.purge(gd);\n",
              "            observer.disconnect();\n",
              "        }}\n",
              "}});\n",
              "\n",
              "// Listen for the removal of the full notebook cells\n",
              "var notebookContainer = gd.closest('#notebook-container');\n",
              "if (notebookContainer) {{\n",
              "    x.observe(notebookContainer, {childList: true});\n",
              "}}\n",
              "\n",
              "// Listen for the clearing of the current output cell\n",
              "var outputEl = gd.closest('.output');\n",
              "if (outputEl) {{\n",
              "    x.observe(outputEl, {childList: true});\n",
              "}}\n",
              "\n",
              "                        })\n",
              "                };\n",
              "                \n",
              "            </script>\n",
              "        </div>\n",
              "</body>\n",
              "</html>"
            ]
          },
          "metadata": {
            "tags": []
          }
        }
      ]
    },
    {
      "cell_type": "code",
      "metadata": {
        "colab": {
          "base_uri": "https://localhost:8080/"
        },
        "id": "GUc2FZsJti0u",
        "outputId": "21d95211-4840-4987-b6af-1cc2d3d75357"
      },
      "source": [
        "r2_score(valid[\"NetLineDollarPrice\"], prediction_arima)"
      ],
      "execution_count": null,
      "outputs": [
        {
          "output_type": "execute_result",
          "data": {
            "text/plain": [
              "-0.4524048442917401"
            ]
          },
          "metadata": {
            "tags": []
          },
          "execution_count": 118
        }
      ]
    },
    {
      "cell_type": "markdown",
      "metadata": {
        "id": "sdD7vJMCHLov"
      },
      "source": [
        "*Note: $R^2$ can be negative in some situations. In particular, if no intercept was included in the fit, $R^2$ can become negative. In these cases, the learned model is worse than the null model.*"
      ]
    },
    {
      "cell_type": "markdown",
      "metadata": {
        "id": "oonwW7hsWi69"
      },
      "source": [
        ""
      ]
    },
    {
      "cell_type": "markdown",
      "metadata": {
        "id": "1oIWI6_Gti0x"
      },
      "source": [
        "#### 6.2 Classification by using KNN"
      ]
    },
    {
      "cell_type": "markdown",
      "metadata": {
        "id": "Ss-7QEGsptqd"
      },
      "source": [
        "K-Nearest Neighbour is a supervised learning algorithm that stores all available cases and classfies new cased based on similarity measures (e.g. distance functions)."
      ]
    },
    {
      "cell_type": "markdown",
      "metadata": {
        "id": "q0icm6t5ti0y"
      },
      "source": [
        "We are using the KNN classification to classify whether the purchase was Customer Order (Y) or no (N)."
      ]
    },
    {
      "cell_type": "code",
      "metadata": {
        "id": "ZHxj-hgpti0y"
      },
      "source": [
        "X = sales[['NetOrderDollarPrice', 'NetLineDollarPrice', 'OrderedQuantity']]\n",
        "y = sales['CustomerOrder']"
      ],
      "execution_count": null,
      "outputs": []
    },
    {
      "cell_type": "code",
      "metadata": {
        "id": "5wturD3tti00",
        "outputId": "5731f4f4-8e54-464d-909f-6831dd1523e5"
      },
      "source": [
        "X.head()"
      ],
      "execution_count": null,
      "outputs": [
        {
          "output_type": "execute_result",
          "data": {
            "text/html": [
              "<div>\n",
              "<style scoped>\n",
              "    .dataframe tbody tr th:only-of-type {\n",
              "        vertical-align: middle;\n",
              "    }\n",
              "\n",
              "    .dataframe tbody tr th {\n",
              "        vertical-align: top;\n",
              "    }\n",
              "\n",
              "    .dataframe thead th {\n",
              "        text-align: right;\n",
              "    }\n",
              "</style>\n",
              "<table border=\"1\" class=\"dataframe\">\n",
              "  <thead>\n",
              "    <tr style=\"text-align: right;\">\n",
              "      <th></th>\n",
              "      <th>NetOrderDollarPrice</th>\n",
              "      <th>NetLineDollarPrice</th>\n",
              "      <th>OrderedQuantity</th>\n",
              "    </tr>\n",
              "  </thead>\n",
              "  <tbody>\n",
              "    <tr>\n",
              "      <th>0</th>\n",
              "      <td>0.00</td>\n",
              "      <td>0.0</td>\n",
              "      <td>1</td>\n",
              "    </tr>\n",
              "    <tr>\n",
              "      <th>1</th>\n",
              "      <td>0.00</td>\n",
              "      <td>0.0</td>\n",
              "      <td>1</td>\n",
              "    </tr>\n",
              "    <tr>\n",
              "      <th>2</th>\n",
              "      <td>0.00</td>\n",
              "      <td>0.0</td>\n",
              "      <td>6</td>\n",
              "    </tr>\n",
              "    <tr>\n",
              "      <th>3</th>\n",
              "      <td>0.00</td>\n",
              "      <td>0.0</td>\n",
              "      <td>6</td>\n",
              "    </tr>\n",
              "    <tr>\n",
              "      <th>4</th>\n",
              "      <td>6585.37</td>\n",
              "      <td>0.0</td>\n",
              "      <td>6</td>\n",
              "    </tr>\n",
              "  </tbody>\n",
              "</table>\n",
              "</div>"
            ],
            "text/plain": [
              "   NetOrderDollarPrice  NetLineDollarPrice  OrderedQuantity\n",
              "0                 0.00                 0.0                1\n",
              "1                 0.00                 0.0                1\n",
              "2                 0.00                 0.0                6\n",
              "3                 0.00                 0.0                6\n",
              "4              6585.37                 0.0                6"
            ]
          },
          "metadata": {
            "tags": []
          },
          "execution_count": 47
        }
      ]
    },
    {
      "cell_type": "code",
      "metadata": {
        "id": "vK3Ma-Ahti01",
        "outputId": "982b2fad-cbab-445d-bef0-303f78abdcf3"
      },
      "source": [
        "X.shape"
      ],
      "execution_count": null,
      "outputs": [
        {
          "output_type": "execute_result",
          "data": {
            "text/plain": [
              "(59378, 3)"
            ]
          },
          "metadata": {
            "tags": []
          },
          "execution_count": 48
        }
      ]
    },
    {
      "cell_type": "code",
      "metadata": {
        "id": "wPiwThSqti03",
        "outputId": "6f6d6452-6804-430c-e112-555cffa0b8d2"
      },
      "source": [
        "y.head()"
      ],
      "execution_count": null,
      "outputs": [
        {
          "output_type": "execute_result",
          "data": {
            "text/plain": [
              "0    N\n",
              "1    N\n",
              "2    N\n",
              "3    N\n",
              "4    N\n",
              "Name: CustomerOrder, dtype: object"
            ]
          },
          "metadata": {
            "tags": []
          },
          "execution_count": 49
        }
      ]
    },
    {
      "cell_type": "code",
      "metadata": {
        "id": "Fy3bLy0Eti04",
        "outputId": "0edba640-049e-4278-eb77-3c8947bcb102"
      },
      "source": [
        "y.unique()"
      ],
      "execution_count": null,
      "outputs": [
        {
          "output_type": "execute_result",
          "data": {
            "text/plain": [
              "array(['N', 'Y'], dtype=object)"
            ]
          },
          "metadata": {
            "tags": []
          },
          "execution_count": 50
        }
      ]
    },
    {
      "cell_type": "code",
      "metadata": {
        "id": "xCwuDqGOti05"
      },
      "source": [
        "#split the dataset into train data and test data"
      ],
      "execution_count": null,
      "outputs": []
    },
    {
      "cell_type": "code",
      "metadata": {
        "id": "ht65Pb_xti06"
      },
      "source": [
        "X_train, X_test, y_train, y_test = train_test_split(X, y,stratify=y, test_size = 0.2, random_state=42)"
      ],
      "execution_count": null,
      "outputs": []
    },
    {
      "cell_type": "code",
      "metadata": {
        "id": "wJsj4nr4ti07",
        "outputId": "1373923c-3475-4121-e150-da5470af175d"
      },
      "source": [
        "from sklearn.preprocessing import StandardScaler\n",
        "from sklearn.neighbors import KNeighborsClassifier\n",
        "\n",
        "scaler = StandardScaler()\n",
        "\n",
        "scaler.fit(X_train)\n",
        "\n",
        "X_train_s = scaler.transform(X_train)\n",
        "X_test_s = scaler.transform(X_test)\n",
        "\n",
        "E_knn = KNeighborsClassifier(n_neighbors=3, p=2)\n",
        "E_knn.fit(X_train_s, y_train)\n",
        "print('Accuracy for k = 3 & Euclidian on train set: {} \\n'.format(E_knn.score(X_train_s, y_train)))\n",
        "print('Accuracy for k = 3 & Euclidian on test data: {} \\n'.format(E_knn.score(X_test_s, y_test)))\n",
        "\n",
        "M_knn = KNeighborsClassifier(n_neighbors=3, p=1)\n",
        "M_knn.fit(X_train_s, y_train)\n",
        "print('Accuracy for k = 3 & Manhatan on train set: {} \\n'.format(M_knn.score(X_train_s, y_train)))\n",
        "print('Accuracy for k = 3 & Manhatan on test data: {} \\n'.format(M_knn.score(X_test_s, y_test)))"
      ],
      "execution_count": null,
      "outputs": [
        {
          "output_type": "stream",
          "text": [
            "Accuracy for k = 3 & Euclidian on train set: 0.7430634499600017 \n",
            "\n",
            "Accuracy for k = 3 & Euclidian on test data: 0.7321488716739643 \n",
            "\n",
            "Accuracy for k = 3 & Manhatan on train set: 0.7430845017051914 \n",
            "\n",
            "Accuracy for k = 3 & Manhatan on test data: 0.7322330751094644 \n",
            "\n"
          ],
          "name": "stdout"
        }
      ]
    },
    {
      "cell_type": "markdown",
      "metadata": {
        "id": "pMrFp-nati08"
      },
      "source": [
        "Now we will try to test the prediction for using KNN with Euclidean distance."
      ]
    },
    {
      "cell_type": "code",
      "metadata": {
        "id": "RQjneqYHti09",
        "outputId": "807a20c0-894c-47ce-8484-bfe1e7a421de"
      },
      "source": [
        "CustomerOrder_prediction = E_knn.predict([[2, 3.2, 5]])\n",
        "print('Customer Order is '+CustomerOrder_prediction[0])"
      ],
      "execution_count": null,
      "outputs": [
        {
          "output_type": "stream",
          "text": [
            "Customer Order is Y\n"
          ],
          "name": "stdout"
        }
      ]
    },
    {
      "cell_type": "markdown",
      "metadata": {
        "id": "T1LauNzWti0-"
      },
      "source": [
        "Now we will try to test the prediction for using KNN with Manhattan distance."
      ]
    },
    {
      "cell_type": "code",
      "metadata": {
        "id": "ehg9yYQbti0_",
        "outputId": "c10aea25-0c03-4c44-c49f-b885afdd7cd0"
      },
      "source": [
        "CustomerOrder_prediction = M_knn.predict([[2, 3.2, 5]])\n",
        "print('Customer Order is '+CustomerOrder_prediction[0])"
      ],
      "execution_count": null,
      "outputs": [
        {
          "output_type": "stream",
          "text": [
            "Customer Order is Y\n"
          ],
          "name": "stdout"
        }
      ]
    },
    {
      "cell_type": "markdown",
      "metadata": {
        "id": "7Zo4q4Vmti1B"
      },
      "source": [
        "Check the accuracy score for both KNN(Euclidean Distance) and KNN(Manhattan Distance)"
      ]
    },
    {
      "cell_type": "code",
      "metadata": {
        "id": "RDPBHKZNti1C",
        "outputId": "fa2bb092-6ba5-4438-f557-46fcbc292588"
      },
      "source": [
        "#accuracy\n",
        "E_knn.score(X_test, y_test)"
      ],
      "execution_count": null,
      "outputs": [
        {
          "output_type": "execute_result",
          "data": {
            "text/plain": [
              "0.504546985517009"
            ]
          },
          "metadata": {
            "tags": []
          },
          "execution_count": 72
        }
      ]
    },
    {
      "cell_type": "code",
      "metadata": {
        "id": "pXgsw15zti1D",
        "outputId": "28fb9a47-4944-47c4-e658-cb30c7a22bac"
      },
      "source": [
        "knnmodel1 = E_knn.fit(X_train_s, y_train)\n",
        "Euclidean = knnmodel1.predict(X_test)\n",
        "Knn_acc= accuracy_score(y_test, Euclidean)\n",
        "Knn_acc"
      ],
      "execution_count": null,
      "outputs": [
        {
          "output_type": "execute_result",
          "data": {
            "text/plain": [
              "0.504546985517009"
            ]
          },
          "metadata": {
            "tags": []
          },
          "execution_count": 76
        }
      ]
    },
    {
      "cell_type": "code",
      "metadata": {
        "id": "RhXRkfW8ti1F",
        "outputId": "1a58b1e3-955f-4098-d6ad-1fa7b56895c7"
      },
      "source": [
        "M_knn.score(X_test, y_test)"
      ],
      "execution_count": null,
      "outputs": [
        {
          "output_type": "execute_result",
          "data": {
            "text/plain": [
              "0.5067362748400135"
            ]
          },
          "metadata": {
            "tags": []
          },
          "execution_count": 73
        }
      ]
    },
    {
      "cell_type": "code",
      "metadata": {
        "id": "Up7fjMPWti1G",
        "outputId": "949c044a-5674-4a25-9516-8c41b2d97646"
      },
      "source": [
        "knnmodel1 = M_knn.fit(X_train_s, y_train)\n",
        "Manhattan = knnmodel1.predict(X_test)\n",
        "Knn_acc= accuracy_score(y_test, Manhattan)\n",
        "Knn_acc"
      ],
      "execution_count": null,
      "outputs": [
        {
          "output_type": "execute_result",
          "data": {
            "text/plain": [
              "0.5067362748400135"
            ]
          },
          "metadata": {
            "tags": []
          },
          "execution_count": 77
        }
      ]
    },
    {
      "cell_type": "markdown",
      "metadata": {
        "id": "33P2RJLgti1I"
      },
      "source": [
        "#### 6.3 Classification using Decision trees"
      ]
    },
    {
      "cell_type": "markdown",
      "metadata": {
        "id": "2oieAw87pjuF"
      },
      "source": [
        "Classification tree is a method of splitting the dataset into multiple sets until a decision is made. We will also used classification tree to determine whether CustomerOrder is a Yes (Y) or No(N)."
      ]
    },
    {
      "cell_type": "code",
      "metadata": {
        "id": "GzBHkU26ti1J",
        "outputId": "4e8a9c7f-d662-4e4c-a5fb-bbfa13cccb9d"
      },
      "source": [
        "from sklearn.tree import DecisionTreeClassifier\n",
        "tree = DecisionTreeClassifier(max_depth=2)\n",
        "tree.fit(X_train, y_train)\n",
        "\n",
        "print(\"Accuracy on training set: {:.3f}\".format(tree.score(X_train, y_train)))\n",
        "print(\"Accuracy on test set: {:.3f}\".format(tree.score(X_test, y_test)))"
      ],
      "execution_count": null,
      "outputs": [
        {
          "output_type": "stream",
          "text": [
            "Accuracy on training set: 0.806\n",
            "Accuracy on test set: 0.806\n"
          ],
          "name": "stdout"
        }
      ]
    },
    {
      "cell_type": "code",
      "metadata": {
        "id": "5nzs79Pyti1K",
        "outputId": "af154a78-4fd6-450c-bf62-b07d774b36f4"
      },
      "source": [
        "tree.score(X_test,y_test)"
      ],
      "execution_count": null,
      "outputs": [
        {
          "output_type": "execute_result",
          "data": {
            "text/plain": [
              "0.8059952846076119"
            ]
          },
          "metadata": {
            "tags": []
          },
          "execution_count": 74
        }
      ]
    },
    {
      "cell_type": "code",
      "metadata": {
        "id": "K8zZUBbNti1M",
        "outputId": "ac6a1a7f-38d7-4119-f531-67f5e1ad3f4c"
      },
      "source": [
        "rfc_Count = tree.predict(X_test)\n",
        "accuracy_score(y_test, rfc_Count)"
      ],
      "execution_count": null,
      "outputs": [
        {
          "output_type": "execute_result",
          "data": {
            "text/plain": [
              "0.8059952846076119"
            ]
          },
          "metadata": {
            "tags": []
          },
          "execution_count": 85
        }
      ]
    },
    {
      "cell_type": "code",
      "metadata": {
        "id": "19Flb1KPti1N",
        "outputId": "d202ccb2-9d0a-4b47-f14f-6bf19b937b0d"
      },
      "source": [
        "train_acc = []\n",
        "test_acc = []\n",
        "\n",
        "for i in range(2,10):\n",
        "    tree1 = DecisionTreeClassifier(max_depth=i, random_state=0)\n",
        "    tree1.fit(X_train, y_train)\n",
        "\n",
        "    train_acc.append(tree1.score(X_train, y_train))\n",
        "    test_acc.append(tree1.score(X_test, y_test))\n",
        "    \n",
        "plt.plot(range (2,10),train_acc,'b-', label='Train Accuracy')\n",
        "plt.plot(range (2,10),test_acc,'r-', label='Test Accuracy')\n",
        "plt.xlabel('Max_Depth')\n",
        "plt.ylabel('Accuracy')\n",
        "plt.legend()\n",
        "plt.title('Accuracy by Depth of DecisionTree')\n",
        "plt.show()"
      ],
      "execution_count": null,
      "outputs": [
        {
          "output_type": "display_data",
          "data": {
            "image/png": "[encoded data removed]",
            "text/plain": [
              "<Figure size 432x288 with 1 Axes>"
            ]
          },
          "metadata": {
            "tags": [],
            "needs_background": "light"
          }
        }
      ]
    },
    {
      "cell_type": "markdown",
      "metadata": {
        "id": "7ShhEJACti1P"
      },
      "source": [
        "#### 6.4 Logistic Regression"
      ]
    },
    {
      "cell_type": "markdown",
      "metadata": {
        "id": "lnJokQjMqV0B"
      },
      "source": [
        "Logistic Regression is also known as a binary classification. It impliments the sigmoid function to push the continuous values to its nearest binary value, either  1 or 0. The gradient descent is used for optimization by decreasing the cost function value."
      ]
    },
    {
      "cell_type": "markdown",
      "metadata": {
        "id": "N1p2CzURqq26"
      },
      "source": [
        "Logistic Regression is also used to classify the CustomerOrder."
      ]
    },
    {
      "cell_type": "code",
      "metadata": {
        "id": "CnvWNW3Mti1Q",
        "outputId": "5f53eb43-31af-4b50-ab6f-c4bed7c4aaff"
      },
      "source": [
        "from sklearn.linear_model import LogisticRegression\n",
        "logr = LogisticRegression()\n",
        "logr.fit(X_train, y_train)\n",
        "logr_y_pred = logr.predict(X_test)\n",
        "print('Accuracy: ',logr.score(X_test, y_test)) "
      ],
      "execution_count": null,
      "outputs": [
        {
          "output_type": "stream",
          "text": [
            "Accuracy:  0.8058268777366117\n"
          ],
          "name": "stdout"
        }
      ]
    },
    {
      "cell_type": "code",
      "metadata": {
        "id": "C83rxy9sti1R"
      },
      "source": [
        "# For test data\n",
        "ytrain_pred = logr.predict(X_train)\n"
      ],
      "execution_count": null,
      "outputs": []
    },
    {
      "cell_type": "code",
      "metadata": {
        "id": "MxwOzNunti1S",
        "outputId": "83c86b75-c986-4df6-9661-1cee5e4013fa"
      },
      "source": [
        "# To see the accuracy of the train set and test set\n",
        "from sklearn.metrics import accuracy_score\n",
        "\n",
        "print('Accuracy the test set is: ', accuracy_score( y_test, logr_y_pred))\n",
        "print('Accuracy the train set is: ', accuracy_score(y_train, ytrain_pred))"
      ],
      "execution_count": null,
      "outputs": [
        {
          "output_type": "stream",
          "text": [
            "Accuracy the test set is:  0.8058268777366117\n",
            "Accuracy the train set is:  0.8059871163319439\n"
          ],
          "name": "stdout"
        }
      ]
    },
    {
      "cell_type": "markdown",
      "metadata": {
        "id": "hGscQAeSti1T"
      },
      "source": [
        "#### 6.5 Support Vector Machine (SVM)"
      ]
    },
    {
      "cell_type": "markdown",
      "metadata": {
        "id": "V8RdpZ0hq4HU"
      },
      "source": [
        "SVM uses kernel trick technique to transform the data and then based on the transformations it finds an optimal boundary between the possible outputs."
      ]
    },
    {
      "cell_type": "code",
      "metadata": {
        "id": "B_YmVoHyti1U"
      },
      "source": [
        "from sklearn.svm import SVC # \"Support vector classifier\"\n",
        "svcmodel = SVC(kernel='rbf')\n",
        "svcmodel1= svcmodel.fit(X_train, y_train)\n",
        "svm_Count = svcmodel1.predict(X_test)"
      ],
      "execution_count": null,
      "outputs": []
    },
    {
      "cell_type": "code",
      "metadata": {
        "id": "44UGYUUUti1V",
        "outputId": "ea240e0c-ae35-4ccd-d69a-6ac1d8e5432c"
      },
      "source": [
        "SVM_acc= accuracy_score(y_test, svm_Count)\n",
        "SVM_acc"
      ],
      "execution_count": null,
      "outputs": [
        {
          "output_type": "execute_result",
          "data": {
            "text/plain": [
              "0.8059952846076119"
            ]
          },
          "metadata": {
            "tags": []
          },
          "execution_count": 64
        }
      ]
    },
    {
      "cell_type": "markdown",
      "metadata": {
        "id": "SD8P8AH7ti1X"
      },
      "source": [
        "## 7. Evaluation Matric using Confusion Matrix"
      ]
    },
    {
      "cell_type": "markdown",
      "metadata": {
        "id": "Jrwaez55rPof"
      },
      "source": [
        "Confusion matrix is used to evaluate the performance of classification models. "
      ]
    },
    {
      "cell_type": "markdown",
      "metadata": {
        "id": "Kzx2el42sCJ6"
      },
      "source": [
        "Precision: It is all about what proportion of positive identifications was actually correct.\n",
        "\n",
        "Recall: Sensitivity, is the proportion of the total amount of relevant instances that are actually retrieved. \n",
        "\n",
        "F1-Score: Measures the test's accuracy.\n"
      ]
    },
    {
      "cell_type": "code",
      "metadata": {
        "id": "l-QwcI9vti1b"
      },
      "source": [
        "from sklearn.metrics import classification_report\n",
        "from sklearn import preprocessing\n",
        "from sklearn.metrics import classification_report, confusion_matrix\n",
        "from sklearn.metrics import plot_confusion_matrix\n",
        "import seaborn as sns"
      ],
      "execution_count": null,
      "outputs": []
    },
    {
      "cell_type": "code",
      "metadata": {
        "id": "SVxOGr17ti1c"
      },
      "source": [
        "# define confusion matrix tables \n",
        "def classi_report(prediction):\n",
        "    lb = preprocessing.LabelBinarizer()\n",
        "    lb.fit(df[\"CustomerOrder\"])\n",
        "     #### implemebt confusion matrix\n",
        "    con_mat = pd.DataFrame(confusion_matrix(y_test, prediction), index=lb.classes_, columns=lb.classes_)\n",
        "    print('Confusion Matrix'.center(50) + '\\n'*2 + str(con_mat) + '\\n'*4)\n",
        "    #### add classification_report\n",
        "    print(classification_report(y_test, prediction, target_names=lb.classes_))"
      ],
      "execution_count": null,
      "outputs": []
    },
    {
      "cell_type": "code",
      "metadata": {
        "id": "tOPEwJ2Sti1d"
      },
      "source": [
        "#define Heatmap the confustion matrix\n",
        "def plot_cm(y_true, y_pred, figsize=(5,5)):\n",
        "    cm = confusion_matrix(y_true, y_pred, labels=np.unique(y_test))\n",
        "    cm_sum = np.sum(cm, axis=1, keepdims=True)\n",
        "    cm_perc = cm / cm_sum.astype(float) * 100\n",
        "    annot = np.empty_like(cm).astype(str)\n",
        "    nrows, ncols = cm.shape\n",
        "    for i in range(nrows):\n",
        "        for j in range(ncols):\n",
        "            c = cm[i, j]\n",
        "            p = cm_perc[i, j]\n",
        "            if i == j:\n",
        "                s = cm_sum[i]\n",
        "                annot[i, j] = '%.1f%%\\n%d/%d' % (p, c, s)\n",
        "            elif c == 0:\n",
        "                annot[i, j] = ''\n",
        "            else:\n",
        "                annot[i, j] = '%.1f%%\\n%d' % (p, c)\n",
        "    cm = pd.DataFrame(cm, index=np.unique(y_true), columns=np.unique(y_true))\n",
        "    cm.index.name = 'Actual'\n",
        "    cm.columns.name = 'Predicted'\n",
        "    fig, ax = plt.subplots(figsize=figsize)\n",
        "    sns.heatmap(cm, cmap= \"YlGnBu\", annot=annot, fmt='', ax=ax)"
      ],
      "execution_count": null,
      "outputs": []
    },
    {
      "cell_type": "markdown",
      "metadata": {
        "id": "43F36JZ3ti1e"
      },
      "source": [
        "### Confusion Matrix for KNN Algorithm"
      ]
    },
    {
      "cell_type": "code",
      "metadata": {
        "id": "02uIUuRmti1f",
        "outputId": "2667869a-9f39-4b2e-adf1-b7f4184af4ac"
      },
      "source": [
        "classi_report(Euclidean)\n",
        "plot_cm(y_test, Euclidean)"
      ],
      "execution_count": null,
      "outputs": [
        {
          "output_type": "stream",
          "text": [
            "                 Confusion Matrix                 \n",
            "\n",
            "      N     Y\n",
            "N  1009  1295\n",
            "Y  4589  4983\n",
            "\n",
            "\n",
            "\n",
            "\n",
            "              precision    recall  f1-score   support\n",
            "\n",
            "           N       0.18      0.44      0.26      2304\n",
            "           Y       0.79      0.52      0.63      9572\n",
            "\n",
            "    accuracy                           0.50     11876\n",
            "   macro avg       0.49      0.48      0.44     11876\n",
            "weighted avg       0.67      0.50      0.56     11876\n",
            "\n"
          ],
          "name": "stdout"
        },
        {
          "output_type": "display_data",
          "data": {
            "image/png": "[encoded data removed]",
            "text/plain": [
              "<Figure size 360x360 with 2 Axes>"
            ]
          },
          "metadata": {
            "tags": [],
            "needs_background": "light"
          }
        }
      ]
    },
    {
      "cell_type": "markdown",
      "metadata": {
        "id": "1DRnY4Cxr50o"
      },
      "source": [
        "F1-score shows an accuracy of 0.50. "
      ]
    },
    {
      "cell_type": "code",
      "metadata": {
        "id": "cnQHGKbnti1g",
        "outputId": "bb2301d1-ce7d-46d9-8a83-cd22f79f05c2"
      },
      "source": [
        "classi_report(Manhattan)\n",
        "plot_cm(y_test, Manhattan)"
      ],
      "execution_count": null,
      "outputs": [
        {
          "output_type": "stream",
          "text": [
            "                 Confusion Matrix                 \n",
            "\n",
            "      N     Y\n",
            "N  1010  1294\n",
            "Y  4564  5008\n",
            "\n",
            "\n",
            "\n",
            "\n",
            "              precision    recall  f1-score   support\n",
            "\n",
            "           N       0.18      0.44      0.26      2304\n",
            "           Y       0.79      0.52      0.63      9572\n",
            "\n",
            "    accuracy                           0.51     11876\n",
            "   macro avg       0.49      0.48      0.44     11876\n",
            "weighted avg       0.68      0.51      0.56     11876\n",
            "\n"
          ],
          "name": "stdout"
        },
        {
          "output_type": "display_data",
          "data": {
            "image/png": "[encoded data removed]",
            "text/plain": [
              "<Figure size 360x360 with 2 Axes>"
            ]
          },
          "metadata": {
            "tags": [],
            "needs_background": "light"
          }
        }
      ]
    },
    {
      "cell_type": "markdown",
      "metadata": {
        "id": "wu_rDCQus41Y"
      },
      "source": [
        "F1-score shows an accuracy of 0.51"
      ]
    },
    {
      "cell_type": "markdown",
      "metadata": {
        "id": "MEEAd6VIti1g"
      },
      "source": [
        "### Confusion Matrix for Decision Tree"
      ]
    },
    {
      "cell_type": "code",
      "metadata": {
        "id": "rzc9tRe4ti1i",
        "outputId": "9b8967e5-524c-4f8b-9d6b-1c3f34583c76"
      },
      "source": [
        "classi_report(rfc_Count)\n",
        "plot_cm(y_test, rfc_Count)"
      ],
      "execution_count": null,
      "outputs": [
        {
          "output_type": "stream",
          "text": [
            "                 Confusion Matrix                 \n",
            "\n",
            "   N     Y\n",
            "N  0  2304\n",
            "Y  0  9572\n",
            "\n",
            "\n",
            "\n",
            "\n"
          ],
          "name": "stdout"
        },
        {
          "output_type": "stream",
          "text": [
            "/usr/local/lib/python3.7/site-packages/sklearn/metrics/_classification.py:1221: UndefinedMetricWarning:\n",
            "\n",
            "Precision and F-score are ill-defined and being set to 0.0 in labels with no predicted samples. Use `zero_division` parameter to control this behavior.\n",
            "\n"
          ],
          "name": "stderr"
        },
        {
          "output_type": "stream",
          "text": [
            "              precision    recall  f1-score   support\n",
            "\n",
            "           N       0.00      0.00      0.00      2304\n",
            "           Y       0.81      1.00      0.89      9572\n",
            "\n",
            "    accuracy                           0.81     11876\n",
            "   macro avg       0.40      0.50      0.45     11876\n",
            "weighted avg       0.65      0.81      0.72     11876\n",
            "\n"
          ],
          "name": "stdout"
        },
        {
          "output_type": "display_data",
          "data": {
            "image/png": "[encoded data removed]",
            "text/plain": [
              "<Figure size 360x360 with 2 Axes>"
            ]
          },
          "metadata": {
            "tags": [],
            "needs_background": "light"
          }
        }
      ]
    },
    {
      "cell_type": "markdown",
      "metadata": {
        "id": "v2KEYFsPuk_-"
      },
      "source": [
        "This means that there is no F-score to calculate for this label, and thus the F-score for this case is considered to be 0.0."
      ]
    },
    {
      "cell_type": "markdown",
      "metadata": {
        "id": "QN8jODh0ti1k"
      },
      "source": [
        "When true positive + false positive == 0, precision returns 0 and raises UndefinedMetricWarning. This behavior can be modified with zero_division."
      ]
    },
    {
      "cell_type": "code",
      "metadata": {
        "id": "Z7spTkODti1l",
        "outputId": "80c98afb-1c03-4320-ec3e-59a0ad702bb9"
      },
      "source": [
        "from sklearn.metrics import precision_score\n",
        "precision_score(y_test, rfc_Count, average=None, zero_division=1)"
      ],
      "execution_count": null,
      "outputs": [
        {
          "output_type": "execute_result",
          "data": {
            "text/plain": [
              "array([1.        , 0.80599528])"
            ]
          },
          "metadata": {
            "tags": []
          },
          "execution_count": 94
        }
      ]
    },
    {
      "cell_type": "markdown",
      "metadata": {
        "id": "8bGT8tG9ti1o"
      },
      "source": [
        "### Confusion Matrix for Logistic Regression"
      ]
    },
    {
      "cell_type": "code",
      "metadata": {
        "id": "VZfvrMDXti1p",
        "outputId": "7fe2cb40-cb38-4c74-f690-00a27c5b2fda"
      },
      "source": [
        "classi_report(logr_y_pred)\n",
        "plot_cm(y_test, logr_y_pred)"
      ],
      "execution_count": null,
      "outputs": [
        {
          "output_type": "stream",
          "text": [
            "                 Confusion Matrix                 \n",
            "\n",
            "   N     Y\n",
            "N  0  2304\n",
            "Y  2  9570\n",
            "\n",
            "\n",
            "\n",
            "\n",
            "              precision    recall  f1-score   support\n",
            "\n",
            "           N       0.00      0.00      0.00      2304\n",
            "           Y       0.81      1.00      0.89      9572\n",
            "\n",
            "    accuracy                           0.81     11876\n",
            "   macro avg       0.40      0.50      0.45     11876\n",
            "weighted avg       0.65      0.81      0.72     11876\n",
            "\n"
          ],
          "name": "stdout"
        },
        {
          "output_type": "display_data",
          "data": {
            "image/png": "[encoded data removed]",
            "text/plain": [
              "<Figure size 360x360 with 2 Axes>"
            ]
          },
          "metadata": {
            "tags": [],
            "needs_background": "light"
          }
        }
      ]
    },
    {
      "cell_type": "markdown",
      "metadata": {
        "id": "esVOYdcNuo65"
      },
      "source": [
        "This means that there is no F-score to calculate for this label, and thus the F-score for this case is considered to be 0.0."
      ]
    },
    {
      "cell_type": "code",
      "metadata": {
        "id": "0AYfled5ti1q",
        "outputId": "1fec08e5-6ec1-43f0-e94d-043ebeba8af7"
      },
      "source": [
        "precision_score(y_test, logr_y_pred, average=None, zero_division=1)"
      ],
      "execution_count": null,
      "outputs": [
        {
          "output_type": "execute_result",
          "data": {
            "text/plain": [
              "array([0.        , 0.80596261])"
            ]
          },
          "metadata": {
            "tags": []
          },
          "execution_count": 99
        }
      ]
    },
    {
      "cell_type": "markdown",
      "metadata": {
        "id": "TlkbZnHQti1s"
      },
      "source": [
        "### Confusion Matrix for SVM"
      ]
    },
    {
      "cell_type": "code",
      "metadata": {
        "id": "SazaE0kVti1t",
        "outputId": "c19e7db7-aae9-4d78-bbd1-3e47e218887e"
      },
      "source": [
        "classi_report(svm_Count)\n",
        "plot_cm(y_test, svm_Count)"
      ],
      "execution_count": null,
      "outputs": [
        {
          "output_type": "stream",
          "text": [
            "                 Confusion Matrix                 \n",
            "\n",
            "   N     Y\n",
            "N  0  2304\n",
            "Y  0  9572\n",
            "\n",
            "\n",
            "\n",
            "\n"
          ],
          "name": "stdout"
        },
        {
          "output_type": "stream",
          "text": [
            "/usr/local/lib/python3.7/site-packages/sklearn/metrics/_classification.py:1221: UndefinedMetricWarning:\n",
            "\n",
            "Precision and F-score are ill-defined and being set to 0.0 in labels with no predicted samples. Use `zero_division` parameter to control this behavior.\n",
            "\n"
          ],
          "name": "stderr"
        },
        {
          "output_type": "stream",
          "text": [
            "              precision    recall  f1-score   support\n",
            "\n",
            "           N       0.00      0.00      0.00      2304\n",
            "           Y       0.81      1.00      0.89      9572\n",
            "\n",
            "    accuracy                           0.81     11876\n",
            "   macro avg       0.40      0.50      0.45     11876\n",
            "weighted avg       0.65      0.81      0.72     11876\n",
            "\n"
          ],
          "name": "stdout"
        },
        {
          "output_type": "display_data",
          "data": {
            "image/png": "[encoded data removed]",
            "text/plain": [
              "<Figure size 360x360 with 2 Axes>"
            ]
          },
          "metadata": {
            "tags": [],
            "needs_background": "light"
          }
        }
      ]
    },
    {
      "cell_type": "markdown",
      "metadata": {
        "id": "JlfyTfWludGA"
      },
      "source": [
        "This means that there is no F-score to calculate for this label, and thus the F-score for this case is considered to be 0.0."
      ]
    },
    {
      "cell_type": "code",
      "metadata": {
        "id": "vyCx7mBDti1u",
        "outputId": "369d7088-95e5-414e-eab9-e97a7649ed23"
      },
      "source": [
        "precision_score(y_test, svm_Count, average=None, zero_division=1)"
      ],
      "execution_count": null,
      "outputs": [
        {
          "output_type": "execute_result",
          "data": {
            "text/plain": [
              "array([1.        , 0.80599528])"
            ]
          },
          "metadata": {
            "tags": []
          },
          "execution_count": 98
        }
      ]
    }
  ]
}